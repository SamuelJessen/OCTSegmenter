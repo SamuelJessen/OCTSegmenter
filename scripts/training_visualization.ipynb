{
 "cells": [
  {
   "cell_type": "code",
   "execution_count": null,
   "metadata": {},
   "outputs": [
    {
     "name": "stdout",
     "output_type": "stream",
     "text": [
      "Project root added to sys.path: C:\\Users\\johan\\OCTSegmenter\n"
     ]
    }
   ],
   "source": [
    "import sys\n",
    "from pathlib import Path\n",
    "# import os\n",
    "\n",
    "# os.chdir(\"c:/Users/johan/OCTSegmenter\")  # Set the working directory\n",
    "\n",
    "# Add the parent directory (OCTSegmenter) to sys.path\n",
    "#sys.path.append(str(Path().resolve()))\n",
    "#print(sys.path)  # Verify the path contains c:/Users/johan/OCTSegmenter\n",
    "\n",
    "#print(os.getcwd())\n",
    "\n",
    "# Resolve the project root (OCTSegmenter) dynamically\n",
    "project_root =   # Parent of 'scripts'\n",
    "sys.path.append(str(Path().resolve().parent))  # Add the project root to sys.path\n",
    "\n",
    "print(\"Project root added to sys.path:\", project_root)\n",
    "\n",
    "from utils.oct_dataset import OCTDataset"
   ]
  }
 ],
 "metadata": {
  "kernelspec": {
   "display_name": "dl",
   "language": "python",
   "name": "python3"
  },
  "language_info": {
   "codemirror_mode": {
    "name": "ipython",
    "version": 3
   },
   "file_extension": ".py",
   "mimetype": "text/x-python",
   "name": "python",
   "nbconvert_exporter": "python",
   "pygments_lexer": "ipython3",
   "version": "3.11.9"
  }
 },
 "nbformat": 4,
 "nbformat_minor": 2
}

{
 "cells": [
  {
   "cell_type": "code",
   "execution_count": 1,
   "metadata": {},
   "outputs": [],
   "source": [
    "import os\n",
    "import json\n",
    "import numpy as np\n",
    "from pathlib import Path\n",
    "import torch\n",
    "from torch.utils.data import Dataset, DataLoader\n",
    "from PIL import Image\n",
    "import matplotlib.pyplot as plt\n",
    "from torchvision import transforms\n",
    "\n",
    "class OCTDataset(Dataset):\n",
    "    def __init__(self, root_dir, indices=None, train=True, is_gentuity=False, transform=None):\n",
    "        \n",
    "        self.root_dir = Path(root_dir)\n",
    "        self.train = train\n",
    "        self.is_gentuity = is_gentuity\n",
    "        self.transform = transform\n",
    "        \n",
    "        if self.is_gentuity:\n",
    "            # Gentuity dataset has separate train and test folders\n",
    "            split_dir = \"train\" if self.train else \"test\"\n",
    "            self.images_dir = self.root_dir / split_dir / \"images\"\n",
    "            self.masks_dir = self.root_dir / split_dir / \"annotations\"\n",
    "            self.samples = sorted(self.images_dir.glob(\"*.tiff\"))\n",
    "        else:\n",
    "            # Terumo dataset has only train data\n",
    "            self.images_dir = self.root_dir / \"train\" / \"images\"\n",
    "            self.masks_dir = self.root_dir / \"train\" / \"annotations\"\n",
    "            self.samples = sorted(self.images_dir.glob(\"*.tiff\"))\n",
    "        \n",
    "        # Filter image paths using indices if provided\n",
    "        if indices is not None:\n",
    "            self.samples = [self.samples[i] for i in indices]\n",
    "        \n",
    "        else:\n",
    "            self.samples = sorted(self.images_dir.glob(\"*.tiff\"))\n",
    "            \n",
    "    def __len__(self):\n",
    "        return len(self.samples)\n",
    "\n",
    "    def __getitem__(self, idx):\n",
    "        # Load the image\n",
    "        image_path = self.samples[idx]\n",
    "        image = Image.open(image_path).convert(\"RGB\")  # Keep it as a PIL Image\n",
    "        # Get image height and width\n",
    "        width, height = image.size\n",
    "\n",
    "        # Load the corresponding mask\n",
    "        mask_path = self.masks_dir / f\"{image_path.stem}.json\"\n",
    "        with open(mask_path, \"r\") as f:\n",
    "            mask_data = json.load(f)\n",
    "        \n",
    "        # Create a binary mask (0 and 1 values)\n",
    "        mask = np.zeros((height, width), dtype=np.uint8)  # image.size gives (width, height)\n",
    "        for coord in mask_data[\"mask\"]:\n",
    "            x, y = coord\n",
    "            if 0 <= x < mask.shape[0] and 0 <= y < mask.shape[1]:\n",
    "                mask[x, y] = 1\n",
    "        \n",
    "        mask = np.clip(mask, 0, 1).astype(np.uint8)\n",
    "        \n",
    "        mask = Image.fromarray(mask*255)\n",
    "        \n",
    "        # Apply the transformation if available\n",
    "        if self.transform:\n",
    "            # Convert image and mask to Tensor\n",
    "            image = self.transform(image)\n",
    "            mask = self.transform(mask)\n",
    "        \n",
    "        # Add channel dimension for mask\n",
    "        mask = mask.unsqueeze(0) if len(mask.shape) == 2 else mask  # Add channel if needed\n",
    "\n",
    "        unique_id = mask_data[\"unique_id\"]\n",
    "        \n",
    "        return image, mask, image_path.stem, unique_id  # Returning image filename too"
   ]
  },
  {
   "cell_type": "code",
   "execution_count": 2,
   "metadata": {},
   "outputs": [],
   "source": [
    "import torch.nn as nn\n",
    "import torch.nn.functional as F\n",
    "\n",
    "class AttentionBlock(nn.Module):\n",
    "    def __init__(self, in_channels):\n",
    "        super(AttentionBlock, self).__init__()\n",
    "        self.conv1 = nn.Conv2d(in_channels, in_channels // 8, kernel_size=1)\n",
    "        self.conv2 = nn.Conv2d(in_channels // 8, in_channels, kernel_size=1)\n",
    "        self.sigmoid = nn.Sigmoid()\n",
    "\n",
    "    def forward(self, x):\n",
    "        # Compute the attention weights\n",
    "        attention = self.sigmoid(self.conv2(self.sigmoid(self.conv1(x))))\n",
    "        return x * attention  # Element-wise multiplication\n",
    "\n",
    "# Define a large U-Net model with Attn\n",
    "class Net(nn.Module):\n",
    "    def __init__(self, input_channels=3, output_channels=1, initial_filters=64):\n",
    "        super(Net, self).__init__()\n",
    "\n",
    "        self.encoder1 = self.conv_block(input_channels, initial_filters)\n",
    "        self.encoder2 = self.conv_block(initial_filters, initial_filters * 2)\n",
    "        self.encoder3 = self.conv_block(initial_filters * 2, initial_filters * 4)\n",
    "        self.encoder4 = self.conv_block(initial_filters * 4, initial_filters * 8)\n",
    "        self.encoder5 = self.conv_block(initial_filters * 8, initial_filters * 16)\n",
    "\n",
    "        self.pool = nn.MaxPool2d(2)\n",
    "\n",
    "        # Adjusting channels to match attention input\n",
    "        self.upconv5 = nn.ConvTranspose2d(initial_filters * 16, initial_filters * 8, kernel_size=2, stride=2)\n",
    "        self.attn5 = AttentionBlock(initial_filters * 16)  # Updated input channels\n",
    "        self.decoder5 = self.conv_block(initial_filters * 16, initial_filters * 8)\n",
    "\n",
    "        self.upconv4 = nn.ConvTranspose2d(initial_filters * 8, initial_filters * 4, kernel_size=2, stride=2)\n",
    "        self.attn4 = AttentionBlock(initial_filters * 8)  # Updated input channels\n",
    "        self.decoder4 = self.conv_block(initial_filters * 8, initial_filters * 4)\n",
    "\n",
    "        self.upconv3 = nn.ConvTranspose2d(initial_filters * 4, initial_filters * 2, kernel_size=2, stride=2)\n",
    "        self.attn3 = AttentionBlock(initial_filters * 4)  # Updated input channels\n",
    "        self.decoder3 = self.conv_block(initial_filters * 4, initial_filters * 2)\n",
    "\n",
    "        self.upconv2 = nn.ConvTranspose2d(initial_filters * 2, initial_filters, kernel_size=2, stride=2)\n",
    "        self.attn2 = AttentionBlock(initial_filters * 2)  # Updated input channels\n",
    "        self.decoder2 = self.conv_block(initial_filters * 2, initial_filters)\n",
    "\n",
    "        self.final_conv = nn.Conv2d(initial_filters, output_channels, kernel_size=1)\n",
    "\n",
    "    def conv_block(self, in_channels, out_channels):\n",
    "        return nn.Sequential(\n",
    "            nn.Conv2d(in_channels, out_channels, kernel_size=3, padding=1),\n",
    "            nn.BatchNorm2d(out_channels),\n",
    "            nn.ReLU(inplace=True),\n",
    "            nn.Conv2d(out_channels, out_channels, kernel_size=3, padding=1),\n",
    "            nn.BatchNorm2d(out_channels),\n",
    "            nn.ReLU(inplace=True)\n",
    "        )\n",
    "\n",
    "    def forward(self, x):\n",
    "        # Encoding path\n",
    "        e1 = self.encoder1(x)\n",
    "        e2 = self.encoder2(self.pool(e1))\n",
    "        e3 = self.encoder3(self.pool(e2))\n",
    "        e4 = self.encoder4(self.pool(e3))\n",
    "        e5 = self.encoder5(self.pool(e4))\n",
    "\n",
    "        # Decoding path with skip connections and attention\n",
    "        d5 = torch.cat((self.upconv5(e5), e4), dim=1)\n",
    "        d5 = self.attn5(d5)  # Apply attention\n",
    "        d5 = self.decoder5(d5)\n",
    "\n",
    "        d4 = torch.cat((self.upconv4(d5), e3), dim=1)\n",
    "        d4 = self.attn4(d4)  # Apply attention\n",
    "        d4 = self.decoder4(d4)\n",
    "\n",
    "        d3 = torch.cat((self.upconv3(d4), e2), dim=1)\n",
    "        d3 = self.attn3(d3)  # Apply attention\n",
    "        d3 = self.decoder3(d3)\n",
    "\n",
    "        d2 = torch.cat((self.upconv2(d3), e1), dim=1)\n",
    "        d2 = self.attn2(d2)  # Apply attention\n",
    "        d2 = self.decoder2(d2)\n",
    "\n",
    "        # Final output layer\n",
    "        out = self.final_conv(d2)\n",
    "\n",
    "        return torch.sigmoid(out)  # Assuming binary segmentation\n",
    "\n",
    "class DiceLoss(nn.Module):\n",
    "    def __init__(self, weight=None, size_average=True):\n",
    "        super(DiceLoss, self).__init__()\n",
    "\n",
    "    def forward(self, inputs, targets, smooth=1):   \n",
    "        #flatten label and prediction tensors\n",
    "        inputs = inputs.view(-1)\n",
    "        targets = targets.view(-1)\n",
    "        \n",
    "        # Calculate intersection and union\n",
    "        intersection = torch.sum(inputs * targets)\n",
    "        union = torch.sum(inputs) + torch.sum(targets)\n",
    "\n",
    "        # Compute Dice Loss\n",
    "        dice_loss = 1 - (2. * intersection + smooth) / (union + smooth)  \n",
    "        \n",
    "        return dice_loss\n",
    "\n",
    "class DiceBCELoss(nn.Module):\n",
    "    def __init__(self, weight=None, size_average=True):\n",
    "        super(DiceBCELoss, self).__init__()\n",
    "        self.bce_loss = nn.BCELoss()\n",
    "\n",
    "    def forward(self, inputs, targets, smooth=1): \n",
    "        #flatten label and prediction tensors\n",
    "        inputs_flatten = inputs.view(-1)\n",
    "        targets_flatten = targets.view(-1)\n",
    "        \n",
    "        # Calculate intersection and union\n",
    "        intersection = torch.sum(inputs_flatten * targets_flatten)\n",
    "        union = torch.sum(inputs_flatten) + torch.sum(targets_flatten)\n",
    "\n",
    "        # Compute BCE Loss\n",
    "        bce = self.bce_loss(inputs, targets)\n",
    "\n",
    "        # Compute Dice Loss\n",
    "        dice_loss = 1 - (2. * intersection + smooth) / (union + smooth)  \n",
    "        Dice_BCE = bce + dice_loss\n",
    "        \n",
    "        return Dice_BCE"
   ]
  },
  {
   "cell_type": "code",
   "execution_count": null,
   "metadata": {},
   "outputs": [],
   "source": [
    "import numpy as np\n",
    "import os\n",
    "import tempfile\n",
    "import torch\n",
    "import torch.nn as nn\n",
    "import torch.nn.functional as F\n",
    "import torch.optim as optim\n",
    "from filelock import FileLock\n",
    "from torch.utils.data import random_split\n",
    "import torchvision\n",
    "import torchvision.transforms as transforms\n",
    "from typing import Dict\n",
    "import ray\n",
    "from ray import train, tune\n",
    "from ray.train import Checkpoint\n",
    "from ray.tune.schedulers import ASHAScheduler\n",
    "from ray import tune, air\n",
    "from ray.air import session\n",
    "from ray.tune.search.optuna import OptunaSearch\n",
    "from tqdm import tqdm\n",
    "import pandas as pd\n",
    "from sklearn.model_selection import StratifiedKFold\n",
    "import neptune\n",
    "os.environ[\"TUNE_WARN_EXCESSIVE_EXPERIMENT_CHECKPOINT_SYNC_THRESHOLD_S\"] = \"0\"\n",
    "\n",
    "def train_model_cv(config):\n",
    "    \n",
    "    # Initialize Neptune run\n",
    "    run = neptune.init_run(\n",
    "        project=\"OCTAA/OCTSegmenter\",\n",
    "        api_token=\"eyJhcGlfYWRkcmVzcyI6Imh0dHBzOi8vYXBwLm5lcHR1bmUuYWkiLCJhcGlfdXJsIjoiaHR0cHM6Ly9hcHAubmVwdHVuZS5haSIsImFwaV9rZXkiOiI2MGU2NGNjMi0yNWE0LTRjNzgtOGNlNS1hZDdkMjJhYzYxMWUifQ==\",\n",
    "        name=\"training_and_validation\",\n",
    "        tags=\"terumo\",\n",
    "    )  # your credentials\n",
    "\n",
    "    run[\"sys/group_tags\"].add([\n",
    "        str(config[\"loss_function\"]), \n",
    "        str(config[\"optimizer\"]), \n",
    "        f\"Fold: {str(config['fold'])}\"\n",
    "    ])  # Group tags\n",
    "\n",
    "    # Log configuration parameters\n",
    "    run[\"parameters\"] = config\n",
    "\n",
    "    if torch.cuda.is_available():\n",
    "        device = torch.device(\"cuda:0\")\n",
    "    else:\n",
    "        device = torch.device(\"cpu\")\n",
    "    net = Net().to(device)\n",
    "\n",
    "    # Select optimizer based on the configuration\n",
    "    if config[\"optimizer\"] == \"AdamW\":\n",
    "        optimizer = optim.AdamW(net.parameters(), lr=config[\"lr\"])\n",
    "    elif config[\"optimizer\"] == \"SGD\":\n",
    "        optimizer = optim.SGD(net.parameters(), lr=config[\"lr\"], momentum=0.9)\n",
    "    elif config[\"optimizer\"] == \"RMSprop\":\n",
    "        optimizer = optim.RMSprop(net.parameters(), lr=config[\"lr\"])\n",
    "\n",
    "    # Select loss function based on the configuration\n",
    "    if config[\"loss_function\"] == \"DiceLoss\":\n",
    "        criterion = DiceLoss()\n",
    "    elif config[\"loss_function\"] == \"DiceBCELoss\":\n",
    "        criterion = DiceBCELoss()\n",
    "    elif config[\"loss_function\"] == \"BCELoss\":\n",
    "        criterion = nn.BCELoss()\n",
    "\n",
    "    transform = transforms.Compose([\n",
    "        transforms.Resize((256, 256), interpolation=Image.NEAREST),\n",
    "        transforms.ToTensor(),\n",
    "    ])\n",
    "\n",
    "    # Load existing checkpoint through `get_checkpoint()` API.\n",
    "    if train.get_checkpoint():\n",
    "        loaded_checkpoint = train.get_checkpoint()\n",
    "        with loaded_checkpoint.as_directory() as loaded_checkpoint_dir:\n",
    "            model_state, optimizer_state = torch.load(\n",
    "                os.path.join(loaded_checkpoint_dir, \"checkpoint.pt\")\n",
    "            )\n",
    "            net.load_state_dict(model_state)\n",
    "            optimizer.load_state_dict(optimizer_state)\n",
    "\n",
    "    root_dir = config[\"root_dir\"]\n",
    "    folds= config[\"folds\"]\n",
    "    \n",
    "    with open(os.path.join(root_dir, \"metadata.csv\"), \"r\") as f:\n",
    "        metadata_df = pd.read_csv(f)\n",
    "        skf = StratifiedKFold(n_splits=folds)\n",
    "        splits = list(skf.split(metadata_df, metadata_df[\"unique_id\"]))\n",
    "\n",
    "    fold = config[\"fold\"]\n",
    "    train_indices, val_indices = splits[fold]\n",
    "\n",
    "    train_dataset = OCTDataset(root_dir, indices=train_indices, transform=transform)\n",
    "    val_dataset = OCTDataset(root_dir, indices=val_indices, transform=transform)\n",
    "\n",
    "    trainloader = DataLoader(train_dataset, batch_size=config[\"batch_size\"], shuffle=True)\n",
    "    valloader = DataLoader(val_dataset, batch_size=config[\"batch_size\"], shuffle=False)\n",
    "\n",
    "    # Train and validate the model\n",
    "    print(f\"Training on fold {fold}\")\n",
    "    \n",
    "    best_val_loss = float(\"inf\")\n",
    "    epochs = config[\"epochs\"]\n",
    "    no_improvement_epochs = 0\n",
    "    patience = config[\"patience\"]\n",
    "\n",
    "    for epoch in range(epochs):\n",
    "        net.train()\n",
    "        running_loss = 0.0\n",
    "        epoch_steps= 0\n",
    "\n",
    "        for i, data in enumerate(trainloader):\n",
    "            images, masks, _, _ = data\n",
    "            images, masks = images.to(device), masks.to(device)\n",
    "\n",
    "            optimizer.zero_grad()\n",
    "            outputs = net(images)\n",
    "            loss = criterion(outputs, masks)\n",
    "            loss.backward()\n",
    "            optimizer.step()\n",
    "\n",
    "            running_loss += loss.item() * images.size(0)\n",
    "\n",
    "            epoch_steps += 1\n",
    "            if i % 10 == 9:  # print every 10 mini-batches\n",
    "                print(\"[%d, %5d] loss: %.3f\" % (epoch + 1, i + 1,\n",
    "                                                loss.item()))\n",
    "\n",
    "\n",
    "        # Calculate training loss and accuracy for the epoch\n",
    "        train_loss = running_loss / len(trainloader.dataset)\n",
    "        run[\"train_loss\"].append(train_loss)  # Log training loss\n",
    "        print(f\"Epoch [{epoch+1}/{epochs}], Training Loss: {train_loss:.4f}\")\n",
    "\n",
    "        # Validation phase\n",
    "        net.eval()\n",
    "        val_loss = 0.0\n",
    "        dice_loss = 0.0\n",
    "\n",
    "        with torch.no_grad():  # No need to calculate gradients during validation\n",
    "            for data in valloader:\n",
    "                images, masks, _, _ = data\n",
    "                images, masks = images.to(device), masks.to(device)\n",
    "\n",
    "                outputs = net(images)\n",
    "                loss = criterion(outputs, masks)\n",
    "                val_loss += loss.item() * images.size(0)\n",
    "\n",
    "                # Calculate Dice loss\n",
    "                dice = DiceLoss()\n",
    "                loss = dice(outputs, masks)\n",
    "                dice_loss += loss.item() * images.size(0)\n",
    "        \n",
    "        # Calculate validation loss and accuracy\n",
    "        val_loss = val_loss / len(valloader.dataset)\n",
    "        avg_dice_loss = dice_loss / len(valloader.dataset)\n",
    "        run[\"val_loss\"].append(val_loss)  # Log validation loss\n",
    "        run[\"dice_loss\"].append(avg_dice_loss)  # Log Dice loss\n",
    "        print(f\"Epoch [{epoch+1}/{epochs}], Validation Loss: {val_loss:.4f}\")\n",
    "\n",
    "        with tempfile.TemporaryDirectory() as temp_checkpoint_dir:\n",
    "            path = os.path.join(temp_checkpoint_dir, \"checkpoint.pt\")\n",
    "            torch.save(\n",
    "                (net.state_dict(), optimizer.state_dict()), path\n",
    "            )\n",
    "            checkpoint = Checkpoint.from_directory(temp_checkpoint_dir)\n",
    "            train.report(\n",
    "                {\"loss\": val_loss, \"accuracy\": 1 - avg_dice_loss, \"dice_loss\": avg_dice_loss},\n",
    "                checkpoint=checkpoint,\n",
    "            )\n",
    "\n",
    "        # Check if validation loss improves\n",
    "        if val_loss < best_val_loss:\n",
    "            best_val_loss = val_loss\n",
    "            no_improvement_epochs = 0\n",
    "            print(f\"Validation loss improved to {val_loss:.4f}. Saving checkpoint.\")\n",
    "            \n",
    "        else:\n",
    "            no_improvement_epochs += 1\n",
    "            print(f\"Validation loss did not improve. Best so far: {best_val_loss:.4f}\")\n",
    "        \n",
    "        if no_improvement_epochs >= patience:\n",
    "            print(f\"Stopping early. No improvement in {patience} epochs.\")\n",
    "            run[\"early_stopping\"] = True\n",
    "            break\n",
    "\n",
    "    run.stop()\n",
    "    print(\"Finished Training\")\n",
    "    \n",
    "def test_best_model(best_result):\n",
    "    \n",
    "    # Initialize Neptune run\n",
    "    run = neptune.init_run(\n",
    "        project=\"OCTAA/OCTSegmenter\",\n",
    "        api_token=\"eyJhcGlfYWRkcmVzcyI6Imh0dHBzOi8vYXBwLm5lcHR1bmUuYWkiLCJhcGlfdXJsIjoiaHR0cHM6Ly9hcHAubmVwdHVuZS5haSIsImFwaV9rZXkiOiI2MGU2NGNjMi0yNWE0LTRjNzgtOGNlNS1hZDdkMjJhYzYxMWUifQ==\",\n",
    "        name=\"best_model_test\",\n",
    "        tags=\"gentuity\"  \n",
    "    )  # your credentials\n",
    "\n",
    "    # Log configuration parameters\n",
    "    run[\"parameters\"] = best_result.config\n",
    "\n",
    "    if torch.cuda.is_available():\n",
    "        device = torch.device(\"cuda:0\")\n",
    "    else:\n",
    "        device = torch.device(\"cpu\")\n",
    "    best_trained_model = Net().to(device)\n",
    "\n",
    "    checkpoint_path = os.path.join(best_result.checkpoint.to_directory(), \"checkpoint.pt\")\n",
    "\n",
    "    model_state, optimizer_state = torch.load(checkpoint_path, weights_only=True)\n",
    "    best_trained_model.load_state_dict(model_state)\n",
    "\n",
    "    transform = transforms.Compose([\n",
    "        transforms.Resize((256, 256), interpolation=Image.NEAREST),\n",
    "        transforms.ToTensor(),\n",
    "    ])\n",
    "\n",
    "    root_dir = r\"D:\\OneDrive - Aarhus Universitet\\9. Semester\\Deep Learning\\data_gentuity\"\n",
    "\n",
    "    test_dataset = OCTDataset(root_dir, transform=transform, train=False, is_gentuity=True)\n",
    "    testloader = DataLoader(test_dataset, batch_size=best_result.config[\"batch_size\"], shuffle=False)\n",
    "\n",
    "    criterion = DiceLoss()\n",
    "\n",
    "    total_loss = 0.0\n",
    "    with torch.no_grad():  # Disable gradient calculation\n",
    "        for data in testloader:\n",
    "            images, masks, _, _ = data\n",
    "            images, masks = images.to(device), masks.to(device)\n",
    "\n",
    "            outputs = best_trained_model(images)\n",
    "            predicted = (outputs > 0.5).float()\n",
    "            loss = criterion(predicted, masks)\n",
    "            total_loss += loss.item() * images.size(0)\n",
    "\n",
    "    # Calculate average loss and accuracy\n",
    "    total_loss /= len(testloader.dataset)\n",
    "    accuracy = 1 - loss\n",
    "\n",
    "    run[\"test_loss\"] = total_loss\n",
    "    run.stop()\n",
    "    print(f\"Test Loss: {total_loss:.4f}, Test Accuracy: {accuracy:.4f}\")"
   ]
  },
  {
   "cell_type": "code",
   "execution_count": null,
   "metadata": {},
   "outputs": [
    {
     "data": {
      "text/html": [
       "<div class=\"tuneStatus\">\n",
       "  <div style=\"display: flex;flex-direction: row\">\n",
       "    <div style=\"display: flex;flex-direction: column;\">\n",
       "      <h3>Tune Status</h3>\n",
       "      <table>\n",
       "<tbody>\n",
       "<tr><td>Current time:</td><td>2024-11-26 19:31:42</td></tr>\n",
       "<tr><td>Running for: </td><td>01:00:56.86        </td></tr>\n",
       "<tr><td>Memory:      </td><td>10.9/15.9 GiB      </td></tr>\n",
       "</tbody>\n",
       "</table>\n",
       "    </div>\n",
       "    <div class=\"vDivider\"></div>\n",
       "    <div class=\"systemInfo\">\n",
       "      <h3>System Info</h3>\n",
       "      Using AsyncHyperBand: num_stopped=39<br>Bracket: Iter 4.000: -0.253855115837521 | Iter 2.000: -0.6041692660914527 | Iter 1.000: -0.8650468223624759<br>Logical resource usage: 2.0/8 CPUs, 1.0/1 GPUs (0.0/1.0 accelerator_type:G)\n",
       "    </div>\n",
       "    <div class=\"vDivider\"></div>\n",
       "<div class=\"messages\">\n",
       "  <h3>Messages</h3>\n",
       "  \n",
       "  \n",
       "  Number of errored trials: 6<br><table>\n",
       "<thead>\n",
       "<tr><th>Trial name                </th><th style=\"text-align: right;\">  # failures</th><th>error file                                                                                                                                                                                                              </th></tr>\n",
       "</thead>\n",
       "<tbody>\n",
       "<tr><td>train_model_cv_2b60a_00039</td><td style=\"text-align: right;\">           1</td><td>C:/Users/johan/AppData/Local/Temp/ray/session_2024-11-26_18-30-35_836306_12900/artifacts/2024-11-26_18-30-45/train_model_cv_2024-11-26_18-30-35/driver_artifacts/trial_2b60a_00039_lr=1.0e-04_opt=RMSprop_bs=4/error.txt</td></tr>\n",
       "<tr><td>train_model_cv_2b60a_00040</td><td style=\"text-align: right;\">           1</td><td>C:/Users/johan/AppData/Local/Temp/ray/session_2024-11-26_18-30-35_836306_12900/artifacts/2024-11-26_18-30-45/train_model_cv_2024-11-26_18-30-35/driver_artifacts/trial_2b60a_00040_lr=1.0e-04_opt=RMSprop_bs=4/error.txt</td></tr>\n",
       "<tr><td>train_model_cv_2b60a_00041</td><td style=\"text-align: right;\">           1</td><td>C:/Users/johan/AppData/Local/Temp/ray/session_2024-11-26_18-30-35_836306_12900/artifacts/2024-11-26_18-30-45/train_model_cv_2024-11-26_18-30-35/driver_artifacts/trial_2b60a_00041_lr=1.0e-04_opt=RMSprop_bs=4/error.txt</td></tr>\n",
       "<tr><td>train_model_cv_2b60a_00042</td><td style=\"text-align: right;\">           1</td><td>C:/Users/johan/AppData/Local/Temp/ray/session_2024-11-26_18-30-35_836306_12900/artifacts/2024-11-26_18-30-45/train_model_cv_2024-11-26_18-30-35/driver_artifacts/trial_2b60a_00042_lr=1.0e-04_opt=RMSprop_bs=4/error.txt</td></tr>\n",
       "<tr><td>train_model_cv_2b60a_00043</td><td style=\"text-align: right;\">           1</td><td>C:/Users/johan/AppData/Local/Temp/ray/session_2024-11-26_18-30-35_836306_12900/artifacts/2024-11-26_18-30-45/train_model_cv_2024-11-26_18-30-35/driver_artifacts/trial_2b60a_00043_lr=1.0e-04_opt=RMSprop_bs=4/error.txt</td></tr>\n",
       "<tr><td>train_model_cv_2b60a_00044</td><td style=\"text-align: right;\">           1</td><td>C:/Users/johan/AppData/Local/Temp/ray/session_2024-11-26_18-30-35_836306_12900/artifacts/2024-11-26_18-30-45/train_model_cv_2024-11-26_18-30-35/driver_artifacts/trial_2b60a_00044_lr=1.0e-04_opt=RMSprop_bs=4/error.txt</td></tr>\n",
       "</tbody>\n",
       "</table>\n",
       "</div>\n",
       "<style>\n",
       ".messages {\n",
       "  color: var(--jp-ui-font-color1);\n",
       "  display: flex;\n",
       "  flex-direction: column;\n",
       "  padding-left: 1em;\n",
       "  overflow-y: auto;\n",
       "}\n",
       ".messages h3 {\n",
       "  font-weight: bold;\n",
       "}\n",
       ".vDivider {\n",
       "  border-left-width: var(--jp-border-width);\n",
       "  border-left-color: var(--jp-border-color0);\n",
       "  border-left-style: solid;\n",
       "  margin: 0.5em 1em 0.5em 1em;\n",
       "}\n",
       "</style>\n",
       "\n",
       "  </div>\n",
       "  <div class=\"hDivider\"></div>\n",
       "  <div class=\"trialStatus\">\n",
       "    <h3>Trial Status</h3>\n",
       "    <table>\n",
       "<thead>\n",
       "<tr><th>Trial name                </th><th>status    </th><th>loc            </th><th style=\"text-align: right;\">  batch_size</th><th style=\"text-align: right;\">  fold</th><th>loss_function  </th><th>optimizer  </th><th style=\"text-align: right;\">  iter</th><th style=\"text-align: right;\">  total time (s)</th><th style=\"text-align: right;\">    loss</th><th style=\"text-align: right;\">  accuracy</th><th style=\"text-align: right;\">  dice_loss</th></tr>\n",
       "</thead>\n",
       "<tbody>\n",
       "<tr><td>train_model_cv_2b60a_00000</td><td>TERMINATED</td><td>127.0.0.1:5520 </td><td style=\"text-align: right;\">           4</td><td style=\"text-align: right;\">     0</td><td>DiceLoss       </td><td>AdamW      </td><td style=\"text-align: right;\">     5</td><td style=\"text-align: right;\">        165.056 </td><td style=\"text-align: right;\">0.699265</td><td style=\"text-align: right;\">  0.300735</td><td style=\"text-align: right;\">   0.699265</td></tr>\n",
       "<tr><td>train_model_cv_2b60a_00001</td><td>TERMINATED</td><td>127.0.0.1:20120</td><td style=\"text-align: right;\">           4</td><td style=\"text-align: right;\">     1</td><td>DiceLoss       </td><td>AdamW      </td><td style=\"text-align: right;\">     1</td><td style=\"text-align: right;\">         31.5068</td><td style=\"text-align: right;\">0.866816</td><td style=\"text-align: right;\">  0.133184</td><td style=\"text-align: right;\">   0.866816</td></tr>\n",
       "<tr><td>train_model_cv_2b60a_00002</td><td>TERMINATED</td><td>127.0.0.1:3500 </td><td style=\"text-align: right;\">           4</td><td style=\"text-align: right;\">     2</td><td>DiceLoss       </td><td>AdamW      </td><td style=\"text-align: right;\">     1</td><td style=\"text-align: right;\">         31.846 </td><td style=\"text-align: right;\">0.875429</td><td style=\"text-align: right;\">  0.124571</td><td style=\"text-align: right;\">   0.875429</td></tr>\n",
       "<tr><td>train_model_cv_2b60a_00003</td><td>TERMINATED</td><td>127.0.0.1:3332 </td><td style=\"text-align: right;\">           4</td><td style=\"text-align: right;\">     3</td><td>DiceLoss       </td><td>AdamW      </td><td style=\"text-align: right;\">     5</td><td style=\"text-align: right;\">        147.815 </td><td style=\"text-align: right;\">0.718377</td><td style=\"text-align: right;\">  0.281623</td><td style=\"text-align: right;\">   0.718377</td></tr>\n",
       "<tr><td>train_model_cv_2b60a_00004</td><td>TERMINATED</td><td>127.0.0.1:18444</td><td style=\"text-align: right;\">           4</td><td style=\"text-align: right;\">     4</td><td>DiceLoss       </td><td>AdamW      </td><td style=\"text-align: right;\">     1</td><td style=\"text-align: right;\">         31.7706</td><td style=\"text-align: right;\">0.86799 </td><td style=\"text-align: right;\">  0.13201 </td><td style=\"text-align: right;\">   0.86799 </td></tr>\n",
       "<tr><td>train_model_cv_2b60a_00005</td><td>TERMINATED</td><td>127.0.0.1:3628 </td><td style=\"text-align: right;\">           4</td><td style=\"text-align: right;\">     0</td><td>BCELoss        </td><td>AdamW      </td><td style=\"text-align: right;\">     5</td><td style=\"text-align: right;\">        152.064 </td><td style=\"text-align: right;\">0.238689</td><td style=\"text-align: right;\">  0.761311</td><td style=\"text-align: right;\">   0.650008</td></tr>\n",
       "<tr><td>train_model_cv_2b60a_00006</td><td>TERMINATED</td><td>127.0.0.1:23724</td><td style=\"text-align: right;\">           4</td><td style=\"text-align: right;\">     1</td><td>BCELoss        </td><td>AdamW      </td><td style=\"text-align: right;\">     5</td><td style=\"text-align: right;\">        147.049 </td><td style=\"text-align: right;\">0.288937</td><td style=\"text-align: right;\">  0.711063</td><td style=\"text-align: right;\">   0.651141</td></tr>\n",
       "<tr><td>train_model_cv_2b60a_00007</td><td>TERMINATED</td><td>127.0.0.1:4636 </td><td style=\"text-align: right;\">           4</td><td style=\"text-align: right;\">     2</td><td>BCELoss        </td><td>AdamW      </td><td style=\"text-align: right;\">     5</td><td style=\"text-align: right;\">        151.733 </td><td style=\"text-align: right;\">0.215797</td><td style=\"text-align: right;\">  0.784203</td><td style=\"text-align: right;\">   0.619922</td></tr>\n",
       "<tr><td>train_model_cv_2b60a_00008</td><td>TERMINATED</td><td>127.0.0.1:22432</td><td style=\"text-align: right;\">           4</td><td style=\"text-align: right;\">     3</td><td>BCELoss        </td><td>AdamW      </td><td style=\"text-align: right;\">     5</td><td style=\"text-align: right;\">        150.554 </td><td style=\"text-align: right;\">0.208462</td><td style=\"text-align: right;\">  0.791538</td><td style=\"text-align: right;\">   0.652155</td></tr>\n",
       "<tr><td>train_model_cv_2b60a_00009</td><td>TERMINATED</td><td>127.0.0.1:15932</td><td style=\"text-align: right;\">           4</td><td style=\"text-align: right;\">     4</td><td>BCELoss        </td><td>AdamW      </td><td style=\"text-align: right;\">     5</td><td style=\"text-align: right;\">        149.774 </td><td style=\"text-align: right;\">0.162899</td><td style=\"text-align: right;\">  0.837101</td><td style=\"text-align: right;\">   0.585676</td></tr>\n",
       "<tr><td>train_model_cv_2b60a_00010</td><td>TERMINATED</td><td>127.0.0.1:22408</td><td style=\"text-align: right;\">           4</td><td style=\"text-align: right;\">     0</td><td>DiceBCELoss    </td><td>AdamW      </td><td style=\"text-align: right;\">     1</td><td style=\"text-align: right;\">         31.9076</td><td style=\"text-align: right;\">1.3702  </td><td style=\"text-align: right;\"> -0.3702  </td><td style=\"text-align: right;\">   0.877126</td></tr>\n",
       "<tr><td>train_model_cv_2b60a_00011</td><td>TERMINATED</td><td>127.0.0.1:14692</td><td style=\"text-align: right;\">           4</td><td style=\"text-align: right;\">     1</td><td>DiceBCELoss    </td><td>AdamW      </td><td style=\"text-align: right;\">     1</td><td style=\"text-align: right;\">         34.1305</td><td style=\"text-align: right;\">1.36271 </td><td style=\"text-align: right;\"> -0.362706</td><td style=\"text-align: right;\">   0.874523</td></tr>\n",
       "<tr><td>train_model_cv_2b60a_00012</td><td>TERMINATED</td><td>127.0.0.1:6492 </td><td style=\"text-align: right;\">           4</td><td style=\"text-align: right;\">     2</td><td>DiceBCELoss    </td><td>AdamW      </td><td style=\"text-align: right;\">     1</td><td style=\"text-align: right;\">         34.5073</td><td style=\"text-align: right;\">1.36647 </td><td style=\"text-align: right;\"> -0.366467</td><td style=\"text-align: right;\">   0.872656</td></tr>\n",
       "<tr><td>train_model_cv_2b60a_00013</td><td>TERMINATED</td><td>127.0.0.1:12180</td><td style=\"text-align: right;\">           4</td><td style=\"text-align: right;\">     3</td><td>DiceBCELoss    </td><td>AdamW      </td><td style=\"text-align: right;\">     1</td><td style=\"text-align: right;\">         33.8109</td><td style=\"text-align: right;\">1.35782 </td><td style=\"text-align: right;\"> -0.35782 </td><td style=\"text-align: right;\">   0.87788 </td></tr>\n",
       "<tr><td>train_model_cv_2b60a_00014</td><td>TERMINATED</td><td>127.0.0.1:1636 </td><td style=\"text-align: right;\">           4</td><td style=\"text-align: right;\">     4</td><td>DiceBCELoss    </td><td>AdamW      </td><td style=\"text-align: right;\">     1</td><td style=\"text-align: right;\">         31.9391</td><td style=\"text-align: right;\">1.35938 </td><td style=\"text-align: right;\"> -0.359376</td><td style=\"text-align: right;\">   0.871983</td></tr>\n",
       "<tr><td>train_model_cv_2b60a_00015</td><td>TERMINATED</td><td>127.0.0.1:16424</td><td style=\"text-align: right;\">           4</td><td style=\"text-align: right;\">     0</td><td>DiceLoss       </td><td>SGD        </td><td style=\"text-align: right;\">     1</td><td style=\"text-align: right;\">         32.5519</td><td style=\"text-align: right;\">0.867211</td><td style=\"text-align: right;\">  0.132789</td><td style=\"text-align: right;\">   0.867211</td></tr>\n",
       "<tr><td>train_model_cv_2b60a_00016</td><td>TERMINATED</td><td>127.0.0.1:4424 </td><td style=\"text-align: right;\">           4</td><td style=\"text-align: right;\">     1</td><td>DiceLoss       </td><td>SGD        </td><td style=\"text-align: right;\">     2</td><td style=\"text-align: right;\">         57.6454</td><td style=\"text-align: right;\">0.833563</td><td style=\"text-align: right;\">  0.166437</td><td style=\"text-align: right;\">   0.833563</td></tr>\n",
       "<tr><td>train_model_cv_2b60a_00017</td><td>TERMINATED</td><td>127.0.0.1:12428</td><td style=\"text-align: right;\">           4</td><td style=\"text-align: right;\">     2</td><td>DiceLoss       </td><td>SGD        </td><td style=\"text-align: right;\">     2</td><td style=\"text-align: right;\">         58.2532</td><td style=\"text-align: right;\">0.833056</td><td style=\"text-align: right;\">  0.166944</td><td style=\"text-align: right;\">   0.833056</td></tr>\n",
       "<tr><td>train_model_cv_2b60a_00018</td><td>TERMINATED</td><td>127.0.0.1:11860</td><td style=\"text-align: right;\">           4</td><td style=\"text-align: right;\">     3</td><td>DiceLoss       </td><td>SGD        </td><td style=\"text-align: right;\">     2</td><td style=\"text-align: right;\">         56.7329</td><td style=\"text-align: right;\">0.833973</td><td style=\"text-align: right;\">  0.166027</td><td style=\"text-align: right;\">   0.833973</td></tr>\n",
       "<tr><td>train_model_cv_2b60a_00019</td><td>TERMINATED</td><td>127.0.0.1:21272</td><td style=\"text-align: right;\">           4</td><td style=\"text-align: right;\">     4</td><td>DiceLoss       </td><td>SGD        </td><td style=\"text-align: right;\">     2</td><td style=\"text-align: right;\">         57.3566</td><td style=\"text-align: right;\">0.838832</td><td style=\"text-align: right;\">  0.161168</td><td style=\"text-align: right;\">   0.838832</td></tr>\n",
       "<tr><td>train_model_cv_2b60a_00020</td><td>TERMINATED</td><td>127.0.0.1:23660</td><td style=\"text-align: right;\">           4</td><td style=\"text-align: right;\">     0</td><td>BCELoss        </td><td>SGD        </td><td style=\"text-align: right;\">     2</td><td style=\"text-align: right;\">         57.61  </td><td style=\"text-align: right;\">0.719303</td><td style=\"text-align: right;\">  0.280697</td><td style=\"text-align: right;\">   0.840964</td></tr>\n",
       "<tr><td>train_model_cv_2b60a_00021</td><td>TERMINATED</td><td>127.0.0.1:2736 </td><td style=\"text-align: right;\">           4</td><td style=\"text-align: right;\">     1</td><td>BCELoss        </td><td>SGD        </td><td style=\"text-align: right;\">     4</td><td style=\"text-align: right;\">        114.793 </td><td style=\"text-align: right;\">0.560895</td><td style=\"text-align: right;\">  0.439105</td><td style=\"text-align: right;\">   0.834469</td></tr>\n",
       "<tr><td>train_model_cv_2b60a_00022</td><td>TERMINATED</td><td>127.0.0.1:6672 </td><td style=\"text-align: right;\">           4</td><td style=\"text-align: right;\">     2</td><td>BCELoss        </td><td>SGD        </td><td style=\"text-align: right;\">     4</td><td style=\"text-align: right;\">        113.293 </td><td style=\"text-align: right;\">0.525076</td><td style=\"text-align: right;\">  0.474924</td><td style=\"text-align: right;\">   0.839664</td></tr>\n",
       "<tr><td>train_model_cv_2b60a_00023</td><td>TERMINATED</td><td>127.0.0.1:14364</td><td style=\"text-align: right;\">           4</td><td style=\"text-align: right;\">     3</td><td>BCELoss        </td><td>SGD        </td><td style=\"text-align: right;\">     4</td><td style=\"text-align: right;\">        113.248 </td><td style=\"text-align: right;\">0.525414</td><td style=\"text-align: right;\">  0.474586</td><td style=\"text-align: right;\">   0.838841</td></tr>\n",
       "<tr><td>train_model_cv_2b60a_00024</td><td>TERMINATED</td><td>127.0.0.1:22068</td><td style=\"text-align: right;\">           4</td><td style=\"text-align: right;\">     4</td><td>BCELoss        </td><td>SGD        </td><td style=\"text-align: right;\">     2</td><td style=\"text-align: right;\">         58.2542</td><td style=\"text-align: right;\">0.626303</td><td style=\"text-align: right;\">  0.373697</td><td style=\"text-align: right;\">   0.847874</td></tr>\n",
       "<tr><td>train_model_cv_2b60a_00025</td><td>TERMINATED</td><td>127.0.0.1:10692</td><td style=\"text-align: right;\">           4</td><td style=\"text-align: right;\">     0</td><td>DiceBCELoss    </td><td>SGD        </td><td style=\"text-align: right;\">     1</td><td style=\"text-align: right;\">         31.3819</td><td style=\"text-align: right;\">1.59506 </td><td style=\"text-align: right;\"> -0.595058</td><td style=\"text-align: right;\">   0.863791</td></tr>\n",
       "<tr><td>train_model_cv_2b60a_00026</td><td>TERMINATED</td><td>127.0.0.1:13808</td><td style=\"text-align: right;\">           4</td><td style=\"text-align: right;\">     1</td><td>DiceBCELoss    </td><td>SGD        </td><td style=\"text-align: right;\">     1</td><td style=\"text-align: right;\">         30.6847</td><td style=\"text-align: right;\">1.50116 </td><td style=\"text-align: right;\"> -0.501157</td><td style=\"text-align: right;\">   0.862438</td></tr>\n",
       "<tr><td>train_model_cv_2b60a_00027</td><td>TERMINATED</td><td>127.0.0.1:23572</td><td style=\"text-align: right;\">           4</td><td style=\"text-align: right;\">     2</td><td>DiceBCELoss    </td><td>SGD        </td><td style=\"text-align: right;\">     1</td><td style=\"text-align: right;\">         31.5896</td><td style=\"text-align: right;\">1.56871 </td><td style=\"text-align: right;\"> -0.568714</td><td style=\"text-align: right;\">   0.863238</td></tr>\n",
       "<tr><td>train_model_cv_2b60a_00028</td><td>TERMINATED</td><td>127.0.0.1:8012 </td><td style=\"text-align: right;\">           4</td><td style=\"text-align: right;\">     3</td><td>DiceBCELoss    </td><td>SGD        </td><td style=\"text-align: right;\">     1</td><td style=\"text-align: right;\">         31.0101</td><td style=\"text-align: right;\">1.56629 </td><td style=\"text-align: right;\"> -0.566285</td><td style=\"text-align: right;\">   0.863606</td></tr>\n",
       "<tr><td>train_model_cv_2b60a_00029</td><td>TERMINATED</td><td>127.0.0.1:18388</td><td style=\"text-align: right;\">           4</td><td style=\"text-align: right;\">     4</td><td>DiceBCELoss    </td><td>SGD        </td><td style=\"text-align: right;\">     1</td><td style=\"text-align: right;\">         30.8171</td><td style=\"text-align: right;\">1.5206  </td><td style=\"text-align: right;\"> -0.520603</td><td style=\"text-align: right;\">   0.864241</td></tr>\n",
       "<tr><td>train_model_cv_2b60a_00030</td><td>TERMINATED</td><td>127.0.0.1:24472</td><td style=\"text-align: right;\">           4</td><td style=\"text-align: right;\">     0</td><td>DiceLoss       </td><td>RMSprop    </td><td style=\"text-align: right;\">     1</td><td style=\"text-align: right;\">         30.7973</td><td style=\"text-align: right;\">0.881733</td><td style=\"text-align: right;\">  0.118267</td><td style=\"text-align: right;\">   0.881733</td></tr>\n",
       "<tr><td>train_model_cv_2b60a_00031</td><td>TERMINATED</td><td>127.0.0.1:17452</td><td style=\"text-align: right;\">           4</td><td style=\"text-align: right;\">     1</td><td>DiceLoss       </td><td>RMSprop    </td><td style=\"text-align: right;\">     1</td><td style=\"text-align: right;\">         31.2831</td><td style=\"text-align: right;\">0.884317</td><td style=\"text-align: right;\">  0.115683</td><td style=\"text-align: right;\">   0.884317</td></tr>\n",
       "<tr><td>train_model_cv_2b60a_00032</td><td>TERMINATED</td><td>127.0.0.1:3024 </td><td style=\"text-align: right;\">           4</td><td style=\"text-align: right;\">     2</td><td>DiceLoss       </td><td>RMSprop    </td><td style=\"text-align: right;\">     1</td><td style=\"text-align: right;\">         30.9251</td><td style=\"text-align: right;\">0.880736</td><td style=\"text-align: right;\">  0.119264</td><td style=\"text-align: right;\">   0.880736</td></tr>\n",
       "<tr><td>train_model_cv_2b60a_00033</td><td>TERMINATED</td><td>127.0.0.1:12524</td><td style=\"text-align: right;\">           4</td><td style=\"text-align: right;\">     3</td><td>DiceLoss       </td><td>RMSprop    </td><td style=\"text-align: right;\">     1</td><td style=\"text-align: right;\">         31.8745</td><td style=\"text-align: right;\">0.869715</td><td style=\"text-align: right;\">  0.130285</td><td style=\"text-align: right;\">   0.869715</td></tr>\n",
       "<tr><td>train_model_cv_2b60a_00034</td><td>TERMINATED</td><td>127.0.0.1:8704 </td><td style=\"text-align: right;\">           4</td><td style=\"text-align: right;\">     4</td><td>DiceLoss       </td><td>RMSprop    </td><td style=\"text-align: right;\">     1</td><td style=\"text-align: right;\">         31.196 </td><td style=\"text-align: right;\">0.884923</td><td style=\"text-align: right;\">  0.115077</td><td style=\"text-align: right;\">   0.884923</td></tr>\n",
       "<tr><td>train_model_cv_2b60a_00035</td><td>TERMINATED</td><td>127.0.0.1:18088</td><td style=\"text-align: right;\">           4</td><td style=\"text-align: right;\">     0</td><td>BCELoss        </td><td>RMSprop    </td><td style=\"text-align: right;\">     5</td><td style=\"text-align: right;\">        141.187 </td><td style=\"text-align: right;\">0.158774</td><td style=\"text-align: right;\">  0.841226</td><td style=\"text-align: right;\">   0.574468</td></tr>\n",
       "<tr><td>train_model_cv_2b60a_00036</td><td>TERMINATED</td><td>127.0.0.1:7364 </td><td style=\"text-align: right;\">           4</td><td style=\"text-align: right;\">     1</td><td>BCELoss        </td><td>RMSprop    </td><td style=\"text-align: right;\">     5</td><td style=\"text-align: right;\">        142.634 </td><td style=\"text-align: right;\">0.30104 </td><td style=\"text-align: right;\">  0.69896 </td><td style=\"text-align: right;\">   0.628123</td></tr>\n",
       "<tr><td>train_model_cv_2b60a_00037</td><td>TERMINATED</td><td>127.0.0.1:3876 </td><td style=\"text-align: right;\">           4</td><td style=\"text-align: right;\">     2</td><td>BCELoss        </td><td>RMSprop    </td><td style=\"text-align: right;\">     5</td><td style=\"text-align: right;\">        145.944 </td><td style=\"text-align: right;\">0.235717</td><td style=\"text-align: right;\">  0.764283</td><td style=\"text-align: right;\">   0.632045</td></tr>\n",
       "<tr><td>train_model_cv_2b60a_00038</td><td>TERMINATED</td><td>127.0.0.1:20000</td><td style=\"text-align: right;\">           4</td><td style=\"text-align: right;\">     3</td><td>BCELoss        </td><td>RMSprop    </td><td style=\"text-align: right;\">     2</td><td style=\"text-align: right;\">         61.8119</td><td style=\"text-align: right;\">7.16179 </td><td style=\"text-align: right;\"> -6.16179 </td><td style=\"text-align: right;\">   0.722655</td></tr>\n",
       "<tr><td>train_model_cv_2b60a_00039</td><td>ERROR     </td><td>127.0.0.1:10352</td><td style=\"text-align: right;\">           4</td><td style=\"text-align: right;\">     4</td><td>BCELoss        </td><td>RMSprop    </td><td style=\"text-align: right;\">     1</td><td style=\"text-align: right;\">         31.4376</td><td style=\"text-align: right;\">0.38158 </td><td style=\"text-align: right;\">  0.61842 </td><td style=\"text-align: right;\">   0.888639</td></tr>\n",
       "<tr><td>train_model_cv_2b60a_00040</td><td>ERROR     </td><td>127.0.0.1:3876 </td><td style=\"text-align: right;\">           4</td><td style=\"text-align: right;\">     0</td><td>DiceBCELoss    </td><td>RMSprop    </td><td style=\"text-align: right;\">      </td><td style=\"text-align: right;\">                </td><td style=\"text-align: right;\">        </td><td style=\"text-align: right;\">          </td><td style=\"text-align: right;\">           </td></tr>\n",
       "<tr><td>train_model_cv_2b60a_00041</td><td>ERROR     </td><td>127.0.0.1:5192 </td><td style=\"text-align: right;\">           4</td><td style=\"text-align: right;\">     1</td><td>DiceBCELoss    </td><td>RMSprop    </td><td style=\"text-align: right;\">      </td><td style=\"text-align: right;\">                </td><td style=\"text-align: right;\">        </td><td style=\"text-align: right;\">          </td><td style=\"text-align: right;\">           </td></tr>\n",
       "<tr><td>train_model_cv_2b60a_00042</td><td>ERROR     </td><td>127.0.0.1:12348</td><td style=\"text-align: right;\">           4</td><td style=\"text-align: right;\">     2</td><td>DiceBCELoss    </td><td>RMSprop    </td><td style=\"text-align: right;\">      </td><td style=\"text-align: right;\">                </td><td style=\"text-align: right;\">        </td><td style=\"text-align: right;\">          </td><td style=\"text-align: right;\">           </td></tr>\n",
       "<tr><td>train_model_cv_2b60a_00043</td><td>ERROR     </td><td>127.0.0.1:24028</td><td style=\"text-align: right;\">           4</td><td style=\"text-align: right;\">     3</td><td>DiceBCELoss    </td><td>RMSprop    </td><td style=\"text-align: right;\">      </td><td style=\"text-align: right;\">                </td><td style=\"text-align: right;\">        </td><td style=\"text-align: right;\">          </td><td style=\"text-align: right;\">           </td></tr>\n",
       "<tr><td>train_model_cv_2b60a_00044</td><td>ERROR     </td><td>127.0.0.1:15436</td><td style=\"text-align: right;\">           4</td><td style=\"text-align: right;\">     4</td><td>DiceBCELoss    </td><td>RMSprop    </td><td style=\"text-align: right;\">      </td><td style=\"text-align: right;\">                </td><td style=\"text-align: right;\">        </td><td style=\"text-align: right;\">          </td><td style=\"text-align: right;\">           </td></tr>\n",
       "</tbody>\n",
       "</table>\n",
       "  </div>\n",
       "</div>\n",
       "<style>\n",
       ".tuneStatus {\n",
       "  color: var(--jp-ui-font-color1);\n",
       "}\n",
       ".tuneStatus .systemInfo {\n",
       "  display: flex;\n",
       "  flex-direction: column;\n",
       "}\n",
       ".tuneStatus td {\n",
       "  white-space: nowrap;\n",
       "}\n",
       ".tuneStatus .trialStatus {\n",
       "  display: flex;\n",
       "  flex-direction: column;\n",
       "}\n",
       ".tuneStatus h3 {\n",
       "  font-weight: bold;\n",
       "}\n",
       ".tuneStatus .hDivider {\n",
       "  border-bottom-width: var(--jp-border-width);\n",
       "  border-bottom-color: var(--jp-border-color0);\n",
       "  border-bottom-style: solid;\n",
       "}\n",
       ".tuneStatus .vDivider {\n",
       "  border-left-width: var(--jp-border-width);\n",
       "  border-left-color: var(--jp-border-color0);\n",
       "  border-left-style: solid;\n",
       "  margin: 0.5em 1em 0.5em 1em;\n",
       "}\n",
       "</style>\n"
      ],
      "text/plain": [
       "<IPython.core.display.HTML object>"
      ]
     },
     "metadata": {},
     "output_type": "display_data"
    },
    {
     "name": "stdout",
     "output_type": "stream",
     "text": [
      "\u001b[36m(train_model_cv pid=5520)\u001b[0m [neptune] [info   ] Neptune initialized. Open in the app: https://app.neptune.ai/OCTAA/OCTSegmenter/e/OCT-121\n",
      "\u001b[36m(train_model_cv pid=5520)\u001b[0m Training on fold 0\n",
      "\u001b[36m(train_model_cv pid=5520)\u001b[0m [1,    10] loss: 0.830\n",
      "\u001b[36m(train_model_cv pid=5520)\u001b[0m [1,    20] loss: 0.793\n",
      "\u001b[36m(train_model_cv pid=5520)\u001b[0m [1,    30] loss: 0.824\n",
      "\u001b[36m(train_model_cv pid=5520)\u001b[0m Epoch [1/5], Training Loss: 0.7251\n",
      "\u001b[36m(train_model_cv pid=5520)\u001b[0m Epoch [1/5], Validation Loss: 0.8642\n"
     ]
    },
    {
     "name": "stderr",
     "output_type": "stream",
     "text": [
      "\u001b[36m(train_model_cv pid=5520)\u001b[0m Checkpoint successfully created at: Checkpoint(filesystem=local, path=C:/Users/johan/ray_results/train_model_cv_2024-11-26_18-30-35/trial_2b60a_00000_lr=1.0e-04_opt=AdamW_bs=4/checkpoint_000000)\n"
     ]
    },
    {
     "name": "stdout",
     "output_type": "stream",
     "text": [
      "\u001b[36m(train_model_cv pid=5520)\u001b[0m Validation loss improved to 0.8642. Saving checkpoint.\n",
      "\u001b[36m(train_model_cv pid=5520)\u001b[0m [2,    10] loss: 0.316\n",
      "\u001b[36m(train_model_cv pid=5520)\u001b[0m [2,    20] loss: 0.739\n",
      "\u001b[36m(train_model_cv pid=5520)\u001b[0m [2,    30] loss: 0.769\n",
      "\u001b[36m(train_model_cv pid=5520)\u001b[0m Epoch [2/5], Training Loss: 0.6892\n",
      "\u001b[36m(train_model_cv pid=5520)\u001b[0m Epoch [2/5], Validation Loss: 0.7184\n"
     ]
    },
    {
     "name": "stderr",
     "output_type": "stream",
     "text": [
      "\u001b[36m(train_model_cv pid=5520)\u001b[0m Checkpoint successfully created at: Checkpoint(filesystem=local, path=C:/Users/johan/ray_results/train_model_cv_2024-11-26_18-30-35/trial_2b60a_00000_lr=1.0e-04_opt=AdamW_bs=4/checkpoint_000001)\n"
     ]
    },
    {
     "name": "stdout",
     "output_type": "stream",
     "text": [
      "\u001b[36m(train_model_cv pid=5520)\u001b[0m Validation loss improved to 0.7184. Saving checkpoint.\n",
      "\u001b[36m(train_model_cv pid=5520)\u001b[0m [3,    10] loss: 0.807\n",
      "\u001b[36m(train_model_cv pid=5520)\u001b[0m [3,    20] loss: 0.744\n",
      "\u001b[36m(train_model_cv pid=5520)\u001b[0m [3,    30] loss: 0.739\n",
      "\u001b[36m(train_model_cv pid=5520)\u001b[0m Epoch [3/5], Training Loss: 0.6789\n",
      "\u001b[36m(train_model_cv pid=5520)\u001b[0m Epoch [3/5], Validation Loss: 0.6889\n"
     ]
    },
    {
     "name": "stderr",
     "output_type": "stream",
     "text": [
      "\u001b[36m(train_model_cv pid=5520)\u001b[0m Checkpoint successfully created at: Checkpoint(filesystem=local, path=C:/Users/johan/ray_results/train_model_cv_2024-11-26_18-30-35/trial_2b60a_00000_lr=1.0e-04_opt=AdamW_bs=4/checkpoint_000002)\n"
     ]
    },
    {
     "name": "stdout",
     "output_type": "stream",
     "text": [
      "\u001b[36m(train_model_cv pid=5520)\u001b[0m Validation loss improved to 0.6889. Saving checkpoint.\n",
      "\u001b[36m(train_model_cv pid=5520)\u001b[0m [4,    10] loss: 0.699\n",
      "\u001b[36m(train_model_cv pid=5520)\u001b[0m [4,    20] loss: 0.780\n",
      "\u001b[36m(train_model_cv pid=5520)\u001b[0m [4,    30] loss: 0.766\n",
      "\u001b[36m(train_model_cv pid=5520)\u001b[0m Epoch [4/5], Training Loss: 0.6411\n",
      "\u001b[36m(train_model_cv pid=5520)\u001b[0m Epoch [4/5], Validation Loss: 0.6753\n"
     ]
    },
    {
     "name": "stderr",
     "output_type": "stream",
     "text": [
      "\u001b[36m(train_model_cv pid=5520)\u001b[0m Checkpoint successfully created at: Checkpoint(filesystem=local, path=C:/Users/johan/ray_results/train_model_cv_2024-11-26_18-30-35/trial_2b60a_00000_lr=1.0e-04_opt=AdamW_bs=4/checkpoint_000003)\n"
     ]
    },
    {
     "name": "stdout",
     "output_type": "stream",
     "text": [
      "\u001b[36m(train_model_cv pid=5520)\u001b[0m Validation loss improved to 0.6753. Saving checkpoint.\n",
      "\u001b[36m(train_model_cv pid=5520)\u001b[0m [5,    10] loss: 0.689\n",
      "\u001b[36m(train_model_cv pid=5520)\u001b[0m [5,    20] loss: 0.716\n",
      "\u001b[36m(train_model_cv pid=5520)\u001b[0m [5,    30] loss: 0.670\n",
      "\u001b[36m(train_model_cv pid=5520)\u001b[0m Epoch [5/5], Training Loss: 0.6241\n",
      "\u001b[36m(train_model_cv pid=5520)\u001b[0m Epoch [5/5], Validation Loss: 0.6993\n"
     ]
    },
    {
     "name": "stderr",
     "output_type": "stream",
     "text": [
      "\u001b[36m(train_model_cv pid=5520)\u001b[0m Checkpoint successfully created at: Checkpoint(filesystem=local, path=C:/Users/johan/ray_results/train_model_cv_2024-11-26_18-30-35/trial_2b60a_00000_lr=1.0e-04_opt=AdamW_bs=4/checkpoint_000004)\n"
     ]
    },
    {
     "name": "stdout",
     "output_type": "stream",
     "text": [
      "\u001b[36m(train_model_cv pid=20120)\u001b[0m [neptune] [info   ] Neptune initialized. Open in the app: https://app.neptune.ai/OCTAA/OCTSegmenter/e/OCT-122\n",
      "\u001b[36m(train_model_cv pid=20120)\u001b[0m Training on fold 1\n",
      "\u001b[36m(train_model_cv pid=20120)\u001b[0m [1,    10] loss: 0.843\n",
      "\u001b[36m(train_model_cv pid=20120)\u001b[0m [1,    20] loss: 0.607\n",
      "\u001b[36m(train_model_cv pid=20120)\u001b[0m [1,    30] loss: 0.741\n",
      "\u001b[36m(train_model_cv pid=20120)\u001b[0m Epoch [1/5], Training Loss: 0.7184\n",
      "\u001b[36m(train_model_cv pid=20120)\u001b[0m Epoch [1/5], Validation Loss: 0.8668\n"
     ]
    },
    {
     "name": "stderr",
     "output_type": "stream",
     "text": [
      "\u001b[36m(train_model_cv pid=20120)\u001b[0m Checkpoint successfully created at: Checkpoint(filesystem=local, path=C:/Users/johan/ray_results/train_model_cv_2024-11-26_18-30-35/trial_2b60a_00001_lr=1.0e-04_opt=AdamW_bs=4/checkpoint_000000)\n"
     ]
    },
    {
     "name": "stdout",
     "output_type": "stream",
     "text": [
      "\u001b[36m(train_model_cv pid=3500)\u001b[0m [neptune] [info   ] Neptune initialized. Open in the app: https://app.neptune.ai/OCTAA/OCTSegmenter/e/OCT-123\n",
      "\u001b[36m(train_model_cv pid=3500)\u001b[0m Training on fold 2\n",
      "\u001b[36m(train_model_cv pid=3500)\u001b[0m [1,    10] loss: 0.790\n",
      "\u001b[36m(train_model_cv pid=3500)\u001b[0m [1,    20] loss: 0.773\n",
      "\u001b[36m(train_model_cv pid=3500)\u001b[0m [1,    30] loss: 0.719\n",
      "\u001b[36m(train_model_cv pid=3500)\u001b[0m Epoch [1/5], Training Loss: 0.7118\n",
      "\u001b[36m(train_model_cv pid=3500)\u001b[0m Epoch [1/5], Validation Loss: 0.8754\n"
     ]
    },
    {
     "name": "stderr",
     "output_type": "stream",
     "text": [
      "\u001b[36m(train_model_cv pid=3500)\u001b[0m Checkpoint successfully created at: Checkpoint(filesystem=local, path=C:/Users/johan/ray_results/train_model_cv_2024-11-26_18-30-35/trial_2b60a_00002_lr=1.0e-04_opt=AdamW_bs=4/checkpoint_000000)\n"
     ]
    },
    {
     "name": "stdout",
     "output_type": "stream",
     "text": [
      "\u001b[36m(train_model_cv pid=3332)\u001b[0m [neptune] [info   ] Neptune initialized. Open in the app: https://app.neptune.ai/OCTAA/OCTSegmenter/e/OCT-124\n",
      "\u001b[36m(train_model_cv pid=3332)\u001b[0m Training on fold 3\n",
      "\u001b[36m(train_model_cv pid=3332)\u001b[0m [1,    10] loss: 0.594\n",
      "\u001b[36m(train_model_cv pid=3332)\u001b[0m [1,    20] loss: 0.800\n",
      "\u001b[36m(train_model_cv pid=3332)\u001b[0m [1,    30] loss: 0.785\n",
      "\u001b[36m(train_model_cv pid=3332)\u001b[0m Epoch [1/5], Training Loss: 0.7155\n",
      "\u001b[36m(train_model_cv pid=3332)\u001b[0m Epoch [1/5], Validation Loss: 0.8636\n"
     ]
    },
    {
     "name": "stderr",
     "output_type": "stream",
     "text": [
      "\u001b[36m(train_model_cv pid=3332)\u001b[0m Checkpoint successfully created at: Checkpoint(filesystem=local, path=C:/Users/johan/ray_results/train_model_cv_2024-11-26_18-30-35/trial_2b60a_00003_lr=1.0e-04_opt=AdamW_bs=4/checkpoint_000000)\n"
     ]
    },
    {
     "name": "stdout",
     "output_type": "stream",
     "text": [
      "\u001b[36m(train_model_cv pid=3332)\u001b[0m Validation loss improved to 0.8636. Saving checkpoint.\n",
      "\u001b[36m(train_model_cv pid=3332)\u001b[0m [2,    10] loss: 0.741\n",
      "\u001b[36m(train_model_cv pid=3332)\u001b[0m [2,    20] loss: 0.731\n",
      "\u001b[36m(train_model_cv pid=3332)\u001b[0m [2,    30] loss: 0.526\n",
      "\u001b[36m(train_model_cv pid=3332)\u001b[0m Epoch [2/5], Training Loss: 0.6504\n",
      "\u001b[36m(train_model_cv pid=3332)\u001b[0m Epoch [2/5], Validation Loss: 0.6756\n"
     ]
    },
    {
     "name": "stderr",
     "output_type": "stream",
     "text": [
      "\u001b[36m(train_model_cv pid=3332)\u001b[0m Checkpoint successfully created at: Checkpoint(filesystem=local, path=C:/Users/johan/ray_results/train_model_cv_2024-11-26_18-30-35/trial_2b60a_00003_lr=1.0e-04_opt=AdamW_bs=4/checkpoint_000001)\n"
     ]
    },
    {
     "name": "stdout",
     "output_type": "stream",
     "text": [
      "\u001b[36m(train_model_cv pid=3332)\u001b[0m Validation loss improved to 0.6756. Saving checkpoint.\n",
      "\u001b[36m(train_model_cv pid=3332)\u001b[0m [3,    10] loss: 0.726\n",
      "\u001b[36m(train_model_cv pid=3332)\u001b[0m [3,    20] loss: 0.535\n",
      "\u001b[36m(train_model_cv pid=3332)\u001b[0m [3,    30] loss: 0.670\n",
      "\u001b[36m(train_model_cv pid=3332)\u001b[0m Epoch [3/5], Training Loss: 0.6223\n",
      "\u001b[36m(train_model_cv pid=3332)\u001b[0m Epoch [3/5], Validation Loss: 0.6574\n"
     ]
    },
    {
     "name": "stderr",
     "output_type": "stream",
     "text": [
      "\u001b[36m(train_model_cv pid=3332)\u001b[0m Checkpoint successfully created at: Checkpoint(filesystem=local, path=C:/Users/johan/ray_results/train_model_cv_2024-11-26_18-30-35/trial_2b60a_00003_lr=1.0e-04_opt=AdamW_bs=4/checkpoint_000002)\n"
     ]
    },
    {
     "name": "stdout",
     "output_type": "stream",
     "text": [
      "\u001b[36m(train_model_cv pid=3332)\u001b[0m Validation loss improved to 0.6574. Saving checkpoint.\n",
      "\u001b[36m(train_model_cv pid=3332)\u001b[0m [4,    10] loss: 0.720\n",
      "\u001b[36m(train_model_cv pid=3332)\u001b[0m [4,    20] loss: 0.684\n",
      "\u001b[36m(train_model_cv pid=3332)\u001b[0m [4,    30] loss: 0.681\n",
      "\u001b[36m(train_model_cv pid=3332)\u001b[0m Epoch [4/5], Training Loss: 0.6055\n",
      "\u001b[36m(train_model_cv pid=3332)\u001b[0m Epoch [4/5], Validation Loss: 0.6451\n"
     ]
    },
    {
     "name": "stderr",
     "output_type": "stream",
     "text": [
      "\u001b[36m(train_model_cv pid=3332)\u001b[0m Checkpoint successfully created at: Checkpoint(filesystem=local, path=C:/Users/johan/ray_results/train_model_cv_2024-11-26_18-30-35/trial_2b60a_00003_lr=1.0e-04_opt=AdamW_bs=4/checkpoint_000003)\n"
     ]
    },
    {
     "name": "stdout",
     "output_type": "stream",
     "text": [
      "\u001b[36m(train_model_cv pid=3332)\u001b[0m Validation loss improved to 0.6451. Saving checkpoint.\n",
      "\u001b[36m(train_model_cv pid=3332)\u001b[0m [5,    10] loss: 0.679\n",
      "\u001b[36m(train_model_cv pid=3332)\u001b[0m [5,    20] loss: 0.710\n",
      "\u001b[36m(train_model_cv pid=3332)\u001b[0m [5,    30] loss: 0.950\n",
      "\u001b[36m(train_model_cv pid=3332)\u001b[0m Epoch [5/5], Training Loss: 0.5880\n",
      "\u001b[36m(train_model_cv pid=3332)\u001b[0m Epoch [5/5], Validation Loss: 0.7184\n"
     ]
    },
    {
     "name": "stderr",
     "output_type": "stream",
     "text": [
      "\u001b[36m(train_model_cv pid=3332)\u001b[0m Checkpoint successfully created at: Checkpoint(filesystem=local, path=C:/Users/johan/ray_results/train_model_cv_2024-11-26_18-30-35/trial_2b60a_00003_lr=1.0e-04_opt=AdamW_bs=4/checkpoint_000004)\n"
     ]
    },
    {
     "name": "stdout",
     "output_type": "stream",
     "text": [
      "\u001b[36m(train_model_cv pid=18444)\u001b[0m [neptune] [info   ] Neptune initialized. Open in the app: https://app.neptune.ai/OCTAA/OCTSegmenter/e/OCT-125\n",
      "\u001b[36m(train_model_cv pid=18444)\u001b[0m Training on fold 4\n",
      "\u001b[36m(train_model_cv pid=18444)\u001b[0m [1,    10] loss: 0.831\n",
      "\u001b[36m(train_model_cv pid=18444)\u001b[0m [1,    20] loss: 0.552\n",
      "\u001b[36m(train_model_cv pid=18444)\u001b[0m [1,    30] loss: 0.819\n",
      "\u001b[36m(train_model_cv pid=18444)\u001b[0m Epoch [1/5], Training Loss: 0.7456\n",
      "\u001b[36m(train_model_cv pid=18444)\u001b[0m Epoch [1/5], Validation Loss: 0.8680\n"
     ]
    },
    {
     "name": "stderr",
     "output_type": "stream",
     "text": [
      "\u001b[36m(train_model_cv pid=18444)\u001b[0m Checkpoint successfully created at: Checkpoint(filesystem=local, path=C:/Users/johan/ray_results/train_model_cv_2024-11-26_18-30-35/trial_2b60a_00004_lr=1.0e-04_opt=AdamW_bs=4/checkpoint_000000)\n"
     ]
    },
    {
     "name": "stdout",
     "output_type": "stream",
     "text": [
      "\u001b[36m(train_model_cv pid=3628)\u001b[0m [neptune] [info   ] Neptune initialized. Open in the app: https://app.neptune.ai/OCTAA/OCTSegmenter/e/OCT-126\n",
      "\u001b[36m(train_model_cv pid=3628)\u001b[0m Training on fold 0\n",
      "\u001b[36m(train_model_cv pid=3628)\u001b[0m [1,    10] loss: 0.608\n",
      "\u001b[36m(train_model_cv pid=3628)\u001b[0m [1,    20] loss: 0.448\n",
      "\u001b[36m(train_model_cv pid=3628)\u001b[0m [1,    30] loss: 0.414\n",
      "\u001b[36m(train_model_cv pid=3628)\u001b[0m Epoch [1/5], Training Loss: 0.5170\n",
      "\u001b[36m(train_model_cv pid=3628)\u001b[0m Epoch [1/5], Validation Loss: 0.4797\n"
     ]
    },
    {
     "name": "stderr",
     "output_type": "stream",
     "text": [
      "\u001b[36m(train_model_cv pid=3628)\u001b[0m Checkpoint successfully created at: Checkpoint(filesystem=local, path=C:/Users/johan/ray_results/train_model_cv_2024-11-26_18-30-35/trial_2b60a_00005_lr=1.0e-04_opt=AdamW_bs=4/checkpoint_000000)\n"
     ]
    },
    {
     "name": "stdout",
     "output_type": "stream",
     "text": [
      "\u001b[36m(train_model_cv pid=3628)\u001b[0m Validation loss improved to 0.4797. Saving checkpoint.\n",
      "\u001b[36m(train_model_cv pid=3628)\u001b[0m [2,    10] loss: 0.390\n",
      "\u001b[36m(train_model_cv pid=3628)\u001b[0m [2,    20] loss: 0.395\n",
      "\u001b[36m(train_model_cv pid=3628)\u001b[0m [2,    30] loss: 0.312\n",
      "\u001b[36m(train_model_cv pid=3628)\u001b[0m Epoch [2/5], Training Loss: 0.3451\n",
      "\u001b[36m(train_model_cv pid=3628)\u001b[0m Epoch [2/5], Validation Loss: 0.3164\n"
     ]
    },
    {
     "name": "stderr",
     "output_type": "stream",
     "text": [
      "\u001b[36m(train_model_cv pid=3628)\u001b[0m Checkpoint successfully created at: Checkpoint(filesystem=local, path=C:/Users/johan/ray_results/train_model_cv_2024-11-26_18-30-35/trial_2b60a_00005_lr=1.0e-04_opt=AdamW_bs=4/checkpoint_000001)\n"
     ]
    },
    {
     "name": "stdout",
     "output_type": "stream",
     "text": [
      "\u001b[36m(train_model_cv pid=3628)\u001b[0m Validation loss improved to 0.3164. Saving checkpoint.\n",
      "\u001b[36m(train_model_cv pid=3628)\u001b[0m [3,    10] loss: 0.306\n",
      "\u001b[36m(train_model_cv pid=3628)\u001b[0m [3,    20] loss: 0.265\n",
      "\u001b[36m(train_model_cv pid=3628)\u001b[0m [3,    30] loss: 0.335\n",
      "\u001b[36m(train_model_cv pid=3628)\u001b[0m Epoch [3/5], Training Loss: 0.2965\n",
      "\u001b[36m(train_model_cv pid=3628)\u001b[0m Epoch [3/5], Validation Loss: 0.2809\n"
     ]
    },
    {
     "name": "stderr",
     "output_type": "stream",
     "text": [
      "\u001b[36m(train_model_cv pid=3628)\u001b[0m Checkpoint successfully created at: Checkpoint(filesystem=local, path=C:/Users/johan/ray_results/train_model_cv_2024-11-26_18-30-35/trial_2b60a_00005_lr=1.0e-04_opt=AdamW_bs=4/checkpoint_000002)\n"
     ]
    },
    {
     "name": "stdout",
     "output_type": "stream",
     "text": [
      "\u001b[36m(train_model_cv pid=3628)\u001b[0m Validation loss improved to 0.2809. Saving checkpoint.\n",
      "\u001b[36m(train_model_cv pid=3628)\u001b[0m [4,    10] loss: 0.279\n",
      "\u001b[36m(train_model_cv pid=3628)\u001b[0m [4,    20] loss: 0.296\n",
      "\u001b[36m(train_model_cv pid=3628)\u001b[0m [4,    30] loss: 0.240\n",
      "\u001b[36m(train_model_cv pid=3628)\u001b[0m Epoch [4/5], Training Loss: 0.2754\n",
      "\u001b[36m(train_model_cv pid=3628)\u001b[0m Epoch [4/5], Validation Loss: 0.2539\n"
     ]
    },
    {
     "name": "stderr",
     "output_type": "stream",
     "text": [
      "\u001b[36m(train_model_cv pid=3628)\u001b[0m Checkpoint successfully created at: Checkpoint(filesystem=local, path=C:/Users/johan/ray_results/train_model_cv_2024-11-26_18-30-35/trial_2b60a_00005_lr=1.0e-04_opt=AdamW_bs=4/checkpoint_000003)\n"
     ]
    },
    {
     "name": "stdout",
     "output_type": "stream",
     "text": [
      "\u001b[36m(train_model_cv pid=3628)\u001b[0m Validation loss improved to 0.2539. Saving checkpoint.\n",
      "\u001b[36m(train_model_cv pid=3628)\u001b[0m [5,    10] loss: 0.260\n",
      "\u001b[36m(train_model_cv pid=3628)\u001b[0m [5,    20] loss: 0.280\n",
      "\u001b[36m(train_model_cv pid=3628)\u001b[0m [5,    30] loss: 0.224\n",
      "\u001b[36m(train_model_cv pid=3628)\u001b[0m Epoch [5/5], Training Loss: 0.2572\n",
      "\u001b[36m(train_model_cv pid=3628)\u001b[0m Epoch [5/5], Validation Loss: 0.2387\n"
     ]
    },
    {
     "name": "stderr",
     "output_type": "stream",
     "text": [
      "\u001b[36m(train_model_cv pid=3628)\u001b[0m Checkpoint successfully created at: Checkpoint(filesystem=local, path=C:/Users/johan/ray_results/train_model_cv_2024-11-26_18-30-35/trial_2b60a_00005_lr=1.0e-04_opt=AdamW_bs=4/checkpoint_000004)\n"
     ]
    },
    {
     "name": "stdout",
     "output_type": "stream",
     "text": [
      "\u001b[36m(train_model_cv pid=23724)\u001b[0m [neptune] [info   ] Neptune initialized. Open in the app: https://app.neptune.ai/OCTAA/OCTSegmenter/e/OCT-127\n",
      "\u001b[36m(train_model_cv pid=23724)\u001b[0m Training on fold 1\n",
      "\u001b[36m(train_model_cv pid=23724)\u001b[0m [1,    10] loss: 0.604\n",
      "\u001b[36m(train_model_cv pid=23724)\u001b[0m [1,    20] loss: 0.443\n",
      "\u001b[36m(train_model_cv pid=23724)\u001b[0m [1,    30] loss: 0.450\n",
      "\u001b[36m(train_model_cv pid=23724)\u001b[0m Epoch [1/5], Training Loss: 0.5221\n",
      "\u001b[36m(train_model_cv pid=23724)\u001b[0m Epoch [1/5], Validation Loss: 0.5434\n"
     ]
    },
    {
     "name": "stderr",
     "output_type": "stream",
     "text": [
      "\u001b[36m(train_model_cv pid=23724)\u001b[0m Checkpoint successfully created at: Checkpoint(filesystem=local, path=C:/Users/johan/ray_results/train_model_cv_2024-11-26_18-30-35/trial_2b60a_00006_lr=1.0e-04_opt=AdamW_bs=4/checkpoint_000000)\n"
     ]
    },
    {
     "name": "stdout",
     "output_type": "stream",
     "text": [
      "\u001b[36m(train_model_cv pid=23724)\u001b[0m Validation loss improved to 0.5434. Saving checkpoint.\n",
      "\u001b[36m(train_model_cv pid=23724)\u001b[0m [2,    10] loss: 0.360\n",
      "\u001b[36m(train_model_cv pid=23724)\u001b[0m [2,    20] loss: 0.310\n",
      "\u001b[36m(train_model_cv pid=23724)\u001b[0m [2,    30] loss: 0.337\n",
      "\u001b[36m(train_model_cv pid=23724)\u001b[0m Epoch [2/5], Training Loss: 0.3579\n",
      "\u001b[36m(train_model_cv pid=23724)\u001b[0m Epoch [2/5], Validation Loss: 0.3151\n"
     ]
    },
    {
     "name": "stderr",
     "output_type": "stream",
     "text": [
      "\u001b[36m(train_model_cv pid=23724)\u001b[0m Checkpoint successfully created at: Checkpoint(filesystem=local, path=C:/Users/johan/ray_results/train_model_cv_2024-11-26_18-30-35/trial_2b60a_00006_lr=1.0e-04_opt=AdamW_bs=4/checkpoint_000001)\n"
     ]
    },
    {
     "name": "stdout",
     "output_type": "stream",
     "text": [
      "\u001b[36m(train_model_cv pid=23724)\u001b[0m Validation loss improved to 0.3151. Saving checkpoint.\n",
      "\u001b[36m(train_model_cv pid=23724)\u001b[0m [3,    10] loss: 0.309\n",
      "\u001b[36m(train_model_cv pid=23724)\u001b[0m [3,    20] loss: 0.311\n",
      "\u001b[36m(train_model_cv pid=23724)\u001b[0m [3,    30] loss: 0.303\n",
      "\u001b[36m(train_model_cv pid=23724)\u001b[0m Epoch [3/5], Training Loss: 0.3131\n",
      "\u001b[36m(train_model_cv pid=23724)\u001b[0m Epoch [3/5], Validation Loss: 0.2960\n"
     ]
    },
    {
     "name": "stderr",
     "output_type": "stream",
     "text": [
      "\u001b[36m(train_model_cv pid=23724)\u001b[0m Checkpoint successfully created at: Checkpoint(filesystem=local, path=C:/Users/johan/ray_results/train_model_cv_2024-11-26_18-30-35/trial_2b60a_00006_lr=1.0e-04_opt=AdamW_bs=4/checkpoint_000002)\n"
     ]
    },
    {
     "name": "stdout",
     "output_type": "stream",
     "text": [
      "\u001b[36m(train_model_cv pid=23724)\u001b[0m Validation loss improved to 0.2960. Saving checkpoint.\n",
      "\u001b[36m(train_model_cv pid=23724)\u001b[0m [4,    10] loss: 0.268\n",
      "\u001b[36m(train_model_cv pid=23724)\u001b[0m [4,    20] loss: 0.320\n",
      "\u001b[36m(train_model_cv pid=23724)\u001b[0m [4,    30] loss: 0.304\n",
      "\u001b[36m(train_model_cv pid=23724)\u001b[0m Epoch [4/5], Training Loss: 0.2898\n",
      "\u001b[36m(train_model_cv pid=23724)\u001b[0m Epoch [4/5], Validation Loss: 0.2819\n"
     ]
    },
    {
     "name": "stderr",
     "output_type": "stream",
     "text": [
      "\u001b[36m(train_model_cv pid=23724)\u001b[0m Checkpoint successfully created at: Checkpoint(filesystem=local, path=C:/Users/johan/ray_results/train_model_cv_2024-11-26_18-30-35/trial_2b60a_00006_lr=1.0e-04_opt=AdamW_bs=4/checkpoint_000003)\n"
     ]
    },
    {
     "name": "stdout",
     "output_type": "stream",
     "text": [
      "\u001b[36m(train_model_cv pid=23724)\u001b[0m Validation loss improved to 0.2819. Saving checkpoint.\n",
      "\u001b[36m(train_model_cv pid=23724)\u001b[0m [5,    10] loss: 0.284\n",
      "\u001b[36m(train_model_cv pid=23724)\u001b[0m [5,    20] loss: 0.293\n",
      "\u001b[36m(train_model_cv pid=23724)\u001b[0m [5,    30] loss: 0.276\n",
      "\u001b[36m(train_model_cv pid=23724)\u001b[0m Epoch [5/5], Training Loss: 0.2711\n",
      "\u001b[36m(train_model_cv pid=23724)\u001b[0m Epoch [5/5], Validation Loss: 0.2889\n"
     ]
    },
    {
     "name": "stderr",
     "output_type": "stream",
     "text": [
      "\u001b[36m(train_model_cv pid=23724)\u001b[0m Checkpoint successfully created at: Checkpoint(filesystem=local, path=C:/Users/johan/ray_results/train_model_cv_2024-11-26_18-30-35/trial_2b60a_00006_lr=1.0e-04_opt=AdamW_bs=4/checkpoint_000004)\n"
     ]
    },
    {
     "name": "stdout",
     "output_type": "stream",
     "text": [
      "\u001b[36m(train_model_cv pid=4636)\u001b[0m [neptune] [info   ] Neptune initialized. Open in the app: https://app.neptune.ai/OCTAA/OCTSegmenter/e/OCT-128\n",
      "\u001b[36m(train_model_cv pid=4636)\u001b[0m Training on fold 2\n",
      "\u001b[36m(train_model_cv pid=4636)\u001b[0m [1,    10] loss: 0.570\n",
      "\u001b[36m(train_model_cv pid=4636)\u001b[0m [1,    20] loss: 0.513\n",
      "\u001b[36m(train_model_cv pid=4636)\u001b[0m [1,    30] loss: 0.371\n",
      "\u001b[36m(train_model_cv pid=4636)\u001b[0m Epoch [1/5], Training Loss: 0.4983\n",
      "\u001b[36m(train_model_cv pid=4636)\u001b[0m Epoch [1/5], Validation Loss: 0.5181\n"
     ]
    },
    {
     "name": "stderr",
     "output_type": "stream",
     "text": [
      "\u001b[36m(train_model_cv pid=4636)\u001b[0m Checkpoint successfully created at: Checkpoint(filesystem=local, path=C:/Users/johan/ray_results/train_model_cv_2024-11-26_18-30-35/trial_2b60a_00007_lr=1.0e-04_opt=AdamW_bs=4/checkpoint_000000)\n"
     ]
    },
    {
     "name": "stdout",
     "output_type": "stream",
     "text": [
      "\u001b[36m(train_model_cv pid=4636)\u001b[0m Validation loss improved to 0.5181. Saving checkpoint.\n",
      "\u001b[36m(train_model_cv pid=4636)\u001b[0m [2,    10] loss: 0.340\n",
      "\u001b[36m(train_model_cv pid=4636)\u001b[0m [2,    20] loss: 0.273\n",
      "\u001b[36m(train_model_cv pid=4636)\u001b[0m [2,    30] loss: 0.315\n",
      "\u001b[36m(train_model_cv pid=4636)\u001b[0m Epoch [2/5], Training Loss: 0.3130\n",
      "\u001b[36m(train_model_cv pid=4636)\u001b[0m Epoch [2/5], Validation Loss: 0.2854\n"
     ]
    },
    {
     "name": "stderr",
     "output_type": "stream",
     "text": [
      "\u001b[36m(train_model_cv pid=4636)\u001b[0m Checkpoint successfully created at: Checkpoint(filesystem=local, path=C:/Users/johan/ray_results/train_model_cv_2024-11-26_18-30-35/trial_2b60a_00007_lr=1.0e-04_opt=AdamW_bs=4/checkpoint_000001)\n"
     ]
    },
    {
     "name": "stdout",
     "output_type": "stream",
     "text": [
      "\u001b[36m(train_model_cv pid=4636)\u001b[0m Validation loss improved to 0.2854. Saving checkpoint.\n",
      "\u001b[36m(train_model_cv pid=4636)\u001b[0m [3,    10] loss: 0.298\n",
      "\u001b[36m(train_model_cv pid=4636)\u001b[0m [3,    20] loss: 0.241\n",
      "\u001b[36m(train_model_cv pid=4636)\u001b[0m [3,    30] loss: 0.280\n",
      "\u001b[36m(train_model_cv pid=4636)\u001b[0m Epoch [3/5], Training Loss: 0.2744\n",
      "\u001b[36m(train_model_cv pid=4636)\u001b[0m Epoch [3/5], Validation Loss: 0.2531\n"
     ]
    },
    {
     "name": "stderr",
     "output_type": "stream",
     "text": [
      "\u001b[36m(train_model_cv pid=4636)\u001b[0m Checkpoint successfully created at: Checkpoint(filesystem=local, path=C:/Users/johan/ray_results/train_model_cv_2024-11-26_18-30-35/trial_2b60a_00007_lr=1.0e-04_opt=AdamW_bs=4/checkpoint_000002)\n"
     ]
    },
    {
     "name": "stdout",
     "output_type": "stream",
     "text": [
      "\u001b[36m(train_model_cv pid=4636)\u001b[0m Validation loss improved to 0.2531. Saving checkpoint.\n",
      "\u001b[36m(train_model_cv pid=4636)\u001b[0m [4,    10] loss: 0.258\n",
      "\u001b[36m(train_model_cv pid=4636)\u001b[0m [4,    20] loss: 0.269\n",
      "\u001b[36m(train_model_cv pid=4636)\u001b[0m [4,    30] loss: 0.217\n",
      "\u001b[36m(train_model_cv pid=4636)\u001b[0m Epoch [4/5], Training Loss: 0.2504\n",
      "\u001b[36m(train_model_cv pid=4636)\u001b[0m Epoch [4/5], Validation Loss: 0.2337\n"
     ]
    },
    {
     "name": "stderr",
     "output_type": "stream",
     "text": [
      "\u001b[36m(train_model_cv pid=4636)\u001b[0m Checkpoint successfully created at: Checkpoint(filesystem=local, path=C:/Users/johan/ray_results/train_model_cv_2024-11-26_18-30-35/trial_2b60a_00007_lr=1.0e-04_opt=AdamW_bs=4/checkpoint_000003)\n"
     ]
    },
    {
     "name": "stdout",
     "output_type": "stream",
     "text": [
      "\u001b[36m(train_model_cv pid=4636)\u001b[0m Validation loss improved to 0.2337. Saving checkpoint.\n",
      "\u001b[36m(train_model_cv pid=4636)\u001b[0m [5,    10] loss: 0.192\n",
      "\u001b[36m(train_model_cv pid=4636)\u001b[0m [5,    20] loss: 0.235\n",
      "\u001b[36m(train_model_cv pid=4636)\u001b[0m [5,    30] loss: 0.258\n",
      "\u001b[36m(train_model_cv pid=4636)\u001b[0m Epoch [5/5], Training Loss: 0.2391\n",
      "\u001b[36m(train_model_cv pid=4636)\u001b[0m Epoch [5/5], Validation Loss: 0.2158\n"
     ]
    },
    {
     "name": "stderr",
     "output_type": "stream",
     "text": [
      "\u001b[36m(train_model_cv pid=4636)\u001b[0m Checkpoint successfully created at: Checkpoint(filesystem=local, path=C:/Users/johan/ray_results/train_model_cv_2024-11-26_18-30-35/trial_2b60a_00007_lr=1.0e-04_opt=AdamW_bs=4/checkpoint_000004)\n"
     ]
    },
    {
     "name": "stdout",
     "output_type": "stream",
     "text": [
      "\u001b[36m(train_model_cv pid=22432)\u001b[0m [neptune] [info   ] Neptune initialized. Open in the app: https://app.neptune.ai/OCTAA/OCTSegmenter/e/OCT-129\n",
      "\u001b[36m(train_model_cv pid=22432)\u001b[0m Training on fold 3\n",
      "\u001b[36m(train_model_cv pid=22432)\u001b[0m [1,    10] loss: 0.518\n",
      "\u001b[36m(train_model_cv pid=22432)\u001b[0m [1,    20] loss: 0.395\n",
      "\u001b[36m(train_model_cv pid=22432)\u001b[0m [1,    30] loss: 0.338\n",
      "\u001b[36m(train_model_cv pid=22432)\u001b[0m Epoch [1/5], Training Loss: 0.4477\n",
      "\u001b[36m(train_model_cv pid=22432)\u001b[0m Epoch [1/5], Validation Loss: 0.4764\n"
     ]
    },
    {
     "name": "stderr",
     "output_type": "stream",
     "text": [
      "\u001b[36m(train_model_cv pid=22432)\u001b[0m Checkpoint successfully created at: Checkpoint(filesystem=local, path=C:/Users/johan/ray_results/train_model_cv_2024-11-26_18-30-35/trial_2b60a_00008_lr=1.0e-04_opt=AdamW_bs=4/checkpoint_000000)\n"
     ]
    },
    {
     "name": "stdout",
     "output_type": "stream",
     "text": [
      "\u001b[36m(train_model_cv pid=22432)\u001b[0m Validation loss improved to 0.4764. Saving checkpoint.\n",
      "\u001b[36m(train_model_cv pid=22432)\u001b[0m [2,    10] loss: 0.308\n",
      "\u001b[36m(train_model_cv pid=22432)\u001b[0m [2,    20] loss: 0.258\n",
      "\u001b[36m(train_model_cv pid=22432)\u001b[0m [2,    30] loss: 0.239\n",
      "\u001b[36m(train_model_cv pid=22432)\u001b[0m Epoch [2/5], Training Loss: 0.2949\n",
      "\u001b[36m(train_model_cv pid=22432)\u001b[0m Epoch [2/5], Validation Loss: 0.2490\n"
     ]
    },
    {
     "name": "stderr",
     "output_type": "stream",
     "text": [
      "\u001b[36m(train_model_cv pid=22432)\u001b[0m Checkpoint successfully created at: Checkpoint(filesystem=local, path=C:/Users/johan/ray_results/train_model_cv_2024-11-26_18-30-35/trial_2b60a_00008_lr=1.0e-04_opt=AdamW_bs=4/checkpoint_000001)\n"
     ]
    },
    {
     "name": "stdout",
     "output_type": "stream",
     "text": [
      "\u001b[36m(train_model_cv pid=22432)\u001b[0m Validation loss improved to 0.2490. Saving checkpoint.\n",
      "\u001b[36m(train_model_cv pid=22432)\u001b[0m [3,    10] loss: 0.367\n",
      "\u001b[36m(train_model_cv pid=22432)\u001b[0m [3,    20] loss: 0.225\n",
      "\u001b[36m(train_model_cv pid=22432)\u001b[0m [3,    30] loss: 0.274\n",
      "\u001b[36m(train_model_cv pid=22432)\u001b[0m Epoch [3/5], Training Loss: 0.2615\n",
      "\u001b[36m(train_model_cv pid=22432)\u001b[0m Epoch [3/5], Validation Loss: 0.2350\n"
     ]
    },
    {
     "name": "stderr",
     "output_type": "stream",
     "text": [
      "\u001b[36m(train_model_cv pid=22432)\u001b[0m Checkpoint successfully created at: Checkpoint(filesystem=local, path=C:/Users/johan/ray_results/train_model_cv_2024-11-26_18-30-35/trial_2b60a_00008_lr=1.0e-04_opt=AdamW_bs=4/checkpoint_000002)\n"
     ]
    },
    {
     "name": "stdout",
     "output_type": "stream",
     "text": [
      "\u001b[36m(train_model_cv pid=22432)\u001b[0m Validation loss improved to 0.2350. Saving checkpoint.\n",
      "\u001b[36m(train_model_cv pid=22432)\u001b[0m [4,    10] loss: 0.263\n",
      "\u001b[36m(train_model_cv pid=22432)\u001b[0m [4,    20] loss: 0.257\n",
      "\u001b[36m(train_model_cv pid=22432)\u001b[0m [4,    30] loss: 0.247\n",
      "\u001b[36m(train_model_cv pid=22432)\u001b[0m Epoch [4/5], Training Loss: 0.2329\n",
      "\u001b[36m(train_model_cv pid=22432)\u001b[0m Epoch [4/5], Validation Loss: 0.2113\n"
     ]
    },
    {
     "name": "stderr",
     "output_type": "stream",
     "text": [
      "\u001b[36m(train_model_cv pid=22432)\u001b[0m Checkpoint successfully created at: Checkpoint(filesystem=local, path=C:/Users/johan/ray_results/train_model_cv_2024-11-26_18-30-35/trial_2b60a_00008_lr=1.0e-04_opt=AdamW_bs=4/checkpoint_000003)\n"
     ]
    },
    {
     "name": "stdout",
     "output_type": "stream",
     "text": [
      "\u001b[36m(train_model_cv pid=22432)\u001b[0m Validation loss improved to 0.2113. Saving checkpoint.\n",
      "\u001b[36m(train_model_cv pid=22432)\u001b[0m [5,    10] loss: 0.216\n",
      "\u001b[36m(train_model_cv pid=22432)\u001b[0m [5,    20] loss: 0.215\n",
      "\u001b[36m(train_model_cv pid=22432)\u001b[0m [5,    30] loss: 0.224\n",
      "\u001b[36m(train_model_cv pid=22432)\u001b[0m Epoch [5/5], Training Loss: 0.2135\n",
      "\u001b[36m(train_model_cv pid=22432)\u001b[0m Epoch [5/5], Validation Loss: 0.2085\n"
     ]
    },
    {
     "name": "stderr",
     "output_type": "stream",
     "text": [
      "\u001b[36m(train_model_cv pid=22432)\u001b[0m Checkpoint successfully created at: Checkpoint(filesystem=local, path=C:/Users/johan/ray_results/train_model_cv_2024-11-26_18-30-35/trial_2b60a_00008_lr=1.0e-04_opt=AdamW_bs=4/checkpoint_000004)\n"
     ]
    },
    {
     "name": "stdout",
     "output_type": "stream",
     "text": [
      "\u001b[36m(train_model_cv pid=15932)\u001b[0m [neptune] [info   ] Neptune initialized. Open in the app: https://app.neptune.ai/OCTAA/OCTSegmenter/e/OCT-130\n",
      "\u001b[36m(train_model_cv pid=15932)\u001b[0m Training on fold 4\n",
      "\u001b[36m(train_model_cv pid=15932)\u001b[0m [1,    10] loss: 0.495\n",
      "\u001b[36m(train_model_cv pid=15932)\u001b[0m [1,    20] loss: 0.287\n",
      "\u001b[36m(train_model_cv pid=15932)\u001b[0m [1,    30] loss: 0.299\n",
      "\u001b[36m(train_model_cv pid=15932)\u001b[0m Epoch [1/5], Training Loss: 0.3812\n",
      "\u001b[36m(train_model_cv pid=15932)\u001b[0m Epoch [1/5], Validation Loss: 0.4490\n"
     ]
    },
    {
     "name": "stderr",
     "output_type": "stream",
     "text": [
      "\u001b[36m(train_model_cv pid=15932)\u001b[0m Checkpoint successfully created at: Checkpoint(filesystem=local, path=C:/Users/johan/ray_results/train_model_cv_2024-11-26_18-30-35/trial_2b60a_00009_lr=1.0e-04_opt=AdamW_bs=4/checkpoint_000000)\n"
     ]
    },
    {
     "name": "stdout",
     "output_type": "stream",
     "text": [
      "\u001b[36m(train_model_cv pid=15932)\u001b[0m Validation loss improved to 0.4490. Saving checkpoint.\n",
      "\u001b[36m(train_model_cv pid=15932)\u001b[0m [2,    10] loss: 0.230\n",
      "\u001b[36m(train_model_cv pid=15932)\u001b[0m [2,    20] loss: 0.248\n",
      "\u001b[36m(train_model_cv pid=15932)\u001b[0m [2,    30] loss: 0.207\n",
      "\u001b[36m(train_model_cv pid=15932)\u001b[0m Epoch [2/5], Training Loss: 0.2411\n",
      "\u001b[36m(train_model_cv pid=15932)\u001b[0m Epoch [2/5], Validation Loss: 0.2094\n"
     ]
    },
    {
     "name": "stderr",
     "output_type": "stream",
     "text": [
      "\u001b[36m(train_model_cv pid=15932)\u001b[0m Checkpoint successfully created at: Checkpoint(filesystem=local, path=C:/Users/johan/ray_results/train_model_cv_2024-11-26_18-30-35/trial_2b60a_00009_lr=1.0e-04_opt=AdamW_bs=4/checkpoint_000001)\n"
     ]
    },
    {
     "name": "stdout",
     "output_type": "stream",
     "text": [
      "\u001b[36m(train_model_cv pid=15932)\u001b[0m Validation loss improved to 0.2094. Saving checkpoint.\n",
      "\u001b[36m(train_model_cv pid=15932)\u001b[0m [3,    10] loss: 0.215\n",
      "\u001b[36m(train_model_cv pid=15932)\u001b[0m [3,    20] loss: 0.197\n",
      "\u001b[36m(train_model_cv pid=15932)\u001b[0m [3,    30] loss: 0.204\n",
      "\u001b[36m(train_model_cv pid=15932)\u001b[0m Epoch [3/5], Training Loss: 0.1927\n",
      "\u001b[36m(train_model_cv pid=15932)\u001b[0m Epoch [3/5], Validation Loss: 0.1796\n"
     ]
    },
    {
     "name": "stderr",
     "output_type": "stream",
     "text": [
      "\u001b[36m(train_model_cv pid=15932)\u001b[0m Checkpoint successfully created at: Checkpoint(filesystem=local, path=C:/Users/johan/ray_results/train_model_cv_2024-11-26_18-30-35/trial_2b60a_00009_lr=1.0e-04_opt=AdamW_bs=4/checkpoint_000002)\n"
     ]
    },
    {
     "name": "stdout",
     "output_type": "stream",
     "text": [
      "\u001b[36m(train_model_cv pid=15932)\u001b[0m Validation loss improved to 0.1796. Saving checkpoint.\n",
      "\u001b[36m(train_model_cv pid=15932)\u001b[0m [4,    10] loss: 0.191\n",
      "\u001b[36m(train_model_cv pid=15932)\u001b[0m [4,    20] loss: 0.183\n",
      "\u001b[36m(train_model_cv pid=15932)\u001b[0m [4,    30] loss: 0.176\n",
      "\u001b[36m(train_model_cv pid=15932)\u001b[0m Epoch [4/5], Training Loss: 0.1771\n",
      "\u001b[36m(train_model_cv pid=15932)\u001b[0m Epoch [4/5], Validation Loss: 0.1614\n"
     ]
    },
    {
     "name": "stderr",
     "output_type": "stream",
     "text": [
      "\u001b[36m(train_model_cv pid=15932)\u001b[0m Checkpoint successfully created at: Checkpoint(filesystem=local, path=C:/Users/johan/ray_results/train_model_cv_2024-11-26_18-30-35/trial_2b60a_00009_lr=1.0e-04_opt=AdamW_bs=4/checkpoint_000003)\n"
     ]
    },
    {
     "name": "stdout",
     "output_type": "stream",
     "text": [
      "\u001b[36m(train_model_cv pid=15932)\u001b[0m Validation loss improved to 0.1614. Saving checkpoint.\n",
      "\u001b[36m(train_model_cv pid=15932)\u001b[0m [5,    10] loss: 0.163\n",
      "\u001b[36m(train_model_cv pid=15932)\u001b[0m [5,    20] loss: 0.118\n",
      "\u001b[36m(train_model_cv pid=15932)\u001b[0m [5,    30] loss: 0.181\n",
      "\u001b[36m(train_model_cv pid=15932)\u001b[0m Epoch [5/5], Training Loss: 0.1616\n",
      "\u001b[36m(train_model_cv pid=15932)\u001b[0m Epoch [5/5], Validation Loss: 0.1629\n"
     ]
    },
    {
     "name": "stderr",
     "output_type": "stream",
     "text": [
      "\u001b[36m(train_model_cv pid=15932)\u001b[0m Checkpoint successfully created at: Checkpoint(filesystem=local, path=C:/Users/johan/ray_results/train_model_cv_2024-11-26_18-30-35/trial_2b60a_00009_lr=1.0e-04_opt=AdamW_bs=4/checkpoint_000004)\n"
     ]
    },
    {
     "name": "stdout",
     "output_type": "stream",
     "text": [
      "\u001b[36m(train_model_cv pid=22408)\u001b[0m [neptune] [info   ] Neptune initialized. Open in the app: https://app.neptune.ai/OCTAA/OCTSegmenter/e/OCT-131\n",
      "\u001b[36m(train_model_cv pid=22408)\u001b[0m Training on fold 0\n",
      "\u001b[36m(train_model_cv pid=22408)\u001b[0m [1,    10] loss: 1.374\n",
      "\u001b[36m(train_model_cv pid=22408)\u001b[0m [1,    20] loss: 0.894\n",
      "\u001b[36m(train_model_cv pid=22408)\u001b[0m [1,    30] loss: 1.235\n",
      "\u001b[36m(train_model_cv pid=22408)\u001b[0m Epoch [1/5], Training Loss: 1.2532\n",
      "\u001b[36m(train_model_cv pid=22408)\u001b[0m Epoch [1/5], Validation Loss: 1.3702\n"
     ]
    },
    {
     "name": "stderr",
     "output_type": "stream",
     "text": [
      "\u001b[36m(train_model_cv pid=22408)\u001b[0m Checkpoint successfully created at: Checkpoint(filesystem=local, path=C:/Users/johan/ray_results/train_model_cv_2024-11-26_18-30-35/trial_2b60a_00010_lr=1.0e-04_opt=AdamW_bs=4/checkpoint_000000)\n"
     ]
    },
    {
     "name": "stdout",
     "output_type": "stream",
     "text": [
      "\u001b[36m(train_model_cv pid=14692)\u001b[0m [neptune] [info   ] Neptune initialized. Open in the app: https://app.neptune.ai/OCTAA/OCTSegmenter/e/OCT-132\n",
      "\u001b[36m(train_model_cv pid=14692)\u001b[0m Training on fold 1\n",
      "\u001b[36m(train_model_cv pid=14692)\u001b[0m [1,    10] loss: 1.237\n",
      "\u001b[36m(train_model_cv pid=14692)\u001b[0m [1,    20] loss: 0.967\n",
      "\u001b[36m(train_model_cv pid=14692)\u001b[0m [1,    30] loss: 0.910\n",
      "\u001b[36m(train_model_cv pid=14692)\u001b[0m Epoch [1/5], Training Loss: 1.1781\n",
      "\u001b[36m(train_model_cv pid=14692)\u001b[0m Epoch [1/5], Validation Loss: 1.3627\n"
     ]
    },
    {
     "name": "stderr",
     "output_type": "stream",
     "text": [
      "\u001b[36m(train_model_cv pid=14692)\u001b[0m Checkpoint successfully created at: Checkpoint(filesystem=local, path=C:/Users/johan/ray_results/train_model_cv_2024-11-26_18-30-35/trial_2b60a_00011_lr=1.0e-04_opt=AdamW_bs=4/checkpoint_000000)\n"
     ]
    },
    {
     "name": "stdout",
     "output_type": "stream",
     "text": [
      "\u001b[36m(train_model_cv pid=6492)\u001b[0m [neptune] [info   ] Neptune initialized. Open in the app: https://app.neptune.ai/OCTAA/OCTSegmenter/e/OCT-133\n",
      "\u001b[36m(train_model_cv pid=6492)\u001b[0m Training on fold 2\n",
      "\u001b[36m(train_model_cv pid=6492)\u001b[0m [1,    10] loss: 1.622\n",
      "\u001b[36m(train_model_cv pid=6492)\u001b[0m [1,    20] loss: 0.902\n",
      "\u001b[36m(train_model_cv pid=6492)\u001b[0m [1,    30] loss: 0.881\n",
      "\u001b[36m(train_model_cv pid=6492)\u001b[0m Epoch [1/5], Training Loss: 1.2136\n",
      "\u001b[36m(train_model_cv pid=6492)\u001b[0m Epoch [1/5], Validation Loss: 1.3665\n"
     ]
    },
    {
     "name": "stderr",
     "output_type": "stream",
     "text": [
      "\u001b[36m(train_model_cv pid=6492)\u001b[0m Checkpoint successfully created at: Checkpoint(filesystem=local, path=C:/Users/johan/ray_results/train_model_cv_2024-11-26_18-30-35/trial_2b60a_00012_lr=1.0e-04_opt=AdamW_bs=4/checkpoint_000000)\n"
     ]
    },
    {
     "name": "stdout",
     "output_type": "stream",
     "text": [
      "\u001b[36m(train_model_cv pid=12180)\u001b[0m [neptune] [info   ] Neptune initialized. Open in the app: https://app.neptune.ai/OCTAA/OCTSegmenter/e/OCT-134\n",
      "\u001b[36m(train_model_cv pid=12180)\u001b[0m Training on fold 3\n",
      "\u001b[36m(train_model_cv pid=12180)\u001b[0m [1,    10] loss: 1.000\n",
      "\u001b[36m(train_model_cv pid=12180)\u001b[0m [1,    20] loss: 1.052\n",
      "\u001b[36m(train_model_cv pid=12180)\u001b[0m [1,    30] loss: 0.997\n",
      "\u001b[36m(train_model_cv pid=12180)\u001b[0m Epoch [1/5], Training Loss: 1.1935\n",
      "\u001b[36m(train_model_cv pid=12180)\u001b[0m Epoch [1/5], Validation Loss: 1.3578\n"
     ]
    },
    {
     "name": "stderr",
     "output_type": "stream",
     "text": [
      "\u001b[36m(train_model_cv pid=12180)\u001b[0m Checkpoint successfully created at: Checkpoint(filesystem=local, path=C:/Users/johan/ray_results/train_model_cv_2024-11-26_18-30-35/trial_2b60a_00013_lr=1.0e-04_opt=AdamW_bs=4/checkpoint_000000)\n"
     ]
    },
    {
     "name": "stdout",
     "output_type": "stream",
     "text": [
      "\u001b[36m(train_model_cv pid=1636)\u001b[0m [neptune] [info   ] Neptune initialized. Open in the app: https://app.neptune.ai/OCTAA/OCTSegmenter/e/OCT-135\n",
      "\u001b[36m(train_model_cv pid=1636)\u001b[0m Training on fold 4\n",
      "\u001b[36m(train_model_cv pid=1636)\u001b[0m [1,    10] loss: 1.486\n",
      "\u001b[36m(train_model_cv pid=1636)\u001b[0m [1,    20] loss: 1.218\n",
      "\u001b[36m(train_model_cv pid=1636)\u001b[0m [1,    30] loss: 1.094\n",
      "\u001b[36m(train_model_cv pid=1636)\u001b[0m Epoch [1/5], Training Loss: 1.1859\n",
      "\u001b[36m(train_model_cv pid=1636)\u001b[0m Epoch [1/5], Validation Loss: 1.3594\n"
     ]
    },
    {
     "name": "stderr",
     "output_type": "stream",
     "text": [
      "\u001b[36m(train_model_cv pid=1636)\u001b[0m Checkpoint successfully created at: Checkpoint(filesystem=local, path=C:/Users/johan/ray_results/train_model_cv_2024-11-26_18-30-35/trial_2b60a_00014_lr=1.0e-04_opt=AdamW_bs=4/checkpoint_000000)\n"
     ]
    },
    {
     "name": "stdout",
     "output_type": "stream",
     "text": [
      "\u001b[36m(train_model_cv pid=16424)\u001b[0m [neptune] [info   ] Neptune initialized. Open in the app: https://app.neptune.ai/OCTAA/OCTSegmenter/e/OCT-136\n",
      "\u001b[36m(train_model_cv pid=16424)\u001b[0m Training on fold 0\n",
      "\u001b[36m(train_model_cv pid=16424)\u001b[0m [1,    10] loss: 0.919\n",
      "\u001b[36m(train_model_cv pid=16424)\u001b[0m [1,    20] loss: 0.794\n",
      "\u001b[36m(train_model_cv pid=16424)\u001b[0m [1,    30] loss: 0.713\n",
      "\u001b[36m(train_model_cv pid=16424)\u001b[0m Epoch [1/5], Training Loss: 0.8641\n",
      "\u001b[36m(train_model_cv pid=16424)\u001b[0m Epoch [1/5], Validation Loss: 0.8672\n"
     ]
    },
    {
     "name": "stderr",
     "output_type": "stream",
     "text": [
      "\u001b[36m(train_model_cv pid=16424)\u001b[0m Checkpoint successfully created at: Checkpoint(filesystem=local, path=C:/Users/johan/ray_results/train_model_cv_2024-11-26_18-30-35/trial_2b60a_00015_lr=1.0e-04_opt=SGD_bs=4/checkpoint_000000)\n"
     ]
    },
    {
     "name": "stdout",
     "output_type": "stream",
     "text": [
      "\u001b[36m(train_model_cv pid=4424)\u001b[0m [neptune] [info   ] Neptune initialized. Open in the app: https://app.neptune.ai/OCTAA/OCTSegmenter/e/OCT-137\n",
      "\u001b[36m(train_model_cv pid=4424)\u001b[0m Training on fold 1\n",
      "\u001b[36m(train_model_cv pid=4424)\u001b[0m [1,    10] loss: 0.903\n",
      "\u001b[36m(train_model_cv pid=4424)\u001b[0m [1,    20] loss: 0.869\n",
      "\u001b[36m(train_model_cv pid=4424)\u001b[0m [1,    30] loss: 0.849\n",
      "\u001b[36m(train_model_cv pid=4424)\u001b[0m Epoch [1/5], Training Loss: 0.8283\n",
      "\u001b[36m(train_model_cv pid=4424)\u001b[0m Epoch [1/5], Validation Loss: 0.8656\n"
     ]
    },
    {
     "name": "stderr",
     "output_type": "stream",
     "text": [
      "\u001b[36m(train_model_cv pid=4424)\u001b[0m Checkpoint successfully created at: Checkpoint(filesystem=local, path=C:/Users/johan/ray_results/train_model_cv_2024-11-26_18-30-35/trial_2b60a_00016_lr=1.0e-04_opt=SGD_bs=4/checkpoint_000000)\n"
     ]
    },
    {
     "name": "stdout",
     "output_type": "stream",
     "text": [
      "\u001b[36m(train_model_cv pid=4424)\u001b[0m Validation loss improved to 0.8656. Saving checkpoint.\n",
      "\u001b[36m(train_model_cv pid=4424)\u001b[0m [2,    10] loss: 0.880\n",
      "\u001b[36m(train_model_cv pid=4424)\u001b[0m [2,    20] loss: 0.749\n",
      "\u001b[36m(train_model_cv pid=4424)\u001b[0m [2,    30] loss: 0.868\n",
      "\u001b[36m(train_model_cv pid=4424)\u001b[0m Epoch [2/5], Training Loss: 0.8175\n",
      "\u001b[36m(train_model_cv pid=4424)\u001b[0m Epoch [2/5], Validation Loss: 0.8336\n"
     ]
    },
    {
     "name": "stderr",
     "output_type": "stream",
     "text": [
      "\u001b[36m(train_model_cv pid=4424)\u001b[0m Checkpoint successfully created at: Checkpoint(filesystem=local, path=C:/Users/johan/ray_results/train_model_cv_2024-11-26_18-30-35/trial_2b60a_00016_lr=1.0e-04_opt=SGD_bs=4/checkpoint_000001)\n"
     ]
    },
    {
     "name": "stdout",
     "output_type": "stream",
     "text": [
      "\u001b[36m(train_model_cv pid=12428)\u001b[0m [neptune] [info   ] Neptune initialized. Open in the app: https://app.neptune.ai/OCTAA/OCTSegmenter/e/OCT-138\n",
      "\u001b[36m(train_model_cv pid=12428)\u001b[0m Training on fold 2\n",
      "\u001b[36m(train_model_cv pid=12428)\u001b[0m [1,    10] loss: 0.887\n",
      "\u001b[36m(train_model_cv pid=12428)\u001b[0m [1,    20] loss: 0.895\n",
      "\u001b[36m(train_model_cv pid=12428)\u001b[0m [1,    30] loss: 0.747\n",
      "\u001b[36m(train_model_cv pid=12428)\u001b[0m Epoch [1/5], Training Loss: 0.8266\n",
      "\u001b[36m(train_model_cv pid=12428)\u001b[0m Epoch [1/5], Validation Loss: 0.8620\n"
     ]
    },
    {
     "name": "stderr",
     "output_type": "stream",
     "text": [
      "\u001b[36m(train_model_cv pid=12428)\u001b[0m Checkpoint successfully created at: Checkpoint(filesystem=local, path=C:/Users/johan/ray_results/train_model_cv_2024-11-26_18-30-35/trial_2b60a_00017_lr=1.0e-04_opt=SGD_bs=4/checkpoint_000000)\n"
     ]
    },
    {
     "name": "stdout",
     "output_type": "stream",
     "text": [
      "\u001b[36m(train_model_cv pid=12428)\u001b[0m Validation loss improved to 0.8620. Saving checkpoint.\n",
      "\u001b[36m(train_model_cv pid=12428)\u001b[0m [2,    10] loss: 0.746\n",
      "\u001b[36m(train_model_cv pid=12428)\u001b[0m [2,    20] loss: 0.867\n",
      "\u001b[36m(train_model_cv pid=12428)\u001b[0m [2,    30] loss: 0.778\n",
      "\u001b[36m(train_model_cv pid=12428)\u001b[0m Epoch [2/5], Training Loss: 0.8176\n",
      "\u001b[36m(train_model_cv pid=12428)\u001b[0m Epoch [2/5], Validation Loss: 0.8331\n"
     ]
    },
    {
     "name": "stderr",
     "output_type": "stream",
     "text": [
      "\u001b[36m(train_model_cv pid=12428)\u001b[0m Checkpoint successfully created at: Checkpoint(filesystem=local, path=C:/Users/johan/ray_results/train_model_cv_2024-11-26_18-30-35/trial_2b60a_00017_lr=1.0e-04_opt=SGD_bs=4/checkpoint_000001)\n"
     ]
    },
    {
     "name": "stdout",
     "output_type": "stream",
     "text": [
      "\u001b[36m(train_model_cv pid=11860)\u001b[0m [neptune] [info   ] Neptune initialized. Open in the app: https://app.neptune.ai/OCTAA/OCTSegmenter/e/OCT-139\n",
      "\u001b[36m(train_model_cv pid=11860)\u001b[0m Training on fold 3\n",
      "\u001b[36m(train_model_cv pid=11860)\u001b[0m [1,    10] loss: 0.861\n",
      "\u001b[36m(train_model_cv pid=11860)\u001b[0m [1,    20] loss: 0.876\n",
      "\u001b[36m(train_model_cv pid=11860)\u001b[0m [1,    30] loss: 0.874\n",
      "\u001b[36m(train_model_cv pid=11860)\u001b[0m Epoch [1/5], Training Loss: 0.8211\n",
      "\u001b[36m(train_model_cv pid=11860)\u001b[0m Epoch [1/5], Validation Loss: 0.8645\n"
     ]
    },
    {
     "name": "stderr",
     "output_type": "stream",
     "text": [
      "\u001b[36m(train_model_cv pid=11860)\u001b[0m Checkpoint successfully created at: Checkpoint(filesystem=local, path=C:/Users/johan/ray_results/train_model_cv_2024-11-26_18-30-35/trial_2b60a_00018_lr=1.0e-04_opt=SGD_bs=4/checkpoint_000000)\n"
     ]
    },
    {
     "name": "stdout",
     "output_type": "stream",
     "text": [
      "\u001b[36m(train_model_cv pid=11860)\u001b[0m Validation loss improved to 0.8645. Saving checkpoint.\n",
      "\u001b[36m(train_model_cv pid=11860)\u001b[0m [2,    10] loss: 0.757\n",
      "\u001b[36m(train_model_cv pid=11860)\u001b[0m [2,    20] loss: 0.868\n",
      "\u001b[36m(train_model_cv pid=11860)\u001b[0m [2,    30] loss: 0.875\n",
      "\u001b[36m(train_model_cv pid=11860)\u001b[0m Epoch [2/5], Training Loss: 0.8181\n",
      "\u001b[36m(train_model_cv pid=11860)\u001b[0m Epoch [2/5], Validation Loss: 0.8340\n"
     ]
    },
    {
     "name": "stderr",
     "output_type": "stream",
     "text": [
      "\u001b[36m(train_model_cv pid=11860)\u001b[0m Checkpoint successfully created at: Checkpoint(filesystem=local, path=C:/Users/johan/ray_results/train_model_cv_2024-11-26_18-30-35/trial_2b60a_00018_lr=1.0e-04_opt=SGD_bs=4/checkpoint_000001)\n"
     ]
    },
    {
     "name": "stdout",
     "output_type": "stream",
     "text": [
      "\u001b[36m(train_model_cv pid=21272)\u001b[0m [neptune] [info   ] Neptune initialized. Open in the app: https://app.neptune.ai/OCTAA/OCTSegmenter/e/OCT-140\n",
      "\u001b[36m(train_model_cv pid=21272)\u001b[0m Training on fold 4\n",
      "\u001b[36m(train_model_cv pid=21272)\u001b[0m [1,    10] loss: 0.887\n",
      "\u001b[36m(train_model_cv pid=21272)\u001b[0m [1,    20] loss: 0.890\n",
      "\u001b[36m(train_model_cv pid=21272)\u001b[0m [1,    30] loss: 0.916\n",
      "\u001b[36m(train_model_cv pid=21272)\u001b[0m Epoch [1/5], Training Loss: 0.8309\n",
      "\u001b[36m(train_model_cv pid=21272)\u001b[0m Epoch [1/5], Validation Loss: 0.8637\n"
     ]
    },
    {
     "name": "stderr",
     "output_type": "stream",
     "text": [
      "\u001b[36m(train_model_cv pid=21272)\u001b[0m Checkpoint successfully created at: Checkpoint(filesystem=local, path=C:/Users/johan/ray_results/train_model_cv_2024-11-26_18-30-35/trial_2b60a_00019_lr=1.0e-04_opt=SGD_bs=4/checkpoint_000000)\n"
     ]
    },
    {
     "name": "stdout",
     "output_type": "stream",
     "text": [
      "\u001b[36m(train_model_cv pid=21272)\u001b[0m Validation loss improved to 0.8637. Saving checkpoint.\n",
      "\u001b[36m(train_model_cv pid=21272)\u001b[0m [2,    10] loss: 0.916\n",
      "\u001b[36m(train_model_cv pid=21272)\u001b[0m [2,    20] loss: 0.892\n",
      "\u001b[36m(train_model_cv pid=21272)\u001b[0m [2,    30] loss: 0.875\n",
      "\u001b[36m(train_model_cv pid=21272)\u001b[0m Epoch [2/5], Training Loss: 0.8243\n",
      "\u001b[36m(train_model_cv pid=21272)\u001b[0m Epoch [2/5], Validation Loss: 0.8388\n"
     ]
    },
    {
     "name": "stderr",
     "output_type": "stream",
     "text": [
      "\u001b[36m(train_model_cv pid=21272)\u001b[0m Checkpoint successfully created at: Checkpoint(filesystem=local, path=C:/Users/johan/ray_results/train_model_cv_2024-11-26_18-30-35/trial_2b60a_00019_lr=1.0e-04_opt=SGD_bs=4/checkpoint_000001)\n"
     ]
    },
    {
     "name": "stdout",
     "output_type": "stream",
     "text": [
      "\u001b[36m(train_model_cv pid=23660)\u001b[0m [neptune] [info   ] Neptune initialized. Open in the app: https://app.neptune.ai/OCTAA/OCTSegmenter/e/OCT-141\n",
      "\u001b[36m(train_model_cv pid=23660)\u001b[0m Training on fold 0\n",
      "\u001b[36m(train_model_cv pid=23660)\u001b[0m [1,    10] loss: 0.803\n",
      "\u001b[36m(train_model_cv pid=23660)\u001b[0m [1,    20] loss: 0.794\n",
      "\u001b[36m(train_model_cv pid=23660)\u001b[0m [1,    30] loss: 0.783\n",
      "\u001b[36m(train_model_cv pid=23660)\u001b[0m Epoch [1/5], Training Loss: 0.8229\n",
      "\u001b[36m(train_model_cv pid=23660)\u001b[0m Epoch [1/5], Validation Loss: 0.7440\n"
     ]
    },
    {
     "name": "stderr",
     "output_type": "stream",
     "text": [
      "\u001b[36m(train_model_cv pid=23660)\u001b[0m Checkpoint successfully created at: Checkpoint(filesystem=local, path=C:/Users/johan/ray_results/train_model_cv_2024-11-26_18-30-35/trial_2b60a_00020_lr=1.0e-04_opt=SGD_bs=4/checkpoint_000000)\n"
     ]
    },
    {
     "name": "stdout",
     "output_type": "stream",
     "text": [
      "\u001b[36m(train_model_cv pid=23660)\u001b[0m Validation loss improved to 0.7440. Saving checkpoint.\n",
      "\u001b[36m(train_model_cv pid=23660)\u001b[0m [2,    10] loss: 0.775\n",
      "\u001b[36m(train_model_cv pid=23660)\u001b[0m [2,    20] loss: 0.758\n",
      "\u001b[36m(train_model_cv pid=23660)\u001b[0m [2,    30] loss: 0.746\n",
      "\u001b[36m(train_model_cv pid=23660)\u001b[0m Epoch [2/5], Training Loss: 0.7604\n",
      "\u001b[36m(train_model_cv pid=23660)\u001b[0m Epoch [2/5], Validation Loss: 0.7193\n"
     ]
    },
    {
     "name": "stderr",
     "output_type": "stream",
     "text": [
      "\u001b[36m(train_model_cv pid=23660)\u001b[0m Checkpoint successfully created at: Checkpoint(filesystem=local, path=C:/Users/johan/ray_results/train_model_cv_2024-11-26_18-30-35/trial_2b60a_00020_lr=1.0e-04_opt=SGD_bs=4/checkpoint_000001)\n"
     ]
    },
    {
     "name": "stdout",
     "output_type": "stream",
     "text": [
      "\u001b[36m(train_model_cv pid=2736)\u001b[0m [neptune] [info   ] Neptune initialized. Open in the app: https://app.neptune.ai/OCTAA/OCTSegmenter/e/OCT-142\n",
      "\u001b[36m(train_model_cv pid=2736)\u001b[0m Training on fold 1\n",
      "\u001b[36m(train_model_cv pid=2736)\u001b[0m [1,    10] loss: 0.718\n",
      "\u001b[36m(train_model_cv pid=2736)\u001b[0m [1,    20] loss: 0.707\n",
      "\u001b[36m(train_model_cv pid=2736)\u001b[0m [1,    30] loss: 0.694\n",
      "\u001b[36m(train_model_cv pid=2736)\u001b[0m Epoch [1/5], Training Loss: 0.7077\n",
      "\u001b[36m(train_model_cv pid=2736)\u001b[0m Epoch [1/5], Validation Loss: 0.6325\n"
     ]
    },
    {
     "name": "stderr",
     "output_type": "stream",
     "text": [
      "\u001b[36m(train_model_cv pid=2736)\u001b[0m Checkpoint successfully created at: Checkpoint(filesystem=local, path=C:/Users/johan/ray_results/train_model_cv_2024-11-26_18-30-35/trial_2b60a_00021_lr=1.0e-04_opt=SGD_bs=4/checkpoint_000000)\n"
     ]
    },
    {
     "name": "stdout",
     "output_type": "stream",
     "text": [
      "\u001b[36m(train_model_cv pid=2736)\u001b[0m Validation loss improved to 0.6325. Saving checkpoint.\n",
      "\u001b[36m(train_model_cv pid=2736)\u001b[0m [2,    10] loss: 0.677\n",
      "\u001b[36m(train_model_cv pid=2736)\u001b[0m [2,    20] loss: 0.655\n",
      "\u001b[36m(train_model_cv pid=2736)\u001b[0m [2,    30] loss: 0.638\n",
      "\u001b[36m(train_model_cv pid=2736)\u001b[0m Epoch [2/5], Training Loss: 0.6587\n",
      "\u001b[36m(train_model_cv pid=2736)\u001b[0m Epoch [2/5], Validation Loss: 0.6211\n"
     ]
    },
    {
     "name": "stderr",
     "output_type": "stream",
     "text": [
      "\u001b[36m(train_model_cv pid=2736)\u001b[0m Checkpoint successfully created at: Checkpoint(filesystem=local, path=C:/Users/johan/ray_results/train_model_cv_2024-11-26_18-30-35/trial_2b60a_00021_lr=1.0e-04_opt=SGD_bs=4/checkpoint_000001)\n"
     ]
    },
    {
     "name": "stdout",
     "output_type": "stream",
     "text": [
      "\u001b[36m(train_model_cv pid=2736)\u001b[0m Validation loss improved to 0.6211. Saving checkpoint.\n",
      "\u001b[36m(train_model_cv pid=2736)\u001b[0m [3,    10] loss: 0.618\n",
      "\u001b[36m(train_model_cv pid=2736)\u001b[0m [3,    20] loss: 0.614\n",
      "\u001b[36m(train_model_cv pid=2736)\u001b[0m [3,    30] loss: 0.607\n",
      "\u001b[36m(train_model_cv pid=2736)\u001b[0m Epoch [3/5], Training Loss: 0.6149\n",
      "\u001b[36m(train_model_cv pid=2736)\u001b[0m Epoch [3/5], Validation Loss: 0.5983\n"
     ]
    },
    {
     "name": "stderr",
     "output_type": "stream",
     "text": [
      "\u001b[36m(train_model_cv pid=2736)\u001b[0m Checkpoint successfully created at: Checkpoint(filesystem=local, path=C:/Users/johan/ray_results/train_model_cv_2024-11-26_18-30-35/trial_2b60a_00021_lr=1.0e-04_opt=SGD_bs=4/checkpoint_000002)\n"
     ]
    },
    {
     "name": "stdout",
     "output_type": "stream",
     "text": [
      "\u001b[36m(train_model_cv pid=2736)\u001b[0m Validation loss improved to 0.5983. Saving checkpoint.\n",
      "\u001b[36m(train_model_cv pid=2736)\u001b[0m [4,    10] loss: 0.592\n",
      "\u001b[36m(train_model_cv pid=2736)\u001b[0m [4,    20] loss: 0.569\n",
      "\u001b[36m(train_model_cv pid=2736)\u001b[0m [4,    30] loss: 0.561\n",
      "\u001b[36m(train_model_cv pid=2736)\u001b[0m Epoch [4/5], Training Loss: 0.5775\n",
      "\u001b[36m(train_model_cv pid=2736)\u001b[0m Epoch [4/5], Validation Loss: 0.5609\n"
     ]
    },
    {
     "name": "stderr",
     "output_type": "stream",
     "text": [
      "\u001b[36m(train_model_cv pid=2736)\u001b[0m Checkpoint successfully created at: Checkpoint(filesystem=local, path=C:/Users/johan/ray_results/train_model_cv_2024-11-26_18-30-35/trial_2b60a_00021_lr=1.0e-04_opt=SGD_bs=4/checkpoint_000003)\n"
     ]
    },
    {
     "name": "stdout",
     "output_type": "stream",
     "text": [
      "\u001b[36m(train_model_cv pid=6672)\u001b[0m [neptune] [info   ] Neptune initialized. Open in the app: https://app.neptune.ai/OCTAA/OCTSegmenter/e/OCT-143\n",
      "\u001b[36m(train_model_cv pid=6672)\u001b[0m Training on fold 2\n",
      "\u001b[36m(train_model_cv pid=6672)\u001b[0m [1,    10] loss: 0.658\n",
      "\u001b[36m(train_model_cv pid=6672)\u001b[0m [1,    20] loss: 0.657\n",
      "\u001b[36m(train_model_cv pid=6672)\u001b[0m [1,    30] loss: 0.630\n",
      "\u001b[36m(train_model_cv pid=6672)\u001b[0m Epoch [1/5], Training Loss: 0.6505\n",
      "\u001b[36m(train_model_cv pid=6672)\u001b[0m Epoch [1/5], Validation Loss: 0.6592\n"
     ]
    },
    {
     "name": "stderr",
     "output_type": "stream",
     "text": [
      "\u001b[36m(train_model_cv pid=6672)\u001b[0m Checkpoint successfully created at: Checkpoint(filesystem=local, path=C:/Users/johan/ray_results/train_model_cv_2024-11-26_18-30-35/trial_2b60a_00022_lr=1.0e-04_opt=SGD_bs=4/checkpoint_000000)\n"
     ]
    },
    {
     "name": "stdout",
     "output_type": "stream",
     "text": [
      "\u001b[36m(train_model_cv pid=6672)\u001b[0m Validation loss improved to 0.6592. Saving checkpoint.\n",
      "\u001b[36m(train_model_cv pid=6672)\u001b[0m [2,    10] loss: 0.605\n",
      "\u001b[36m(train_model_cv pid=6672)\u001b[0m [2,    20] loss: 0.597\n",
      "\u001b[36m(train_model_cv pid=6672)\u001b[0m [2,    30] loss: 0.588\n",
      "\u001b[36m(train_model_cv pid=6672)\u001b[0m Epoch [2/5], Training Loss: 0.6075\n",
      "\u001b[36m(train_model_cv pid=6672)\u001b[0m Epoch [2/5], Validation Loss: 0.5873\n"
     ]
    },
    {
     "name": "stderr",
     "output_type": "stream",
     "text": [
      "\u001b[36m(train_model_cv pid=6672)\u001b[0m Checkpoint successfully created at: Checkpoint(filesystem=local, path=C:/Users/johan/ray_results/train_model_cv_2024-11-26_18-30-35/trial_2b60a_00022_lr=1.0e-04_opt=SGD_bs=4/checkpoint_000001)\n"
     ]
    },
    {
     "name": "stdout",
     "output_type": "stream",
     "text": [
      "\u001b[36m(train_model_cv pid=6672)\u001b[0m Validation loss improved to 0.5873. Saving checkpoint.\n",
      "\u001b[36m(train_model_cv pid=6672)\u001b[0m [3,    10] loss: 0.572\n",
      "\u001b[36m(train_model_cv pid=6672)\u001b[0m [3,    20] loss: 0.557\n",
      "\u001b[36m(train_model_cv pid=6672)\u001b[0m [3,    30] loss: 0.547\n",
      "\u001b[36m(train_model_cv pid=6672)\u001b[0m Epoch [3/5], Training Loss: 0.5699\n",
      "\u001b[36m(train_model_cv pid=6672)\u001b[0m Epoch [3/5], Validation Loss: 0.5556\n"
     ]
    },
    {
     "name": "stderr",
     "output_type": "stream",
     "text": [
      "\u001b[36m(train_model_cv pid=6672)\u001b[0m Checkpoint successfully created at: Checkpoint(filesystem=local, path=C:/Users/johan/ray_results/train_model_cv_2024-11-26_18-30-35/trial_2b60a_00022_lr=1.0e-04_opt=SGD_bs=4/checkpoint_000002)\n"
     ]
    },
    {
     "name": "stdout",
     "output_type": "stream",
     "text": [
      "\u001b[36m(train_model_cv pid=6672)\u001b[0m Validation loss improved to 0.5556. Saving checkpoint.\n",
      "\u001b[36m(train_model_cv pid=6672)\u001b[0m [4,    10] loss: 0.539\n",
      "\u001b[36m(train_model_cv pid=6672)\u001b[0m [4,    20] loss: 0.525\n",
      "\u001b[36m(train_model_cv pid=6672)\u001b[0m [4,    30] loss: 0.543\n",
      "\u001b[36m(train_model_cv pid=6672)\u001b[0m Epoch [4/5], Training Loss: 0.5374\n",
      "\u001b[36m(train_model_cv pid=6672)\u001b[0m Epoch [4/5], Validation Loss: 0.5251\n"
     ]
    },
    {
     "name": "stderr",
     "output_type": "stream",
     "text": [
      "\u001b[36m(train_model_cv pid=6672)\u001b[0m Checkpoint successfully created at: Checkpoint(filesystem=local, path=C:/Users/johan/ray_results/train_model_cv_2024-11-26_18-30-35/trial_2b60a_00022_lr=1.0e-04_opt=SGD_bs=4/checkpoint_000003)\n"
     ]
    },
    {
     "name": "stdout",
     "output_type": "stream",
     "text": [
      "\u001b[36m(train_model_cv pid=14364)\u001b[0m [neptune] [info   ] Neptune initialized. Open in the app: https://app.neptune.ai/OCTAA/OCTSegmenter/e/OCT-144\n",
      "\u001b[36m(train_model_cv pid=14364)\u001b[0m Training on fold 3\n",
      "\u001b[36m(train_model_cv pid=14364)\u001b[0m [1,    10] loss: 0.668\n",
      "\u001b[36m(train_model_cv pid=14364)\u001b[0m [1,    20] loss: 0.656\n",
      "\u001b[36m(train_model_cv pid=14364)\u001b[0m [1,    30] loss: 0.624\n",
      "\u001b[36m(train_model_cv pid=14364)\u001b[0m Epoch [1/5], Training Loss: 0.6431\n",
      "\u001b[36m(train_model_cv pid=14364)\u001b[0m Epoch [1/5], Validation Loss: 0.5914\n"
     ]
    },
    {
     "name": "stderr",
     "output_type": "stream",
     "text": [
      "\u001b[36m(train_model_cv pid=14364)\u001b[0m Checkpoint successfully created at: Checkpoint(filesystem=local, path=C:/Users/johan/ray_results/train_model_cv_2024-11-26_18-30-35/trial_2b60a_00023_lr=1.0e-04_opt=SGD_bs=4/checkpoint_000000)\n"
     ]
    },
    {
     "name": "stdout",
     "output_type": "stream",
     "text": [
      "\u001b[36m(train_model_cv pid=14364)\u001b[0m Validation loss improved to 0.5914. Saving checkpoint.\n",
      "\u001b[36m(train_model_cv pid=14364)\u001b[0m [2,    10] loss: 0.602\n",
      "\u001b[36m(train_model_cv pid=14364)\u001b[0m [2,    20] loss: 0.589\n",
      "\u001b[36m(train_model_cv pid=14364)\u001b[0m [2,    30] loss: 0.604\n",
      "\u001b[36m(train_model_cv pid=14364)\u001b[0m Epoch [2/5], Training Loss: 0.6044\n",
      "\u001b[36m(train_model_cv pid=14364)\u001b[0m Epoch [2/5], Validation Loss: 0.5762\n"
     ]
    },
    {
     "name": "stderr",
     "output_type": "stream",
     "text": [
      "\u001b[36m(train_model_cv pid=14364)\u001b[0m Checkpoint successfully created at: Checkpoint(filesystem=local, path=C:/Users/johan/ray_results/train_model_cv_2024-11-26_18-30-35/trial_2b60a_00023_lr=1.0e-04_opt=SGD_bs=4/checkpoint_000001)\n"
     ]
    },
    {
     "name": "stdout",
     "output_type": "stream",
     "text": [
      "\u001b[36m(train_model_cv pid=14364)\u001b[0m Validation loss improved to 0.5762. Saving checkpoint.\n",
      "\u001b[36m(train_model_cv pid=14364)\u001b[0m [3,    10] loss: 0.564\n",
      "\u001b[36m(train_model_cv pid=14364)\u001b[0m [3,    20] loss: 0.613\n",
      "\u001b[36m(train_model_cv pid=14364)\u001b[0m [3,    30] loss: 0.546\n",
      "\u001b[36m(train_model_cv pid=14364)\u001b[0m Epoch [3/5], Training Loss: 0.5689\n",
      "\u001b[36m(train_model_cv pid=14364)\u001b[0m Epoch [3/5], Validation Loss: 0.5555\n"
     ]
    },
    {
     "name": "stderr",
     "output_type": "stream",
     "text": [
      "\u001b[36m(train_model_cv pid=14364)\u001b[0m Checkpoint successfully created at: Checkpoint(filesystem=local, path=C:/Users/johan/ray_results/train_model_cv_2024-11-26_18-30-35/trial_2b60a_00023_lr=1.0e-04_opt=SGD_bs=4/checkpoint_000002)\n"
     ]
    },
    {
     "name": "stdout",
     "output_type": "stream",
     "text": [
      "\u001b[36m(train_model_cv pid=14364)\u001b[0m Validation loss improved to 0.5555. Saving checkpoint.\n",
      "\u001b[36m(train_model_cv pid=14364)\u001b[0m [4,    10] loss: 0.529\n",
      "\u001b[36m(train_model_cv pid=14364)\u001b[0m [4,    20] loss: 0.520\n",
      "\u001b[36m(train_model_cv pid=14364)\u001b[0m [4,    30] loss: 0.540\n",
      "\u001b[36m(train_model_cv pid=14364)\u001b[0m Epoch [4/5], Training Loss: 0.5364\n",
      "\u001b[36m(train_model_cv pid=14364)\u001b[0m Epoch [4/5], Validation Loss: 0.5254\n"
     ]
    },
    {
     "name": "stderr",
     "output_type": "stream",
     "text": [
      "\u001b[36m(train_model_cv pid=14364)\u001b[0m Checkpoint successfully created at: Checkpoint(filesystem=local, path=C:/Users/johan/ray_results/train_model_cv_2024-11-26_18-30-35/trial_2b60a_00023_lr=1.0e-04_opt=SGD_bs=4/checkpoint_000003)\n"
     ]
    },
    {
     "name": "stdout",
     "output_type": "stream",
     "text": [
      "\u001b[36m(train_model_cv pid=22068)\u001b[0m [neptune] [info   ] Neptune initialized. Open in the app: https://app.neptune.ai/OCTAA/OCTSegmenter/e/OCT-145\n",
      "\u001b[36m(train_model_cv pid=22068)\u001b[0m Training on fold 4\n",
      "\u001b[36m(train_model_cv pid=22068)\u001b[0m [1,    10] loss: 0.719\n",
      "\u001b[36m(train_model_cv pid=22068)\u001b[0m [1,    20] loss: 0.705\n",
      "\u001b[36m(train_model_cv pid=22068)\u001b[0m [1,    30] loss: 0.691\n",
      "\u001b[36m(train_model_cv pid=22068)\u001b[0m Epoch [1/5], Training Loss: 0.7069\n",
      "\u001b[36m(train_model_cv pid=22068)\u001b[0m Epoch [1/5], Validation Loss: 0.6251\n"
     ]
    },
    {
     "name": "stderr",
     "output_type": "stream",
     "text": [
      "\u001b[36m(train_model_cv pid=22068)\u001b[0m Checkpoint successfully created at: Checkpoint(filesystem=local, path=C:/Users/johan/ray_results/train_model_cv_2024-11-26_18-30-35/trial_2b60a_00024_lr=1.0e-04_opt=SGD_bs=4/checkpoint_000000)\n"
     ]
    },
    {
     "name": "stdout",
     "output_type": "stream",
     "text": [
      "\u001b[36m(train_model_cv pid=22068)\u001b[0m Validation loss improved to 0.6251. Saving checkpoint.\n",
      "\u001b[36m(train_model_cv pid=22068)\u001b[0m [2,    10] loss: 0.672\n",
      "\u001b[36m(train_model_cv pid=22068)\u001b[0m [2,    20] loss: 0.661\n",
      "\u001b[36m(train_model_cv pid=22068)\u001b[0m [2,    30] loss: 0.650\n",
      "\u001b[36m(train_model_cv pid=22068)\u001b[0m Epoch [2/5], Training Loss: 0.6602\n",
      "\u001b[36m(train_model_cv pid=22068)\u001b[0m Epoch [2/5], Validation Loss: 0.6263\n"
     ]
    },
    {
     "name": "stderr",
     "output_type": "stream",
     "text": [
      "\u001b[36m(train_model_cv pid=22068)\u001b[0m Checkpoint successfully created at: Checkpoint(filesystem=local, path=C:/Users/johan/ray_results/train_model_cv_2024-11-26_18-30-35/trial_2b60a_00024_lr=1.0e-04_opt=SGD_bs=4/checkpoint_000001)\n"
     ]
    },
    {
     "name": "stdout",
     "output_type": "stream",
     "text": [
      "\u001b[36m(train_model_cv pid=10692)\u001b[0m [neptune] [info   ] Neptune initialized. Open in the app: https://app.neptune.ai/OCTAA/OCTSegmenter/e/OCT-146\n",
      "\u001b[36m(train_model_cv pid=10692)\u001b[0m Training on fold 0\n",
      "\u001b[36m(train_model_cv pid=10692)\u001b[0m [1,    10] loss: 1.529\n",
      "\u001b[36m(train_model_cv pid=10692)\u001b[0m [1,    20] loss: 1.666\n",
      "\u001b[36m(train_model_cv pid=10692)\u001b[0m [1,    30] loss: 1.623\n",
      "\u001b[36m(train_model_cv pid=10692)\u001b[0m Epoch [1/5], Training Loss: 1.5994\n",
      "\u001b[36m(train_model_cv pid=10692)\u001b[0m Epoch [1/5], Validation Loss: 1.5951\n"
     ]
    },
    {
     "name": "stderr",
     "output_type": "stream",
     "text": [
      "\u001b[36m(train_model_cv pid=10692)\u001b[0m Checkpoint successfully created at: Checkpoint(filesystem=local, path=C:/Users/johan/ray_results/train_model_cv_2024-11-26_18-30-35/trial_2b60a_00025_lr=1.0e-04_opt=SGD_bs=4/checkpoint_000000)\n"
     ]
    },
    {
     "name": "stdout",
     "output_type": "stream",
     "text": [
      "\u001b[36m(train_model_cv pid=13808)\u001b[0m [neptune] [info   ] Neptune initialized. Open in the app: https://app.neptune.ai/OCTAA/OCTSegmenter/e/OCT-147\n",
      "\u001b[36m(train_model_cv pid=13808)\u001b[0m Training on fold 1\n",
      "\u001b[36m(train_model_cv pid=13808)\u001b[0m [1,    10] loss: 1.609\n",
      "\u001b[36m(train_model_cv pid=13808)\u001b[0m [1,    20] loss: 1.592\n",
      "\u001b[36m(train_model_cv pid=13808)\u001b[0m [1,    30] loss: 1.516\n",
      "\u001b[36m(train_model_cv pid=13808)\u001b[0m Epoch [1/5], Training Loss: 1.5273\n",
      "\u001b[36m(train_model_cv pid=13808)\u001b[0m Epoch [1/5], Validation Loss: 1.5012\n"
     ]
    },
    {
     "name": "stderr",
     "output_type": "stream",
     "text": [
      "\u001b[36m(train_model_cv pid=13808)\u001b[0m Checkpoint successfully created at: Checkpoint(filesystem=local, path=C:/Users/johan/ray_results/train_model_cv_2024-11-26_18-30-35/trial_2b60a_00026_lr=1.0e-04_opt=SGD_bs=4/checkpoint_000000)\n"
     ]
    },
    {
     "name": "stdout",
     "output_type": "stream",
     "text": [
      "\u001b[36m(train_model_cv pid=23572)\u001b[0m [neptune] [info   ] Neptune initialized. Open in the app: https://app.neptune.ai/OCTAA/OCTSegmenter/e/OCT-148\n",
      "\u001b[36m(train_model_cv pid=23572)\u001b[0m Training on fold 2\n",
      "\u001b[36m(train_model_cv pid=23572)\u001b[0m [1,    10] loss: 1.649\n",
      "\u001b[36m(train_model_cv pid=23572)\u001b[0m [1,    20] loss: 1.655\n",
      "\u001b[36m(train_model_cv pid=23572)\u001b[0m [1,    30] loss: 1.619\n",
      "\u001b[36m(train_model_cv pid=23572)\u001b[0m Epoch [1/5], Training Loss: 1.5789\n",
      "\u001b[36m(train_model_cv pid=23572)\u001b[0m Epoch [1/5], Validation Loss: 1.5687\n"
     ]
    },
    {
     "name": "stderr",
     "output_type": "stream",
     "text": [
      "\u001b[36m(train_model_cv pid=23572)\u001b[0m Checkpoint successfully created at: Checkpoint(filesystem=local, path=C:/Users/johan/ray_results/train_model_cv_2024-11-26_18-30-35/trial_2b60a_00027_lr=1.0e-04_opt=SGD_bs=4/checkpoint_000000)\n"
     ]
    },
    {
     "name": "stdout",
     "output_type": "stream",
     "text": [
      "\u001b[36m(train_model_cv pid=8012)\u001b[0m [neptune] [info   ] Neptune initialized. Open in the app: https://app.neptune.ai/OCTAA/OCTSegmenter/e/OCT-149\n",
      "\u001b[36m(train_model_cv pid=8012)\u001b[0m Training on fold 3\n",
      "\u001b[36m(train_model_cv pid=8012)\u001b[0m [1,    10] loss: 1.567\n",
      "\u001b[36m(train_model_cv pid=8012)\u001b[0m [1,    20] loss: 1.556\n",
      "\u001b[36m(train_model_cv pid=8012)\u001b[0m [1,    30] loss: 1.540\n",
      "\u001b[36m(train_model_cv pid=8012)\u001b[0m Epoch [1/5], Training Loss: 1.6408\n",
      "\u001b[36m(train_model_cv pid=8012)\u001b[0m Epoch [1/5], Validation Loss: 1.5663\n"
     ]
    },
    {
     "name": "stderr",
     "output_type": "stream",
     "text": [
      "\u001b[36m(train_model_cv pid=8012)\u001b[0m Checkpoint successfully created at: Checkpoint(filesystem=local, path=C:/Users/johan/ray_results/train_model_cv_2024-11-26_18-30-35/trial_2b60a_00028_lr=1.0e-04_opt=SGD_bs=4/checkpoint_000000)\n"
     ]
    },
    {
     "name": "stdout",
     "output_type": "stream",
     "text": [
      "\u001b[36m(train_model_cv pid=18388)\u001b[0m [neptune] [info   ] Neptune initialized. Open in the app: https://app.neptune.ai/OCTAA/OCTSegmenter/e/OCT-150\n",
      "\u001b[36m(train_model_cv pid=18388)\u001b[0m Training on fold 4\n",
      "\u001b[36m(train_model_cv pid=18388)\u001b[0m [1,    10] loss: 1.508\n",
      "\u001b[36m(train_model_cv pid=18388)\u001b[0m [1,    20] loss: 1.636\n",
      "\u001b[36m(train_model_cv pid=18388)\u001b[0m [1,    30] loss: 1.628\n",
      "\u001b[36m(train_model_cv pid=18388)\u001b[0m Epoch [1/5], Training Loss: 1.5993\n",
      "\u001b[36m(train_model_cv pid=18388)\u001b[0m Epoch [1/5], Validation Loss: 1.5206\n"
     ]
    },
    {
     "name": "stderr",
     "output_type": "stream",
     "text": [
      "\u001b[36m(train_model_cv pid=18388)\u001b[0m Checkpoint successfully created at: Checkpoint(filesystem=local, path=C:/Users/johan/ray_results/train_model_cv_2024-11-26_18-30-35/trial_2b60a_00029_lr=1.0e-04_opt=SGD_bs=4/checkpoint_000000)\n"
     ]
    },
    {
     "name": "stdout",
     "output_type": "stream",
     "text": [
      "\u001b[36m(train_model_cv pid=24472)\u001b[0m [neptune] [info   ] Neptune initialized. Open in the app: https://app.neptune.ai/OCTAA/OCTSegmenter/e/OCT-151\n",
      "\u001b[36m(train_model_cv pid=24472)\u001b[0m Training on fold 0\n",
      "\u001b[36m(train_model_cv pid=24472)\u001b[0m [1,    10] loss: 0.697\n",
      "\u001b[36m(train_model_cv pid=24472)\u001b[0m [1,    20] loss: 0.349\n",
      "\u001b[36m(train_model_cv pid=24472)\u001b[0m [1,    30] loss: 0.812\n",
      "\u001b[36m(train_model_cv pid=24472)\u001b[0m Epoch [1/5], Training Loss: 0.6346\n",
      "\u001b[36m(train_model_cv pid=24472)\u001b[0m Epoch [1/5], Validation Loss: 0.8817\n"
     ]
    },
    {
     "name": "stderr",
     "output_type": "stream",
     "text": [
      "\u001b[36m(train_model_cv pid=24472)\u001b[0m Checkpoint successfully created at: Checkpoint(filesystem=local, path=C:/Users/johan/ray_results/train_model_cv_2024-11-26_18-30-35/trial_2b60a_00030_lr=1.0e-04_opt=RMSprop_bs=4/checkpoint_000000)\n"
     ]
    },
    {
     "name": "stdout",
     "output_type": "stream",
     "text": [
      "\u001b[36m(train_model_cv pid=17452)\u001b[0m [neptune] [info   ] Neptune initialized. Open in the app: https://app.neptune.ai/OCTAA/OCTSegmenter/e/OCT-152\n",
      "\u001b[36m(train_model_cv pid=17452)\u001b[0m Training on fold 1\n",
      "\u001b[36m(train_model_cv pid=17452)\u001b[0m [1,    10] loss: 0.617\n",
      "\u001b[36m(train_model_cv pid=17452)\u001b[0m [1,    20] loss: 0.518\n",
      "\u001b[36m(train_model_cv pid=17452)\u001b[0m [1,    30] loss: 0.563\n",
      "\u001b[36m(train_model_cv pid=17452)\u001b[0m Epoch [1/5], Training Loss: 0.6987\n",
      "\u001b[36m(train_model_cv pid=17452)\u001b[0m Epoch [1/5], Validation Loss: 0.8843\n"
     ]
    },
    {
     "name": "stderr",
     "output_type": "stream",
     "text": [
      "\u001b[36m(train_model_cv pid=17452)\u001b[0m Checkpoint successfully created at: Checkpoint(filesystem=local, path=C:/Users/johan/ray_results/train_model_cv_2024-11-26_18-30-35/trial_2b60a_00031_lr=1.0e-04_opt=RMSprop_bs=4/checkpoint_000000)\n"
     ]
    },
    {
     "name": "stdout",
     "output_type": "stream",
     "text": [
      "\u001b[36m(train_model_cv pid=3024)\u001b[0m [neptune] [info   ] Neptune initialized. Open in the app: https://app.neptune.ai/OCTAA/OCTSegmenter/e/OCT-153\n",
      "\u001b[36m(train_model_cv pid=3024)\u001b[0m Training on fold 2\n",
      "\u001b[36m(train_model_cv pid=3024)\u001b[0m [1,    10] loss: 0.727\n",
      "\u001b[36m(train_model_cv pid=3024)\u001b[0m [1,    20] loss: 0.607\n",
      "\u001b[36m(train_model_cv pid=3024)\u001b[0m [1,    30] loss: 0.535\n",
      "\u001b[36m(train_model_cv pid=3024)\u001b[0m Epoch [1/5], Training Loss: 0.7047\n",
      "\u001b[36m(train_model_cv pid=3024)\u001b[0m Epoch [1/5], Validation Loss: 0.8807\n"
     ]
    },
    {
     "name": "stderr",
     "output_type": "stream",
     "text": [
      "\u001b[36m(train_model_cv pid=3024)\u001b[0m Checkpoint successfully created at: Checkpoint(filesystem=local, path=C:/Users/johan/ray_results/train_model_cv_2024-11-26_18-30-35/trial_2b60a_00032_lr=1.0e-04_opt=RMSprop_bs=4/checkpoint_000000)\n"
     ]
    },
    {
     "name": "stdout",
     "output_type": "stream",
     "text": [
      "\u001b[36m(train_model_cv pid=12524)\u001b[0m [neptune] [info   ] Neptune initialized. Open in the app: https://app.neptune.ai/OCTAA/OCTSegmenter/e/OCT-154\n",
      "\u001b[36m(train_model_cv pid=12524)\u001b[0m Training on fold 3\n",
      "\u001b[36m(train_model_cv pid=12524)\u001b[0m [1,    10] loss: 0.551\n",
      "\u001b[36m(train_model_cv pid=12524)\u001b[0m [1,    20] loss: 0.761\n",
      "\u001b[36m(train_model_cv pid=12524)\u001b[0m [1,    30] loss: 0.798\n",
      "\u001b[36m(train_model_cv pid=12524)\u001b[0m Epoch [1/5], Training Loss: 0.6671\n",
      "\u001b[36m(train_model_cv pid=12524)\u001b[0m Epoch [1/5], Validation Loss: 0.8697\n"
     ]
    },
    {
     "name": "stderr",
     "output_type": "stream",
     "text": [
      "\u001b[36m(train_model_cv pid=12524)\u001b[0m Checkpoint successfully created at: Checkpoint(filesystem=local, path=C:/Users/johan/ray_results/train_model_cv_2024-11-26_18-30-35/trial_2b60a_00033_lr=1.0e-04_opt=RMSprop_bs=4/checkpoint_000000)\n"
     ]
    },
    {
     "name": "stdout",
     "output_type": "stream",
     "text": [
      "\u001b[36m(train_model_cv pid=8704)\u001b[0m [neptune] [info   ] Neptune initialized. Open in the app: https://app.neptune.ai/OCTAA/OCTSegmenter/e/OCT-155\n",
      "\u001b[36m(train_model_cv pid=8704)\u001b[0m Training on fold 4\n",
      "\u001b[36m(train_model_cv pid=8704)\u001b[0m [1,    10] loss: 0.796\n",
      "\u001b[36m(train_model_cv pid=8704)\u001b[0m [1,    20] loss: 0.793\n",
      "\u001b[36m(train_model_cv pid=8704)\u001b[0m [1,    30] loss: 0.803\n",
      "\u001b[36m(train_model_cv pid=8704)\u001b[0m Epoch [1/5], Training Loss: 0.7050\n",
      "\u001b[36m(train_model_cv pid=8704)\u001b[0m Epoch [1/5], Validation Loss: 0.8849\n"
     ]
    },
    {
     "name": "stderr",
     "output_type": "stream",
     "text": [
      "\u001b[36m(train_model_cv pid=8704)\u001b[0m Checkpoint successfully created at: Checkpoint(filesystem=local, path=C:/Users/johan/ray_results/train_model_cv_2024-11-26_18-30-35/trial_2b60a_00034_lr=1.0e-04_opt=RMSprop_bs=4/checkpoint_000000)\n"
     ]
    },
    {
     "name": "stdout",
     "output_type": "stream",
     "text": [
      "\u001b[36m(train_model_cv pid=18088)\u001b[0m [neptune] [info   ] Neptune initialized. Open in the app: https://app.neptune.ai/OCTAA/OCTSegmenter/e/OCT-156\n",
      "\u001b[36m(train_model_cv pid=18088)\u001b[0m Training on fold 0\n",
      "\u001b[36m(train_model_cv pid=18088)\u001b[0m [1,    10] loss: 0.346\n",
      "\u001b[36m(train_model_cv pid=18088)\u001b[0m [1,    20] loss: 0.336\n",
      "\u001b[36m(train_model_cv pid=18088)\u001b[0m [1,    30] loss: 0.369\n",
      "\u001b[36m(train_model_cv pid=18088)\u001b[0m Epoch [1/5], Training Loss: 0.3453\n",
      "\u001b[36m(train_model_cv pid=18088)\u001b[0m Epoch [1/5], Validation Loss: 0.3779\n"
     ]
    },
    {
     "name": "stderr",
     "output_type": "stream",
     "text": [
      "\u001b[36m(train_model_cv pid=18088)\u001b[0m Checkpoint successfully created at: Checkpoint(filesystem=local, path=C:/Users/johan/ray_results/train_model_cv_2024-11-26_18-30-35/trial_2b60a_00035_lr=1.0e-04_opt=RMSprop_bs=4/checkpoint_000000)\n"
     ]
    },
    {
     "name": "stdout",
     "output_type": "stream",
     "text": [
      "\u001b[36m(train_model_cv pid=18088)\u001b[0m Validation loss improved to 0.3779. Saving checkpoint.\n",
      "\u001b[36m(train_model_cv pid=18088)\u001b[0m [2,    10] loss: 0.234\n",
      "\u001b[36m(train_model_cv pid=18088)\u001b[0m [2,    20] loss: 0.252\n",
      "\u001b[36m(train_model_cv pid=18088)\u001b[0m [2,    30] loss: 0.229\n",
      "\u001b[36m(train_model_cv pid=18088)\u001b[0m Epoch [2/5], Training Loss: 0.2705\n",
      "\u001b[36m(train_model_cv pid=18088)\u001b[0m Epoch [2/5], Validation Loss: 0.2296\n"
     ]
    },
    {
     "name": "stderr",
     "output_type": "stream",
     "text": [
      "\u001b[36m(train_model_cv pid=18088)\u001b[0m Checkpoint successfully created at: Checkpoint(filesystem=local, path=C:/Users/johan/ray_results/train_model_cv_2024-11-26_18-30-35/trial_2b60a_00035_lr=1.0e-04_opt=RMSprop_bs=4/checkpoint_000001)\n"
     ]
    },
    {
     "name": "stdout",
     "output_type": "stream",
     "text": [
      "\u001b[36m(train_model_cv pid=18088)\u001b[0m Validation loss improved to 0.2296. Saving checkpoint.\n",
      "\u001b[36m(train_model_cv pid=18088)\u001b[0m [3,    10] loss: 0.219\n",
      "\u001b[36m(train_model_cv pid=18088)\u001b[0m [3,    20] loss: 0.216\n",
      "\u001b[36m(train_model_cv pid=18088)\u001b[0m [3,    30] loss: 0.237\n",
      "\u001b[36m(train_model_cv pid=18088)\u001b[0m Epoch [3/5], Training Loss: 0.2295\n",
      "\u001b[36m(train_model_cv pid=18088)\u001b[0m Epoch [3/5], Validation Loss: 0.1812\n"
     ]
    },
    {
     "name": "stderr",
     "output_type": "stream",
     "text": [
      "\u001b[36m(train_model_cv pid=18088)\u001b[0m Checkpoint successfully created at: Checkpoint(filesystem=local, path=C:/Users/johan/ray_results/train_model_cv_2024-11-26_18-30-35/trial_2b60a_00035_lr=1.0e-04_opt=RMSprop_bs=4/checkpoint_000002)\n"
     ]
    },
    {
     "name": "stdout",
     "output_type": "stream",
     "text": [
      "\u001b[36m(train_model_cv pid=18088)\u001b[0m Validation loss improved to 0.1812. Saving checkpoint.\n",
      "\u001b[36m(train_model_cv pid=18088)\u001b[0m [4,    10] loss: 0.196\n",
      "\u001b[36m(train_model_cv pid=18088)\u001b[0m [4,    20] loss: 0.205\n",
      "\u001b[36m(train_model_cv pid=18088)\u001b[0m [4,    30] loss: 0.164\n",
      "\u001b[36m(train_model_cv pid=18088)\u001b[0m Epoch [4/5], Training Loss: 0.1976\n",
      "\u001b[36m(train_model_cv pid=18088)\u001b[0m Epoch [4/5], Validation Loss: 0.1750\n"
     ]
    },
    {
     "name": "stderr",
     "output_type": "stream",
     "text": [
      "\u001b[36m(train_model_cv pid=18088)\u001b[0m Checkpoint successfully created at: Checkpoint(filesystem=local, path=C:/Users/johan/ray_results/train_model_cv_2024-11-26_18-30-35/trial_2b60a_00035_lr=1.0e-04_opt=RMSprop_bs=4/checkpoint_000003)\n"
     ]
    },
    {
     "name": "stdout",
     "output_type": "stream",
     "text": [
      "\u001b[36m(train_model_cv pid=18088)\u001b[0m Validation loss improved to 0.1750. Saving checkpoint.\n",
      "\u001b[36m(train_model_cv pid=18088)\u001b[0m [5,    10] loss: 0.187\n",
      "\u001b[36m(train_model_cv pid=18088)\u001b[0m [5,    20] loss: 0.177\n",
      "\u001b[36m(train_model_cv pid=18088)\u001b[0m [5,    30] loss: 0.167\n",
      "\u001b[36m(train_model_cv pid=18088)\u001b[0m Epoch [5/5], Training Loss: 0.1833\n",
      "\u001b[36m(train_model_cv pid=18088)\u001b[0m Epoch [5/5], Validation Loss: 0.1588\n"
     ]
    },
    {
     "name": "stderr",
     "output_type": "stream",
     "text": [
      "\u001b[36m(train_model_cv pid=18088)\u001b[0m Checkpoint successfully created at: Checkpoint(filesystem=local, path=C:/Users/johan/ray_results/train_model_cv_2024-11-26_18-30-35/trial_2b60a_00035_lr=1.0e-04_opt=RMSprop_bs=4/checkpoint_000004)\n"
     ]
    },
    {
     "name": "stdout",
     "output_type": "stream",
     "text": [
      "\u001b[36m(train_model_cv pid=7364)\u001b[0m [neptune] [info   ] Neptune initialized. Open in the app: https://app.neptune.ai/OCTAA/OCTSegmenter/e/OCT-157\n",
      "\u001b[36m(train_model_cv pid=7364)\u001b[0m Training on fold 1\n",
      "\u001b[36m(train_model_cv pid=7364)\u001b[0m [1,    10] loss: 0.364\n",
      "\u001b[36m(train_model_cv pid=7364)\u001b[0m [1,    20] loss: 0.333\n",
      "\u001b[36m(train_model_cv pid=7364)\u001b[0m [1,    30] loss: 0.320\n",
      "\u001b[36m(train_model_cv pid=7364)\u001b[0m Epoch [1/5], Training Loss: 0.3789\n",
      "\u001b[36m(train_model_cv pid=7364)\u001b[0m Epoch [1/5], Validation Loss: 0.3958\n"
     ]
    },
    {
     "name": "stderr",
     "output_type": "stream",
     "text": [
      "\u001b[36m(train_model_cv pid=7364)\u001b[0m Checkpoint successfully created at: Checkpoint(filesystem=local, path=C:/Users/johan/ray_results/train_model_cv_2024-11-26_18-30-35/trial_2b60a_00036_lr=1.0e-04_opt=RMSprop_bs=4/checkpoint_000000)\n"
     ]
    },
    {
     "name": "stdout",
     "output_type": "stream",
     "text": [
      "\u001b[36m(train_model_cv pid=7364)\u001b[0m Validation loss improved to 0.3958. Saving checkpoint.\n",
      "\u001b[36m(train_model_cv pid=7364)\u001b[0m [2,    10] loss: 0.294\n",
      "\u001b[36m(train_model_cv pid=7364)\u001b[0m [2,    20] loss: 0.296\n",
      "\u001b[36m(train_model_cv pid=7364)\u001b[0m [2,    30] loss: 0.238\n",
      "\u001b[36m(train_model_cv pid=7364)\u001b[0m Epoch [2/5], Training Loss: 0.2746\n",
      "\u001b[36m(train_model_cv pid=7364)\u001b[0m Epoch [2/5], Validation Loss: 0.2596\n"
     ]
    },
    {
     "name": "stderr",
     "output_type": "stream",
     "text": [
      "\u001b[36m(train_model_cv pid=7364)\u001b[0m Checkpoint successfully created at: Checkpoint(filesystem=local, path=C:/Users/johan/ray_results/train_model_cv_2024-11-26_18-30-35/trial_2b60a_00036_lr=1.0e-04_opt=RMSprop_bs=4/checkpoint_000001)\n"
     ]
    },
    {
     "name": "stdout",
     "output_type": "stream",
     "text": [
      "\u001b[36m(train_model_cv pid=7364)\u001b[0m Validation loss improved to 0.2596. Saving checkpoint.\n",
      "\u001b[36m(train_model_cv pid=7364)\u001b[0m [3,    10] loss: 0.275\n",
      "\u001b[36m(train_model_cv pid=7364)\u001b[0m [3,    20] loss: 0.192\n",
      "\u001b[36m(train_model_cv pid=7364)\u001b[0m [3,    30] loss: 0.205\n",
      "\u001b[36m(train_model_cv pid=7364)\u001b[0m Epoch [3/5], Training Loss: 0.2328\n",
      "\u001b[36m(train_model_cv pid=7364)\u001b[0m Epoch [3/5], Validation Loss: 0.2160\n"
     ]
    },
    {
     "name": "stderr",
     "output_type": "stream",
     "text": [
      "\u001b[36m(train_model_cv pid=7364)\u001b[0m Checkpoint successfully created at: Checkpoint(filesystem=local, path=C:/Users/johan/ray_results/train_model_cv_2024-11-26_18-30-35/trial_2b60a_00036_lr=1.0e-04_opt=RMSprop_bs=4/checkpoint_000002)\n"
     ]
    },
    {
     "name": "stdout",
     "output_type": "stream",
     "text": [
      "\u001b[36m(train_model_cv pid=7364)\u001b[0m Validation loss improved to 0.2160. Saving checkpoint.\n",
      "\u001b[36m(train_model_cv pid=7364)\u001b[0m [4,    10] loss: 0.188\n",
      "\u001b[36m(train_model_cv pid=7364)\u001b[0m [4,    20] loss: 0.208\n",
      "\u001b[36m(train_model_cv pid=7364)\u001b[0m [4,    30] loss: 0.215\n",
      "\u001b[36m(train_model_cv pid=7364)\u001b[0m Epoch [4/5], Training Loss: 0.2094\n",
      "\u001b[36m(train_model_cv pid=7364)\u001b[0m Epoch [4/5], Validation Loss: 0.1910\n"
     ]
    },
    {
     "name": "stderr",
     "output_type": "stream",
     "text": [
      "\u001b[36m(train_model_cv pid=7364)\u001b[0m Checkpoint successfully created at: Checkpoint(filesystem=local, path=C:/Users/johan/ray_results/train_model_cv_2024-11-26_18-30-35/trial_2b60a_00036_lr=1.0e-04_opt=RMSprop_bs=4/checkpoint_000003)\n"
     ]
    },
    {
     "name": "stdout",
     "output_type": "stream",
     "text": [
      "\u001b[36m(train_model_cv pid=7364)\u001b[0m Validation loss improved to 0.1910. Saving checkpoint.\n",
      "\u001b[36m(train_model_cv pid=7364)\u001b[0m [5,    10] loss: 0.196\n",
      "\u001b[36m(train_model_cv pid=7364)\u001b[0m [5,    20] loss: 0.179\n",
      "\u001b[36m(train_model_cv pid=7364)\u001b[0m [5,    30] loss: 0.192\n",
      "\u001b[36m(train_model_cv pid=7364)\u001b[0m Epoch [5/5], Training Loss: 0.1996\n",
      "\u001b[36m(train_model_cv pid=7364)\u001b[0m Epoch [5/5], Validation Loss: 0.3010\n"
     ]
    },
    {
     "name": "stderr",
     "output_type": "stream",
     "text": [
      "\u001b[36m(train_model_cv pid=7364)\u001b[0m Checkpoint successfully created at: Checkpoint(filesystem=local, path=C:/Users/johan/ray_results/train_model_cv_2024-11-26_18-30-35/trial_2b60a_00036_lr=1.0e-04_opt=RMSprop_bs=4/checkpoint_000004)\n"
     ]
    },
    {
     "name": "stdout",
     "output_type": "stream",
     "text": [
      "\u001b[36m(train_model_cv pid=3876)\u001b[0m [neptune] [info   ] Neptune initialized. Open in the app: https://app.neptune.ai/OCTAA/OCTSegmenter/e/OCT-158\n",
      "\u001b[36m(train_model_cv pid=3876)\u001b[0m Training on fold 2\n",
      "\u001b[36m(train_model_cv pid=3876)\u001b[0m [1,    10] loss: 0.447\n",
      "\u001b[36m(train_model_cv pid=3876)\u001b[0m [1,    20] loss: 0.459\n",
      "\u001b[36m(train_model_cv pid=3876)\u001b[0m [1,    30] loss: 0.368\n",
      "\u001b[36m(train_model_cv pid=3876)\u001b[0m Epoch [1/5], Training Loss: 0.4491\n",
      "\u001b[36m(train_model_cv pid=3876)\u001b[0m Epoch [1/5], Validation Loss: 0.4779\n"
     ]
    },
    {
     "name": "stderr",
     "output_type": "stream",
     "text": [
      "\u001b[36m(train_model_cv pid=3876)\u001b[0m Checkpoint successfully created at: Checkpoint(filesystem=local, path=C:/Users/johan/ray_results/train_model_cv_2024-11-26_18-30-35/trial_2b60a_00037_lr=1.0e-04_opt=RMSprop_bs=4/checkpoint_000000)\n"
     ]
    },
    {
     "name": "stdout",
     "output_type": "stream",
     "text": [
      "\u001b[36m(train_model_cv pid=3876)\u001b[0m Validation loss improved to 0.4779. Saving checkpoint.\n",
      "\u001b[36m(train_model_cv pid=3876)\u001b[0m [2,    10] loss: 0.320\n",
      "\u001b[36m(train_model_cv pid=3876)\u001b[0m [2,    20] loss: 0.288\n",
      "\u001b[36m(train_model_cv pid=3876)\u001b[0m [2,    30] loss: 0.289\n",
      "\u001b[36m(train_model_cv pid=3876)\u001b[0m Epoch [2/5], Training Loss: 0.3190\n",
      "\u001b[36m(train_model_cv pid=3876)\u001b[0m Epoch [2/5], Validation Loss: 0.2735\n"
     ]
    },
    {
     "name": "stderr",
     "output_type": "stream",
     "text": [
      "\u001b[36m(train_model_cv pid=3876)\u001b[0m Checkpoint successfully created at: Checkpoint(filesystem=local, path=C:/Users/johan/ray_results/train_model_cv_2024-11-26_18-30-35/trial_2b60a_00037_lr=1.0e-04_opt=RMSprop_bs=4/checkpoint_000001)\n"
     ]
    },
    {
     "name": "stdout",
     "output_type": "stream",
     "text": [
      "\u001b[36m(train_model_cv pid=3876)\u001b[0m Validation loss improved to 0.2735. Saving checkpoint.\n",
      "\u001b[36m(train_model_cv pid=3876)\u001b[0m [3,    10] loss: 0.296\n",
      "\u001b[36m(train_model_cv pid=3876)\u001b[0m [3,    20] loss: 0.284\n",
      "\u001b[36m(train_model_cv pid=3876)\u001b[0m [3,    30] loss: 0.287\n",
      "\u001b[36m(train_model_cv pid=3876)\u001b[0m Epoch [3/5], Training Loss: 0.2871\n",
      "\u001b[36m(train_model_cv pid=3876)\u001b[0m Epoch [3/5], Validation Loss: 1.0280\n"
     ]
    },
    {
     "name": "stderr",
     "output_type": "stream",
     "text": [
      "\u001b[36m(train_model_cv pid=3876)\u001b[0m Checkpoint successfully created at: Checkpoint(filesystem=local, path=C:/Users/johan/ray_results/train_model_cv_2024-11-26_18-30-35/trial_2b60a_00037_lr=1.0e-04_opt=RMSprop_bs=4/checkpoint_000002)\n"
     ]
    },
    {
     "name": "stdout",
     "output_type": "stream",
     "text": [
      "\u001b[36m(train_model_cv pid=3876)\u001b[0m Validation loss did not improve. Best so far: 0.2735\n",
      "\u001b[36m(train_model_cv pid=3876)\u001b[0m [4,    10] loss: 0.261\n",
      "\u001b[36m(train_model_cv pid=3876)\u001b[0m [4,    20] loss: 0.277\n",
      "\u001b[36m(train_model_cv pid=3876)\u001b[0m [4,    30] loss: 0.215\n",
      "\u001b[36m(train_model_cv pid=3876)\u001b[0m Epoch [4/5], Training Loss: 0.2613\n",
      "\u001b[36m(train_model_cv pid=3876)\u001b[0m Epoch [4/5], Validation Loss: 0.2258\n"
     ]
    },
    {
     "name": "stderr",
     "output_type": "stream",
     "text": [
      "\u001b[36m(train_model_cv pid=3876)\u001b[0m Checkpoint successfully created at: Checkpoint(filesystem=local, path=C:/Users/johan/ray_results/train_model_cv_2024-11-26_18-30-35/trial_2b60a_00037_lr=1.0e-04_opt=RMSprop_bs=4/checkpoint_000003)\n"
     ]
    },
    {
     "name": "stdout",
     "output_type": "stream",
     "text": [
      "\u001b[36m(train_model_cv pid=3876)\u001b[0m Validation loss improved to 0.2258. Saving checkpoint.\n",
      "\u001b[36m(train_model_cv pid=3876)\u001b[0m [5,    10] loss: 0.374\n",
      "\u001b[36m(train_model_cv pid=3876)\u001b[0m [5,    20] loss: 0.298\n",
      "\u001b[36m(train_model_cv pid=3876)\u001b[0m [5,    30] loss: 0.246\n",
      "\u001b[36m(train_model_cv pid=3876)\u001b[0m Epoch [5/5], Training Loss: 0.2585\n",
      "\u001b[36m(train_model_cv pid=3876)\u001b[0m Epoch [5/5], Validation Loss: 0.2357\n"
     ]
    },
    {
     "name": "stderr",
     "output_type": "stream",
     "text": [
      "\u001b[36m(train_model_cv pid=3876)\u001b[0m Checkpoint successfully created at: Checkpoint(filesystem=local, path=C:/Users/johan/ray_results/train_model_cv_2024-11-26_18-30-35/trial_2b60a_00037_lr=1.0e-04_opt=RMSprop_bs=4/checkpoint_000004)\n"
     ]
    },
    {
     "name": "stdout",
     "output_type": "stream",
     "text": [
      "\u001b[36m(train_model_cv pid=20000)\u001b[0m [neptune] [info   ] Neptune initialized. Open in the app: https://app.neptune.ai/OCTAA/OCTSegmenter/e/OCT-159\n",
      "\u001b[36m(train_model_cv pid=20000)\u001b[0m Training on fold 3\n",
      "\u001b[36m(train_model_cv pid=20000)\u001b[0m [1,    10] loss: 0.354\n",
      "\u001b[36m(train_model_cv pid=20000)\u001b[0m [1,    20] loss: 0.329\n",
      "\u001b[36m(train_model_cv pid=20000)\u001b[0m [1,    30] loss: 0.279\n",
      "\u001b[36m(train_model_cv pid=20000)\u001b[0m Epoch [1/5], Training Loss: 0.3650\n",
      "\u001b[36m(train_model_cv pid=20000)\u001b[0m Epoch [1/5], Validation Loss: 0.3948\n"
     ]
    },
    {
     "name": "stderr",
     "output_type": "stream",
     "text": [
      "\u001b[36m(train_model_cv pid=20000)\u001b[0m Checkpoint successfully created at: Checkpoint(filesystem=local, path=C:/Users/johan/ray_results/train_model_cv_2024-11-26_18-30-35/trial_2b60a_00038_lr=1.0e-04_opt=RMSprop_bs=4/checkpoint_000000)\n"
     ]
    },
    {
     "name": "stdout",
     "output_type": "stream",
     "text": [
      "\u001b[36m(train_model_cv pid=20000)\u001b[0m Validation loss improved to 0.3948. Saving checkpoint.\n",
      "\u001b[36m(train_model_cv pid=20000)\u001b[0m [2,    10] loss: 0.279\n",
      "\u001b[36m(train_model_cv pid=20000)\u001b[0m [2,    20] loss: 0.251\n",
      "\u001b[36m(train_model_cv pid=20000)\u001b[0m [2,    30] loss: 0.244\n",
      "\u001b[36m(train_model_cv pid=20000)\u001b[0m Epoch [2/5], Training Loss: 0.2643\n",
      "\u001b[36m(train_model_cv pid=20000)\u001b[0m Epoch [2/5], Validation Loss: 7.1618\n"
     ]
    },
    {
     "name": "stderr",
     "output_type": "stream",
     "text": [
      "\u001b[36m(train_model_cv pid=20000)\u001b[0m Checkpoint successfully created at: Checkpoint(filesystem=local, path=C:/Users/johan/ray_results/train_model_cv_2024-11-26_18-30-35/trial_2b60a_00038_lr=1.0e-04_opt=RMSprop_bs=4/checkpoint_000001)\n"
     ]
    },
    {
     "name": "stdout",
     "output_type": "stream",
     "text": [
      "\u001b[36m(train_model_cv pid=10352)\u001b[0m [neptune] [info   ] Neptune initialized. Open in the app: https://app.neptune.ai/OCTAA/OCTSegmenter/e/OCT-160\n",
      "\u001b[36m(train_model_cv pid=10352)\u001b[0m Training on fold 4\n",
      "\u001b[36m(train_model_cv pid=10352)\u001b[0m [1,    10] loss: 0.344\n",
      "\u001b[36m(train_model_cv pid=10352)\u001b[0m [1,    20] loss: 0.257\n",
      "\u001b[36m(train_model_cv pid=10352)\u001b[0m [1,    30] loss: 0.271\n",
      "\u001b[36m(train_model_cv pid=10352)\u001b[0m Epoch [1/5], Training Loss: 0.3456\n",
      "\u001b[36m(train_model_cv pid=10352)\u001b[0m Epoch [1/5], Validation Loss: 0.3816\n"
     ]
    },
    {
     "name": "stderr",
     "output_type": "stream",
     "text": [
      "\u001b[36m(train_model_cv pid=10352)\u001b[0m Checkpoint successfully created at: Checkpoint(filesystem=local, path=C:/Users/johan/ray_results/train_model_cv_2024-11-26_18-30-35/trial_2b60a_00039_lr=1.0e-04_opt=RMSprop_bs=4/checkpoint_000000)\n"
     ]
    },
    {
     "name": "stdout",
     "output_type": "stream",
     "text": [
      "\u001b[36m(train_model_cv pid=10352)\u001b[0m Validation loss improved to 0.3816. Saving checkpoint.\n",
      "\u001b[36m(train_model_cv pid=10352)\u001b[0m [2,    10] loss: 0.285\n",
      "\u001b[36m(train_model_cv pid=10352)\u001b[0m [2,    20] loss: 0.257\n",
      "\u001b[36m(train_model_cv pid=10352)\u001b[0m [2,    30] loss: 0.249\n",
      "\u001b[36m(train_model_cv pid=10352)\u001b[0m Epoch [2/5], Training Loss: 0.2574\n",
      "\u001b[36m(train_model_cv pid=10352)\u001b[0m Epoch [2/5], Validation Loss: 0.2173\n"
     ]
    },
    {
     "name": "stderr",
     "output_type": "stream",
     "text": [
      "2024-11-26 19:27:57,763\tERROR tune_controller.py:1331 -- Trial task failed for trial train_model_cv_2b60a_00039\n",
      "Traceback (most recent call last):\n",
      "  File \"c:\\Users\\johan\\anaconda3\\envs\\dl\\Lib\\site-packages\\ray\\air\\execution\\_internal\\event_manager.py\", line 110, in resolve_future\n",
      "    result = ray.get(future)\n",
      "             ^^^^^^^^^^^^^^^\n",
      "  File \"c:\\Users\\johan\\anaconda3\\envs\\dl\\Lib\\site-packages\\ray\\_private\\auto_init_hook.py\", line 21, in auto_init_wrapper\n",
      "    return fn(*args, **kwargs)\n",
      "           ^^^^^^^^^^^^^^^^^^^\n",
      "  File \"c:\\Users\\johan\\anaconda3\\envs\\dl\\Lib\\site-packages\\ray\\_private\\client_mode_hook.py\", line 103, in wrapper\n",
      "    return func(*args, **kwargs)\n",
      "           ^^^^^^^^^^^^^^^^^^^^^\n",
      "  File \"c:\\Users\\johan\\anaconda3\\envs\\dl\\Lib\\site-packages\\ray\\_private\\worker.py\", line 2656, in get\n",
      "    values, debugger_breakpoint = worker.get_objects(object_refs, timeout=timeout)\n",
      "                                  ^^^^^^^^^^^^^^^^^^^^^^^^^^^^^^^^^^^^^^^^^^^^^^^^\n",
      "  File \"c:\\Users\\johan\\anaconda3\\envs\\dl\\Lib\\site-packages\\ray\\_private\\worker.py\", line 871, in get_objects\n",
      "    raise value.as_instanceof_cause()\n",
      "ray.exceptions.RayTaskError(OSError): \u001b[36mray::ImplicitFunc.train()\u001b[39m (pid=10352, ip=127.0.0.1, actor_id=6087cd6429c43cea79214bba01000000, repr=train_model_cv)\n",
      "  File \"python\\ray\\_raylet.pyx\", line 1901, in ray._raylet.execute_task\n",
      "  File \"python\\ray\\_raylet.pyx\", line 1842, in ray._raylet.execute_task.function_executor\n",
      "  File \"c:\\Users\\johan\\anaconda3\\envs\\dl\\Lib\\site-packages\\ray\\_private\\function_manager.py\", line 691, in actor_method_executor\n",
      "    return method(__ray_actor, *args, **kwargs)\n",
      "           ^^^^^^^^^^^^^^^^^^^^^^^^^^^^^^^^^^^^\n",
      "  File \"c:\\Users\\johan\\anaconda3\\envs\\dl\\Lib\\site-packages\\ray\\util\\tracing\\tracing_helper.py\", line 467, in _resume_span\n",
      "    return method(self, *_args, **_kwargs)\n",
      "           ^^^^^^^^^^^^^^^^^^^^^^^^^^^^^^^\n",
      "  File \"c:\\Users\\johan\\anaconda3\\envs\\dl\\Lib\\site-packages\\ray\\tune\\trainable\\trainable.py\", line 331, in train\n",
      "    raise skipped from exception_cause(skipped)\n",
      "  File \"c:\\Users\\johan\\anaconda3\\envs\\dl\\Lib\\site-packages\\ray\\air\\_internal\\util.py\", line 98, in run\n",
      "    self._ret = self._target(*self._args, **self._kwargs)\n",
      "                ^^^^^^^^^^^^^^^^^^^^^^^^^^^^^^^^^^^^^^^^^\n",
      "  File \"c:\\Users\\johan\\anaconda3\\envs\\dl\\Lib\\site-packages\\ray\\tune\\trainable\\function_trainable.py\", line 45, in <lambda>\n",
      "    training_func=lambda: self._trainable_func(self.config),\n",
      "                          ^^^^^^^^^^^^^^^^^^^^^^^^^^^^^^^^^\n",
      "  File \"c:\\Users\\johan\\anaconda3\\envs\\dl\\Lib\\site-packages\\ray\\util\\tracing\\tracing_helper.py\", line 467, in _resume_span\n",
      "    return method(self, *_args, **_kwargs)\n",
      "           ^^^^^^^^^^^^^^^^^^^^^^^^^^^^^^^\n",
      "  File \"c:\\Users\\johan\\anaconda3\\envs\\dl\\Lib\\site-packages\\ray\\tune\\trainable\\function_trainable.py\", line 248, in _trainable_func\n",
      "    output = fn()\n",
      "             ^^^^\n",
      "  File \"c:\\Users\\johan\\anaconda3\\envs\\dl\\Lib\\site-packages\\ray\\tune\\trainable\\util.py\", line 130, in inner\n",
      "    return trainable(config, **fn_kwargs)\n",
      "           ^^^^^^^^^^^^^^^^^^^^^^^^^^^^^^\n",
      "  File \"C:\\Users\\johan\\AppData\\Local\\Temp\\ipykernel_12900\\2273173191.py\", line 166, in train_model_cv\n",
      "  File \"c:\\Users\\johan\\anaconda3\\envs\\dl\\Lib\\site-packages\\ray\\train\\_internal\\session.py\", line 657, in wrapper\n",
      "    return fn(*args, **kwargs)\n",
      "           ^^^^^^^^^^^^^^^^^^^\n",
      "  File \"c:\\Users\\johan\\anaconda3\\envs\\dl\\Lib\\site-packages\\ray\\train\\_internal\\session.py\", line 748, in report\n",
      "    _get_session().report(metrics, checkpoint=checkpoint)\n",
      "  File \"c:\\Users\\johan\\anaconda3\\envs\\dl\\Lib\\site-packages\\ray\\train\\_internal\\session.py\", line 426, in report\n",
      "    persisted_checkpoint = self.storage.persist_current_checkpoint(checkpoint)\n",
      "                           ^^^^^^^^^^^^^^^^^^^^^^^^^^^^^^^^^^^^^^^^^^^^^^^^^^^\n",
      "  File \"c:\\Users\\johan\\anaconda3\\envs\\dl\\Lib\\site-packages\\ray\\train\\_internal\\storage.py\", line 542, in persist_current_checkpoint\n",
      "    _pyarrow_fs_copy_files(\n",
      "  File \"c:\\Users\\johan\\anaconda3\\envs\\dl\\Lib\\site-packages\\ray\\train\\_internal\\storage.py\", line 110, in _pyarrow_fs_copy_files\n",
      "    return pyarrow.fs.copy_files(\n",
      "           ^^^^^^^^^^^^^^^^^^^^^^\n",
      "  File \"c:\\Users\\johan\\anaconda3\\envs\\dl\\Lib\\site-packages\\pyarrow\\fs.py\", line 259, in copy_files\n",
      "    _copy_files_selector(source_fs, source_sel,\n",
      "  File \"pyarrow\\\\_fs.pyx\", line 1630, in pyarrow._fs._copy_files_selector\n",
      "  File \"pyarrow\\\\error.pxi\", line 91, in pyarrow.lib.check_status\n",
      "OSError: [WinError 112] Failed copying 'C:/Users/johan/AppData/Local/Temp/tmpk1y_kpk3/checkpoint.pt' to 'C:/Users/johan/ray_results/train_model_cv_2024-11-26_18-30-35/trial_2b60a_00039_lr=1.0e-04_opt=RMSprop_bs=4/checkpoint_000001/checkpoint.pt'. Detail: [Windows error 112] Der er ikke tilstrækkelig plads på disken.\n"
     ]
    },
    {
     "name": "stdout",
     "output_type": "stream",
     "text": [
      "\u001b[36m(train_model_cv pid=3876)\u001b[0m [neptune] [info   ] Neptune initialized. Open in the app: https://app.neptune.ai/OCTAA/OCTSegmenter/e/OCT-161\n",
      "\u001b[36m(train_model_cv pid=3876)\u001b[0m Training on fold 0\n",
      "\u001b[36m(train_model_cv pid=3876)\u001b[0m [1,    10] loss: 1.147\n",
      "\u001b[36m(train_model_cv pid=3876)\u001b[0m [1,    20] loss: 0.782\n",
      "\u001b[36m(train_model_cv pid=3876)\u001b[0m [1,    30] loss: 0.669\n",
      "\u001b[36m(train_model_cv pid=3876)\u001b[0m Epoch [1/5], Training Loss: 1.0103\n",
      "\u001b[36m(train_model_cv pid=3876)\u001b[0m Epoch [1/5], Validation Loss: 1.2534\n"
     ]
    },
    {
     "name": "stderr",
     "output_type": "stream",
     "text": [
      "2024-11-26 19:28:43,840\tERROR tune_controller.py:1331 -- Trial task failed for trial train_model_cv_2b60a_00040\n",
      "Traceback (most recent call last):\n",
      "  File \"c:\\Users\\johan\\anaconda3\\envs\\dl\\Lib\\site-packages\\ray\\air\\execution\\_internal\\event_manager.py\", line 110, in resolve_future\n",
      "    result = ray.get(future)\n",
      "             ^^^^^^^^^^^^^^^\n",
      "  File \"c:\\Users\\johan\\anaconda3\\envs\\dl\\Lib\\site-packages\\ray\\_private\\auto_init_hook.py\", line 21, in auto_init_wrapper\n",
      "    return fn(*args, **kwargs)\n",
      "           ^^^^^^^^^^^^^^^^^^^\n",
      "  File \"c:\\Users\\johan\\anaconda3\\envs\\dl\\Lib\\site-packages\\ray\\_private\\client_mode_hook.py\", line 103, in wrapper\n",
      "    return func(*args, **kwargs)\n",
      "           ^^^^^^^^^^^^^^^^^^^^^\n",
      "  File \"c:\\Users\\johan\\anaconda3\\envs\\dl\\Lib\\site-packages\\ray\\_private\\worker.py\", line 2656, in get\n",
      "    values, debugger_breakpoint = worker.get_objects(object_refs, timeout=timeout)\n",
      "                                  ^^^^^^^^^^^^^^^^^^^^^^^^^^^^^^^^^^^^^^^^^^^^^^^^\n",
      "  File \"c:\\Users\\johan\\anaconda3\\envs\\dl\\Lib\\site-packages\\ray\\_private\\worker.py\", line 871, in get_objects\n",
      "    raise value.as_instanceof_cause()\n",
      "ray.exceptions.RayTaskError(OSError): \u001b[36mray::ImplicitFunc.train()\u001b[39m (pid=3876, ip=127.0.0.1, actor_id=b34cc17af85b9f53418d8dd101000000, repr=train_model_cv)\n",
      "  File \"python\\ray\\_raylet.pyx\", line 1901, in ray._raylet.execute_task\n",
      "  File \"python\\ray\\_raylet.pyx\", line 1842, in ray._raylet.execute_task.function_executor\n",
      "  File \"c:\\Users\\johan\\anaconda3\\envs\\dl\\Lib\\site-packages\\ray\\_private\\function_manager.py\", line 691, in actor_method_executor\n",
      "    return method(__ray_actor, *args, **kwargs)\n",
      "           ^^^^^^^^^^^^^^^^^^^^^^^^^^^^^^^^^^^^\n",
      "  File \"c:\\Users\\johan\\anaconda3\\envs\\dl\\Lib\\site-packages\\ray\\util\\tracing\\tracing_helper.py\", line 467, in _resume_span\n",
      "    return method(self, *_args, **_kwargs)\n",
      "           ^^^^^^^^^^^^^^^^^^^^^^^^^^^^^^^\n",
      "  File \"c:\\Users\\johan\\anaconda3\\envs\\dl\\Lib\\site-packages\\ray\\tune\\trainable\\trainable.py\", line 331, in train\n",
      "    raise skipped from exception_cause(skipped)\n",
      "  File \"c:\\Users\\johan\\anaconda3\\envs\\dl\\Lib\\site-packages\\ray\\air\\_internal\\util.py\", line 98, in run\n",
      "    self._ret = self._target(*self._args, **self._kwargs)\n",
      "                ^^^^^^^^^^^^^^^^^^^^^^^^^^^^^^^^^^^^^^^^^\n",
      "  File \"c:\\Users\\johan\\anaconda3\\envs\\dl\\Lib\\site-packages\\ray\\tune\\trainable\\function_trainable.py\", line 45, in <lambda>\n",
      "    training_func=lambda: self._trainable_func(self.config),\n",
      "                          ^^^^^^^^^^^^^^^^^^^^^^^^^^^^^^^^^\n",
      "  File \"c:\\Users\\johan\\anaconda3\\envs\\dl\\Lib\\site-packages\\ray\\util\\tracing\\tracing_helper.py\", line 467, in _resume_span\n",
      "    return method(self, *_args, **_kwargs)\n",
      "           ^^^^^^^^^^^^^^^^^^^^^^^^^^^^^^^\n",
      "  File \"c:\\Users\\johan\\anaconda3\\envs\\dl\\Lib\\site-packages\\ray\\tune\\trainable\\function_trainable.py\", line 248, in _trainable_func\n",
      "    output = fn()\n",
      "             ^^^^\n",
      "  File \"c:\\Users\\johan\\anaconda3\\envs\\dl\\Lib\\site-packages\\ray\\tune\\trainable\\util.py\", line 130, in inner\n",
      "    return trainable(config, **fn_kwargs)\n",
      "           ^^^^^^^^^^^^^^^^^^^^^^^^^^^^^^\n",
      "  File \"C:\\Users\\johan\\AppData\\Local\\Temp\\ipykernel_12900\\2273173191.py\", line 166, in train_model_cv\n",
      "  File \"c:\\Users\\johan\\anaconda3\\envs\\dl\\Lib\\site-packages\\ray\\train\\_internal\\session.py\", line 657, in wrapper\n",
      "    return fn(*args, **kwargs)\n",
      "           ^^^^^^^^^^^^^^^^^^^\n",
      "  File \"c:\\Users\\johan\\anaconda3\\envs\\dl\\Lib\\site-packages\\ray\\train\\_internal\\session.py\", line 748, in report\n",
      "    _get_session().report(metrics, checkpoint=checkpoint)\n",
      "  File \"c:\\Users\\johan\\anaconda3\\envs\\dl\\Lib\\site-packages\\ray\\train\\_internal\\session.py\", line 426, in report\n",
      "    persisted_checkpoint = self.storage.persist_current_checkpoint(checkpoint)\n",
      "                           ^^^^^^^^^^^^^^^^^^^^^^^^^^^^^^^^^^^^^^^^^^^^^^^^^^^\n",
      "  File \"c:\\Users\\johan\\anaconda3\\envs\\dl\\Lib\\site-packages\\ray\\train\\_internal\\storage.py\", line 542, in persist_current_checkpoint\n",
      "    _pyarrow_fs_copy_files(\n",
      "  File \"c:\\Users\\johan\\anaconda3\\envs\\dl\\Lib\\site-packages\\ray\\train\\_internal\\storage.py\", line 110, in _pyarrow_fs_copy_files\n",
      "    return pyarrow.fs.copy_files(\n",
      "           ^^^^^^^^^^^^^^^^^^^^^^\n",
      "  File \"c:\\Users\\johan\\anaconda3\\envs\\dl\\Lib\\site-packages\\pyarrow\\fs.py\", line 259, in copy_files\n",
      "    _copy_files_selector(source_fs, source_sel,\n",
      "  File \"pyarrow\\\\_fs.pyx\", line 1630, in pyarrow._fs._copy_files_selector\n",
      "  File \"pyarrow\\\\error.pxi\", line 91, in pyarrow.lib.check_status\n",
      "OSError: [WinError 112] Failed copying 'C:/Users/johan/AppData/Local/Temp/tmp4rta8y8s/checkpoint.pt' to 'C:/Users/johan/ray_results/train_model_cv_2024-11-26_18-30-35/trial_2b60a_00040_lr=1.0e-04_opt=RMSprop_bs=4/checkpoint_000000/checkpoint.pt'. Detail: [Windows error 112] Der er ikke tilstrækkelig plads på disken.\n"
     ]
    },
    {
     "name": "stdout",
     "output_type": "stream",
     "text": [
      "\u001b[36m(train_model_cv pid=5192)\u001b[0m [neptune] [info   ] Neptune initialized. Open in the app: https://app.neptune.ai/OCTAA/OCTSegmenter/e/OCT-162\n",
      "\u001b[36m(train_model_cv pid=5192)\u001b[0m Training on fold 1\n",
      "\u001b[36m(train_model_cv pid=5192)\u001b[0m [1,    10] loss: 1.040\n",
      "\u001b[36m(train_model_cv pid=5192)\u001b[0m [1,    20] loss: 1.070\n",
      "\u001b[36m(train_model_cv pid=5192)\u001b[0m [1,    30] loss: 0.900\n",
      "\u001b[36m(train_model_cv pid=5192)\u001b[0m Epoch [1/5], Training Loss: 1.0289\n",
      "\u001b[36m(train_model_cv pid=5192)\u001b[0m Epoch [1/5], Validation Loss: 1.2296\n"
     ]
    },
    {
     "name": "stderr",
     "output_type": "stream",
     "text": [
      "2024-11-26 19:29:30,324\tERROR tune_controller.py:1331 -- Trial task failed for trial train_model_cv_2b60a_00041\n",
      "Traceback (most recent call last):\n",
      "  File \"c:\\Users\\johan\\anaconda3\\envs\\dl\\Lib\\site-packages\\ray\\air\\execution\\_internal\\event_manager.py\", line 110, in resolve_future\n",
      "    result = ray.get(future)\n",
      "             ^^^^^^^^^^^^^^^\n",
      "  File \"c:\\Users\\johan\\anaconda3\\envs\\dl\\Lib\\site-packages\\ray\\_private\\auto_init_hook.py\", line 21, in auto_init_wrapper\n",
      "    return fn(*args, **kwargs)\n",
      "           ^^^^^^^^^^^^^^^^^^^\n",
      "  File \"c:\\Users\\johan\\anaconda3\\envs\\dl\\Lib\\site-packages\\ray\\_private\\client_mode_hook.py\", line 103, in wrapper\n",
      "    return func(*args, **kwargs)\n",
      "           ^^^^^^^^^^^^^^^^^^^^^\n",
      "  File \"c:\\Users\\johan\\anaconda3\\envs\\dl\\Lib\\site-packages\\ray\\_private\\worker.py\", line 2656, in get\n",
      "    values, debugger_breakpoint = worker.get_objects(object_refs, timeout=timeout)\n",
      "                                  ^^^^^^^^^^^^^^^^^^^^^^^^^^^^^^^^^^^^^^^^^^^^^^^^\n",
      "  File \"c:\\Users\\johan\\anaconda3\\envs\\dl\\Lib\\site-packages\\ray\\_private\\worker.py\", line 871, in get_objects\n",
      "    raise value.as_instanceof_cause()\n",
      "ray.exceptions.RayTaskError(OSError): \u001b[36mray::ImplicitFunc.train()\u001b[39m (pid=5192, ip=127.0.0.1, actor_id=f121f5c7a7f47eff383c7fae01000000, repr=train_model_cv)\n",
      "  File \"python\\ray\\_raylet.pyx\", line 1901, in ray._raylet.execute_task\n",
      "  File \"python\\ray\\_raylet.pyx\", line 1842, in ray._raylet.execute_task.function_executor\n",
      "  File \"c:\\Users\\johan\\anaconda3\\envs\\dl\\Lib\\site-packages\\ray\\_private\\function_manager.py\", line 691, in actor_method_executor\n",
      "    return method(__ray_actor, *args, **kwargs)\n",
      "           ^^^^^^^^^^^^^^^^^^^^^^^^^^^^^^^^^^^^\n",
      "  File \"c:\\Users\\johan\\anaconda3\\envs\\dl\\Lib\\site-packages\\ray\\util\\tracing\\tracing_helper.py\", line 467, in _resume_span\n",
      "    return method(self, *_args, **_kwargs)\n",
      "           ^^^^^^^^^^^^^^^^^^^^^^^^^^^^^^^\n",
      "  File \"c:\\Users\\johan\\anaconda3\\envs\\dl\\Lib\\site-packages\\ray\\tune\\trainable\\trainable.py\", line 331, in train\n",
      "    raise skipped from exception_cause(skipped)\n",
      "  File \"c:\\Users\\johan\\anaconda3\\envs\\dl\\Lib\\site-packages\\ray\\air\\_internal\\util.py\", line 98, in run\n",
      "    self._ret = self._target(*self._args, **self._kwargs)\n",
      "                ^^^^^^^^^^^^^^^^^^^^^^^^^^^^^^^^^^^^^^^^^\n",
      "  File \"c:\\Users\\johan\\anaconda3\\envs\\dl\\Lib\\site-packages\\ray\\tune\\trainable\\function_trainable.py\", line 45, in <lambda>\n",
      "    training_func=lambda: self._trainable_func(self.config),\n",
      "                          ^^^^^^^^^^^^^^^^^^^^^^^^^^^^^^^^^\n",
      "  File \"c:\\Users\\johan\\anaconda3\\envs\\dl\\Lib\\site-packages\\ray\\util\\tracing\\tracing_helper.py\", line 467, in _resume_span\n",
      "    return method(self, *_args, **_kwargs)\n",
      "           ^^^^^^^^^^^^^^^^^^^^^^^^^^^^^^^\n",
      "  File \"c:\\Users\\johan\\anaconda3\\envs\\dl\\Lib\\site-packages\\ray\\tune\\trainable\\function_trainable.py\", line 248, in _trainable_func\n",
      "    output = fn()\n",
      "             ^^^^\n",
      "  File \"c:\\Users\\johan\\anaconda3\\envs\\dl\\Lib\\site-packages\\ray\\tune\\trainable\\util.py\", line 130, in inner\n",
      "    return trainable(config, **fn_kwargs)\n",
      "           ^^^^^^^^^^^^^^^^^^^^^^^^^^^^^^\n",
      "  File \"C:\\Users\\johan\\AppData\\Local\\Temp\\ipykernel_12900\\2273173191.py\", line 166, in train_model_cv\n",
      "  File \"c:\\Users\\johan\\anaconda3\\envs\\dl\\Lib\\site-packages\\ray\\train\\_internal\\session.py\", line 657, in wrapper\n",
      "    return fn(*args, **kwargs)\n",
      "           ^^^^^^^^^^^^^^^^^^^\n",
      "  File \"c:\\Users\\johan\\anaconda3\\envs\\dl\\Lib\\site-packages\\ray\\train\\_internal\\session.py\", line 748, in report\n",
      "    _get_session().report(metrics, checkpoint=checkpoint)\n",
      "  File \"c:\\Users\\johan\\anaconda3\\envs\\dl\\Lib\\site-packages\\ray\\train\\_internal\\session.py\", line 426, in report\n",
      "    persisted_checkpoint = self.storage.persist_current_checkpoint(checkpoint)\n",
      "                           ^^^^^^^^^^^^^^^^^^^^^^^^^^^^^^^^^^^^^^^^^^^^^^^^^^^\n",
      "  File \"c:\\Users\\johan\\anaconda3\\envs\\dl\\Lib\\site-packages\\ray\\train\\_internal\\storage.py\", line 542, in persist_current_checkpoint\n",
      "    _pyarrow_fs_copy_files(\n",
      "  File \"c:\\Users\\johan\\anaconda3\\envs\\dl\\Lib\\site-packages\\ray\\train\\_internal\\storage.py\", line 110, in _pyarrow_fs_copy_files\n",
      "    return pyarrow.fs.copy_files(\n",
      "           ^^^^^^^^^^^^^^^^^^^^^^\n",
      "  File \"c:\\Users\\johan\\anaconda3\\envs\\dl\\Lib\\site-packages\\pyarrow\\fs.py\", line 259, in copy_files\n",
      "    _copy_files_selector(source_fs, source_sel,\n",
      "  File \"pyarrow\\\\_fs.pyx\", line 1630, in pyarrow._fs._copy_files_selector\n",
      "  File \"pyarrow\\\\error.pxi\", line 91, in pyarrow.lib.check_status\n",
      "OSError: [WinError 112] Failed copying 'C:/Users/johan/AppData/Local/Temp/tmpa0dka1wu/checkpoint.pt' to 'C:/Users/johan/ray_results/train_model_cv_2024-11-26_18-30-35/trial_2b60a_00041_lr=1.0e-04_opt=RMSprop_bs=4/checkpoint_000000/checkpoint.pt'. Detail: [Windows error 112] Der er ikke tilstrækkelig plads på disken.\n"
     ]
    },
    {
     "name": "stdout",
     "output_type": "stream",
     "text": [
      "\u001b[36m(train_model_cv pid=12348)\u001b[0m [neptune] [info   ] Neptune initialized. Open in the app: https://app.neptune.ai/OCTAA/OCTSegmenter/e/OCT-163\n",
      "\u001b[36m(train_model_cv pid=12348)\u001b[0m Training on fold 2\n",
      "\u001b[36m(train_model_cv pid=12348)\u001b[0m [1,    10] loss: 1.264\n",
      "\u001b[36m(train_model_cv pid=12348)\u001b[0m [1,    20] loss: 1.065\n",
      "\u001b[36m(train_model_cv pid=12348)\u001b[0m [1,    30] loss: 1.074\n",
      "\u001b[36m(train_model_cv pid=12348)\u001b[0m Epoch [1/5], Training Loss: 1.0769\n",
      "\u001b[36m(train_model_cv pid=12348)\u001b[0m Epoch [1/5], Validation Loss: 1.2622\n"
     ]
    },
    {
     "name": "stderr",
     "output_type": "stream",
     "text": [
      "2024-11-26 19:30:13,326\tERROR tune_controller.py:1331 -- Trial task failed for trial train_model_cv_2b60a_00042\n",
      "Traceback (most recent call last):\n",
      "  File \"c:\\Users\\johan\\anaconda3\\envs\\dl\\Lib\\site-packages\\ray\\air\\execution\\_internal\\event_manager.py\", line 110, in resolve_future\n",
      "    result = ray.get(future)\n",
      "             ^^^^^^^^^^^^^^^\n",
      "  File \"c:\\Users\\johan\\anaconda3\\envs\\dl\\Lib\\site-packages\\ray\\_private\\auto_init_hook.py\", line 21, in auto_init_wrapper\n",
      "    return fn(*args, **kwargs)\n",
      "           ^^^^^^^^^^^^^^^^^^^\n",
      "  File \"c:\\Users\\johan\\anaconda3\\envs\\dl\\Lib\\site-packages\\ray\\_private\\client_mode_hook.py\", line 103, in wrapper\n",
      "    return func(*args, **kwargs)\n",
      "           ^^^^^^^^^^^^^^^^^^^^^\n",
      "  File \"c:\\Users\\johan\\anaconda3\\envs\\dl\\Lib\\site-packages\\ray\\_private\\worker.py\", line 2656, in get\n",
      "    values, debugger_breakpoint = worker.get_objects(object_refs, timeout=timeout)\n",
      "                                  ^^^^^^^^^^^^^^^^^^^^^^^^^^^^^^^^^^^^^^^^^^^^^^^^\n",
      "  File \"c:\\Users\\johan\\anaconda3\\envs\\dl\\Lib\\site-packages\\ray\\_private\\worker.py\", line 871, in get_objects\n",
      "    raise value.as_instanceof_cause()\n",
      "ray.exceptions.RayTaskError(OSError): \u001b[36mray::ImplicitFunc.train()\u001b[39m (pid=12348, ip=127.0.0.1, actor_id=7e90e48b7b4216d2cf826a0601000000, repr=train_model_cv)\n",
      "  File \"python\\ray\\_raylet.pyx\", line 1901, in ray._raylet.execute_task\n",
      "  File \"python\\ray\\_raylet.pyx\", line 1842, in ray._raylet.execute_task.function_executor\n",
      "  File \"c:\\Users\\johan\\anaconda3\\envs\\dl\\Lib\\site-packages\\ray\\_private\\function_manager.py\", line 691, in actor_method_executor\n",
      "    return method(__ray_actor, *args, **kwargs)\n",
      "           ^^^^^^^^^^^^^^^^^^^^^^^^^^^^^^^^^^^^\n",
      "  File \"c:\\Users\\johan\\anaconda3\\envs\\dl\\Lib\\site-packages\\ray\\util\\tracing\\tracing_helper.py\", line 467, in _resume_span\n",
      "    return method(self, *_args, **_kwargs)\n",
      "           ^^^^^^^^^^^^^^^^^^^^^^^^^^^^^^^\n",
      "  File \"c:\\Users\\johan\\anaconda3\\envs\\dl\\Lib\\site-packages\\ray\\tune\\trainable\\trainable.py\", line 331, in train\n",
      "    raise skipped from exception_cause(skipped)\n",
      "  File \"c:\\Users\\johan\\anaconda3\\envs\\dl\\Lib\\site-packages\\ray\\air\\_internal\\util.py\", line 98, in run\n",
      "    self._ret = self._target(*self._args, **self._kwargs)\n",
      "                ^^^^^^^^^^^^^^^^^^^^^^^^^^^^^^^^^^^^^^^^^\n",
      "  File \"c:\\Users\\johan\\anaconda3\\envs\\dl\\Lib\\site-packages\\ray\\tune\\trainable\\function_trainable.py\", line 45, in <lambda>\n",
      "    training_func=lambda: self._trainable_func(self.config),\n",
      "                          ^^^^^^^^^^^^^^^^^^^^^^^^^^^^^^^^^\n",
      "  File \"c:\\Users\\johan\\anaconda3\\envs\\dl\\Lib\\site-packages\\ray\\util\\tracing\\tracing_helper.py\", line 467, in _resume_span\n",
      "    return method(self, *_args, **_kwargs)\n",
      "           ^^^^^^^^^^^^^^^^^^^^^^^^^^^^^^^\n",
      "  File \"c:\\Users\\johan\\anaconda3\\envs\\dl\\Lib\\site-packages\\ray\\tune\\trainable\\function_trainable.py\", line 248, in _trainable_func\n",
      "    output = fn()\n",
      "             ^^^^\n",
      "  File \"c:\\Users\\johan\\anaconda3\\envs\\dl\\Lib\\site-packages\\ray\\tune\\trainable\\util.py\", line 130, in inner\n",
      "    return trainable(config, **fn_kwargs)\n",
      "           ^^^^^^^^^^^^^^^^^^^^^^^^^^^^^^\n",
      "  File \"C:\\Users\\johan\\AppData\\Local\\Temp\\ipykernel_12900\\2273173191.py\", line 166, in train_model_cv\n",
      "  File \"c:\\Users\\johan\\anaconda3\\envs\\dl\\Lib\\site-packages\\ray\\train\\_internal\\session.py\", line 657, in wrapper\n",
      "    return fn(*args, **kwargs)\n",
      "           ^^^^^^^^^^^^^^^^^^^\n",
      "  File \"c:\\Users\\johan\\anaconda3\\envs\\dl\\Lib\\site-packages\\ray\\train\\_internal\\session.py\", line 748, in report\n",
      "    _get_session().report(metrics, checkpoint=checkpoint)\n",
      "  File \"c:\\Users\\johan\\anaconda3\\envs\\dl\\Lib\\site-packages\\ray\\train\\_internal\\session.py\", line 426, in report\n",
      "    persisted_checkpoint = self.storage.persist_current_checkpoint(checkpoint)\n",
      "                           ^^^^^^^^^^^^^^^^^^^^^^^^^^^^^^^^^^^^^^^^^^^^^^^^^^^\n",
      "  File \"c:\\Users\\johan\\anaconda3\\envs\\dl\\Lib\\site-packages\\ray\\train\\_internal\\storage.py\", line 542, in persist_current_checkpoint\n",
      "    _pyarrow_fs_copy_files(\n",
      "  File \"c:\\Users\\johan\\anaconda3\\envs\\dl\\Lib\\site-packages\\ray\\train\\_internal\\storage.py\", line 110, in _pyarrow_fs_copy_files\n",
      "    return pyarrow.fs.copy_files(\n",
      "           ^^^^^^^^^^^^^^^^^^^^^^\n",
      "  File \"c:\\Users\\johan\\anaconda3\\envs\\dl\\Lib\\site-packages\\pyarrow\\fs.py\", line 259, in copy_files\n",
      "    _copy_files_selector(source_fs, source_sel,\n",
      "  File \"pyarrow\\\\_fs.pyx\", line 1630, in pyarrow._fs._copy_files_selector\n",
      "  File \"pyarrow\\\\error.pxi\", line 91, in pyarrow.lib.check_status\n",
      "OSError: [WinError 112] Failed copying 'C:/Users/johan/AppData/Local/Temp/tmp8ej669os/checkpoint.pt' to 'C:/Users/johan/ray_results/train_model_cv_2024-11-26_18-30-35/trial_2b60a_00042_lr=1.0e-04_opt=RMSprop_bs=4/checkpoint_000000/checkpoint.pt'. Detail: [Windows error 112] Der er ikke tilstrækkelig plads på disken.\n"
     ]
    },
    {
     "name": "stdout",
     "output_type": "stream",
     "text": [
      "\u001b[36m(train_model_cv pid=24028)\u001b[0m [neptune] [info   ] Neptune initialized. Open in the app: https://app.neptune.ai/OCTAA/OCTSegmenter/e/OCT-164\n",
      "\u001b[36m(train_model_cv pid=24028)\u001b[0m Training on fold 3\n",
      "\u001b[36m(train_model_cv pid=24028)\u001b[0m [1,    10] loss: 1.163\n",
      "\u001b[36m(train_model_cv pid=24028)\u001b[0m [1,    20] loss: 1.029\n",
      "\u001b[36m(train_model_cv pid=24028)\u001b[0m [1,    30] loss: 1.036\n",
      "\u001b[36m(train_model_cv pid=24028)\u001b[0m Epoch [1/5], Training Loss: 1.1269\n",
      "\u001b[36m(train_model_cv pid=24028)\u001b[0m Epoch [1/5], Validation Loss: 1.2904\n"
     ]
    },
    {
     "name": "stderr",
     "output_type": "stream",
     "text": [
      "2024-11-26 19:30:59,011\tERROR tune_controller.py:1331 -- Trial task failed for trial train_model_cv_2b60a_00043\n",
      "Traceback (most recent call last):\n",
      "  File \"c:\\Users\\johan\\anaconda3\\envs\\dl\\Lib\\site-packages\\ray\\air\\execution\\_internal\\event_manager.py\", line 110, in resolve_future\n",
      "    result = ray.get(future)\n",
      "             ^^^^^^^^^^^^^^^\n",
      "  File \"c:\\Users\\johan\\anaconda3\\envs\\dl\\Lib\\site-packages\\ray\\_private\\auto_init_hook.py\", line 21, in auto_init_wrapper\n",
      "    return fn(*args, **kwargs)\n",
      "           ^^^^^^^^^^^^^^^^^^^\n",
      "  File \"c:\\Users\\johan\\anaconda3\\envs\\dl\\Lib\\site-packages\\ray\\_private\\client_mode_hook.py\", line 103, in wrapper\n",
      "    return func(*args, **kwargs)\n",
      "           ^^^^^^^^^^^^^^^^^^^^^\n",
      "  File \"c:\\Users\\johan\\anaconda3\\envs\\dl\\Lib\\site-packages\\ray\\_private\\worker.py\", line 2656, in get\n",
      "    values, debugger_breakpoint = worker.get_objects(object_refs, timeout=timeout)\n",
      "                                  ^^^^^^^^^^^^^^^^^^^^^^^^^^^^^^^^^^^^^^^^^^^^^^^^\n",
      "  File \"c:\\Users\\johan\\anaconda3\\envs\\dl\\Lib\\site-packages\\ray\\_private\\worker.py\", line 871, in get_objects\n",
      "    raise value.as_instanceof_cause()\n",
      "ray.exceptions.RayTaskError(OSError): \u001b[36mray::ImplicitFunc.train()\u001b[39m (pid=24028, ip=127.0.0.1, actor_id=21feb91348f585c78817780801000000, repr=train_model_cv)\n",
      "  File \"python\\ray\\_raylet.pyx\", line 1901, in ray._raylet.execute_task\n",
      "  File \"python\\ray\\_raylet.pyx\", line 1842, in ray._raylet.execute_task.function_executor\n",
      "  File \"c:\\Users\\johan\\anaconda3\\envs\\dl\\Lib\\site-packages\\ray\\_private\\function_manager.py\", line 691, in actor_method_executor\n",
      "    return method(__ray_actor, *args, **kwargs)\n",
      "           ^^^^^^^^^^^^^^^^^^^^^^^^^^^^^^^^^^^^\n",
      "  File \"c:\\Users\\johan\\anaconda3\\envs\\dl\\Lib\\site-packages\\ray\\util\\tracing\\tracing_helper.py\", line 467, in _resume_span\n",
      "    return method(self, *_args, **_kwargs)\n",
      "           ^^^^^^^^^^^^^^^^^^^^^^^^^^^^^^^\n",
      "  File \"c:\\Users\\johan\\anaconda3\\envs\\dl\\Lib\\site-packages\\ray\\tune\\trainable\\trainable.py\", line 331, in train\n",
      "    raise skipped from exception_cause(skipped)\n",
      "  File \"c:\\Users\\johan\\anaconda3\\envs\\dl\\Lib\\site-packages\\ray\\air\\_internal\\util.py\", line 98, in run\n",
      "    self._ret = self._target(*self._args, **self._kwargs)\n",
      "                ^^^^^^^^^^^^^^^^^^^^^^^^^^^^^^^^^^^^^^^^^\n",
      "  File \"c:\\Users\\johan\\anaconda3\\envs\\dl\\Lib\\site-packages\\ray\\tune\\trainable\\function_trainable.py\", line 45, in <lambda>\n",
      "    training_func=lambda: self._trainable_func(self.config),\n",
      "                          ^^^^^^^^^^^^^^^^^^^^^^^^^^^^^^^^^\n",
      "  File \"c:\\Users\\johan\\anaconda3\\envs\\dl\\Lib\\site-packages\\ray\\util\\tracing\\tracing_helper.py\", line 467, in _resume_span\n",
      "    return method(self, *_args, **_kwargs)\n",
      "           ^^^^^^^^^^^^^^^^^^^^^^^^^^^^^^^\n",
      "  File \"c:\\Users\\johan\\anaconda3\\envs\\dl\\Lib\\site-packages\\ray\\tune\\trainable\\function_trainable.py\", line 248, in _trainable_func\n",
      "    output = fn()\n",
      "             ^^^^\n",
      "  File \"c:\\Users\\johan\\anaconda3\\envs\\dl\\Lib\\site-packages\\ray\\tune\\trainable\\util.py\", line 130, in inner\n",
      "    return trainable(config, **fn_kwargs)\n",
      "           ^^^^^^^^^^^^^^^^^^^^^^^^^^^^^^\n",
      "  File \"C:\\Users\\johan\\AppData\\Local\\Temp\\ipykernel_12900\\2273173191.py\", line 166, in train_model_cv\n",
      "  File \"c:\\Users\\johan\\anaconda3\\envs\\dl\\Lib\\site-packages\\ray\\train\\_internal\\session.py\", line 657, in wrapper\n",
      "    return fn(*args, **kwargs)\n",
      "           ^^^^^^^^^^^^^^^^^^^\n",
      "  File \"c:\\Users\\johan\\anaconda3\\envs\\dl\\Lib\\site-packages\\ray\\train\\_internal\\session.py\", line 748, in report\n",
      "    _get_session().report(metrics, checkpoint=checkpoint)\n",
      "  File \"c:\\Users\\johan\\anaconda3\\envs\\dl\\Lib\\site-packages\\ray\\train\\_internal\\session.py\", line 426, in report\n",
      "    persisted_checkpoint = self.storage.persist_current_checkpoint(checkpoint)\n",
      "                           ^^^^^^^^^^^^^^^^^^^^^^^^^^^^^^^^^^^^^^^^^^^^^^^^^^^\n",
      "  File \"c:\\Users\\johan\\anaconda3\\envs\\dl\\Lib\\site-packages\\ray\\train\\_internal\\storage.py\", line 542, in persist_current_checkpoint\n",
      "    _pyarrow_fs_copy_files(\n",
      "  File \"c:\\Users\\johan\\anaconda3\\envs\\dl\\Lib\\site-packages\\ray\\train\\_internal\\storage.py\", line 110, in _pyarrow_fs_copy_files\n",
      "    return pyarrow.fs.copy_files(\n",
      "           ^^^^^^^^^^^^^^^^^^^^^^\n",
      "  File \"c:\\Users\\johan\\anaconda3\\envs\\dl\\Lib\\site-packages\\pyarrow\\fs.py\", line 259, in copy_files\n",
      "    _copy_files_selector(source_fs, source_sel,\n",
      "  File \"pyarrow\\\\_fs.pyx\", line 1630, in pyarrow._fs._copy_files_selector\n",
      "  File \"pyarrow\\\\error.pxi\", line 91, in pyarrow.lib.check_status\n",
      "OSError: [WinError 112] Failed copying 'C:/Users/johan/AppData/Local/Temp/tmpe_o3mvew/checkpoint.pt' to 'C:/Users/johan/ray_results/train_model_cv_2024-11-26_18-30-35/trial_2b60a_00043_lr=1.0e-04_opt=RMSprop_bs=4/checkpoint_000000/checkpoint.pt'. Detail: [Windows error 112] Der er ikke tilstrækkelig plads på disken.\n"
     ]
    },
    {
     "name": "stdout",
     "output_type": "stream",
     "text": [
      "\u001b[36m(train_model_cv pid=15436)\u001b[0m [neptune] [info   ] Neptune initialized. Open in the app: https://app.neptune.ai/OCTAA/OCTSegmenter/e/OCT-165\n",
      "\u001b[36m(train_model_cv pid=15436)\u001b[0m Training on fold 4\n",
      "\u001b[36m(train_model_cv pid=15436)\u001b[0m [1,    10] loss: 1.094\n",
      "\u001b[36m(train_model_cv pid=15436)\u001b[0m [1,    20] loss: 1.237\n",
      "\u001b[36m(train_model_cv pid=15436)\u001b[0m [1,    30] loss: 1.087\n",
      "\u001b[36m(train_model_cv pid=15436)\u001b[0m Epoch [1/5], Training Loss: 1.0736\n",
      "\u001b[36m(train_model_cv pid=15436)\u001b[0m Epoch [1/5], Validation Loss: 1.3055\n"
     ]
    },
    {
     "name": "stderr",
     "output_type": "stream",
     "text": [
      "2024-11-26 19:31:42,647\tERROR tune_controller.py:1331 -- Trial task failed for trial train_model_cv_2b60a_00044\n",
      "Traceback (most recent call last):\n",
      "  File \"c:\\Users\\johan\\anaconda3\\envs\\dl\\Lib\\site-packages\\ray\\air\\execution\\_internal\\event_manager.py\", line 110, in resolve_future\n",
      "    result = ray.get(future)\n",
      "             ^^^^^^^^^^^^^^^\n",
      "  File \"c:\\Users\\johan\\anaconda3\\envs\\dl\\Lib\\site-packages\\ray\\_private\\auto_init_hook.py\", line 21, in auto_init_wrapper\n",
      "    return fn(*args, **kwargs)\n",
      "           ^^^^^^^^^^^^^^^^^^^\n",
      "  File \"c:\\Users\\johan\\anaconda3\\envs\\dl\\Lib\\site-packages\\ray\\_private\\client_mode_hook.py\", line 103, in wrapper\n",
      "    return func(*args, **kwargs)\n",
      "           ^^^^^^^^^^^^^^^^^^^^^\n",
      "  File \"c:\\Users\\johan\\anaconda3\\envs\\dl\\Lib\\site-packages\\ray\\_private\\worker.py\", line 2656, in get\n",
      "    values, debugger_breakpoint = worker.get_objects(object_refs, timeout=timeout)\n",
      "                                  ^^^^^^^^^^^^^^^^^^^^^^^^^^^^^^^^^^^^^^^^^^^^^^^^\n",
      "  File \"c:\\Users\\johan\\anaconda3\\envs\\dl\\Lib\\site-packages\\ray\\_private\\worker.py\", line 871, in get_objects\n",
      "    raise value.as_instanceof_cause()\n",
      "ray.exceptions.RayTaskError(OSError): \u001b[36mray::ImplicitFunc.train()\u001b[39m (pid=15436, ip=127.0.0.1, actor_id=c5cad469b5d2a46d2c14d3c401000000, repr=train_model_cv)\n",
      "  File \"python\\ray\\_raylet.pyx\", line 1901, in ray._raylet.execute_task\n",
      "  File \"python\\ray\\_raylet.pyx\", line 1842, in ray._raylet.execute_task.function_executor\n",
      "  File \"c:\\Users\\johan\\anaconda3\\envs\\dl\\Lib\\site-packages\\ray\\_private\\function_manager.py\", line 691, in actor_method_executor\n",
      "    return method(__ray_actor, *args, **kwargs)\n",
      "           ^^^^^^^^^^^^^^^^^^^^^^^^^^^^^^^^^^^^\n",
      "  File \"c:\\Users\\johan\\anaconda3\\envs\\dl\\Lib\\site-packages\\ray\\util\\tracing\\tracing_helper.py\", line 467, in _resume_span\n",
      "    return method(self, *_args, **_kwargs)\n",
      "           ^^^^^^^^^^^^^^^^^^^^^^^^^^^^^^^\n",
      "  File \"c:\\Users\\johan\\anaconda3\\envs\\dl\\Lib\\site-packages\\ray\\tune\\trainable\\trainable.py\", line 331, in train\n",
      "    raise skipped from exception_cause(skipped)\n",
      "  File \"c:\\Users\\johan\\anaconda3\\envs\\dl\\Lib\\site-packages\\ray\\air\\_internal\\util.py\", line 98, in run\n",
      "    self._ret = self._target(*self._args, **self._kwargs)\n",
      "                ^^^^^^^^^^^^^^^^^^^^^^^^^^^^^^^^^^^^^^^^^\n",
      "  File \"c:\\Users\\johan\\anaconda3\\envs\\dl\\Lib\\site-packages\\ray\\tune\\trainable\\function_trainable.py\", line 45, in <lambda>\n",
      "    training_func=lambda: self._trainable_func(self.config),\n",
      "                          ^^^^^^^^^^^^^^^^^^^^^^^^^^^^^^^^^\n",
      "  File \"c:\\Users\\johan\\anaconda3\\envs\\dl\\Lib\\site-packages\\ray\\util\\tracing\\tracing_helper.py\", line 467, in _resume_span\n",
      "    return method(self, *_args, **_kwargs)\n",
      "           ^^^^^^^^^^^^^^^^^^^^^^^^^^^^^^^\n",
      "  File \"c:\\Users\\johan\\anaconda3\\envs\\dl\\Lib\\site-packages\\ray\\tune\\trainable\\function_trainable.py\", line 248, in _trainable_func\n",
      "    output = fn()\n",
      "             ^^^^\n",
      "  File \"c:\\Users\\johan\\anaconda3\\envs\\dl\\Lib\\site-packages\\ray\\tune\\trainable\\util.py\", line 130, in inner\n",
      "    return trainable(config, **fn_kwargs)\n",
      "           ^^^^^^^^^^^^^^^^^^^^^^^^^^^^^^\n",
      "  File \"C:\\Users\\johan\\AppData\\Local\\Temp\\ipykernel_12900\\2273173191.py\", line 166, in train_model_cv\n",
      "  File \"c:\\Users\\johan\\anaconda3\\envs\\dl\\Lib\\site-packages\\ray\\train\\_internal\\session.py\", line 657, in wrapper\n",
      "    return fn(*args, **kwargs)\n",
      "           ^^^^^^^^^^^^^^^^^^^\n",
      "  File \"c:\\Users\\johan\\anaconda3\\envs\\dl\\Lib\\site-packages\\ray\\train\\_internal\\session.py\", line 748, in report\n",
      "    _get_session().report(metrics, checkpoint=checkpoint)\n",
      "  File \"c:\\Users\\johan\\anaconda3\\envs\\dl\\Lib\\site-packages\\ray\\train\\_internal\\session.py\", line 426, in report\n",
      "    persisted_checkpoint = self.storage.persist_current_checkpoint(checkpoint)\n",
      "                           ^^^^^^^^^^^^^^^^^^^^^^^^^^^^^^^^^^^^^^^^^^^^^^^^^^^\n",
      "  File \"c:\\Users\\johan\\anaconda3\\envs\\dl\\Lib\\site-packages\\ray\\train\\_internal\\storage.py\", line 542, in persist_current_checkpoint\n",
      "    _pyarrow_fs_copy_files(\n",
      "  File \"c:\\Users\\johan\\anaconda3\\envs\\dl\\Lib\\site-packages\\ray\\train\\_internal\\storage.py\", line 110, in _pyarrow_fs_copy_files\n",
      "    return pyarrow.fs.copy_files(\n",
      "           ^^^^^^^^^^^^^^^^^^^^^^\n",
      "  File \"c:\\Users\\johan\\anaconda3\\envs\\dl\\Lib\\site-packages\\pyarrow\\fs.py\", line 259, in copy_files\n",
      "    _copy_files_selector(source_fs, source_sel,\n",
      "  File \"pyarrow\\\\_fs.pyx\", line 1630, in pyarrow._fs._copy_files_selector\n",
      "  File \"pyarrow\\\\error.pxi\", line 91, in pyarrow.lib.check_status\n",
      "OSError: [WinError 112] Failed copying 'C:/Users/johan/AppData/Local/Temp/tmpqdap1pux/checkpoint.pt' to 'C:/Users/johan/ray_results/train_model_cv_2024-11-26_18-30-35/trial_2b60a_00044_lr=1.0e-04_opt=RMSprop_bs=4/checkpoint_000000/checkpoint.pt'. Detail: [Windows error 112] Der er ikke tilstrækkelig plads på disken.\n",
      "2024-11-26 19:31:42,778\tINFO tune.py:1009 -- Wrote the latest version of all result files and experiment state to 'C:/Users/johan/ray_results/train_model_cv_2024-11-26_18-30-35' in 0.1220s.\n",
      "2024-11-26 19:31:42,880\tERROR tune.py:1037 -- Trials did not complete: [train_model_cv_2b60a_00039, train_model_cv_2b60a_00040, train_model_cv_2b60a_00041, train_model_cv_2b60a_00042, train_model_cv_2b60a_00043, train_model_cv_2b60a_00044]\n",
      "2024-11-26 19:31:42,881\tINFO tune.py:1041 -- Total run time: 3657.06 seconds (3656.74 seconds for the tuning loop).\n"
     ]
    },
    {
     "name": "stdout",
     "output_type": "stream",
     "text": [
      "Best trial config: {'root_dir': 'D:\\\\OneDrive - Aarhus Universitet\\\\9. Semester\\\\Deep Learning\\\\data_terumo_smoke_test', 'lr': 0.0001, 'epochs': 5, 'smoke_test': True, 'batch_size': 4, 'optimizer': 'RMSprop', 'folds': 5, 'fold': 0, 'patience': 10, 'loss_function': 'BCELoss'}\n",
      "Best trial final validation loss: 0.15877357456419203\n",
      "Best trial final validation accuracy: 0.841226425435808\n"
     ]
    },
    {
     "name": "stderr",
     "output_type": "stream",
     "text": [
      "[neptune] [warning] NeptuneWarning: By default, these monitoring options are disabled in interactive sessions: 'capture_stdout', 'capture_stderr', 'capture_traceback', 'capture_hardware_metrics'. You can set them to 'True' when initializing the run and the monitoring will continue until you call run.stop() or the kernel stops. NOTE: To track the source files, pass their paths to the 'source_code' argument. For help, see: https://docs.neptune.ai/logging/source_code/\n"
     ]
    },
    {
     "name": "stdout",
     "output_type": "stream",
     "text": [
      "[neptune] [info   ] Neptune initialized. Open in the app: https://app.neptune.ai/OCTAA/OCTSegmenter/e/OCT-166\n",
      "[neptune] [info   ] Shutting down background jobs, please wait a moment...\n",
      "[neptune] [info   ] Done!\n",
      "[neptune] [info   ] Waiting for the remaining 1 operations to synchronize with Neptune. Do not kill this process.\n",
      "[neptune] [info   ] All 1 operations synced, thanks for waiting!\n",
      "[neptune] [info   ] Explore the metadata in the Neptune app: https://app.neptune.ai/OCTAA/OCTSegmenter/e/OCT-166/metadata\n",
      "Test Loss: 0.6176, Test Accuracy: 0.1677\n"
     ]
    }
   ],
   "source": [
    "from ray.train import RunConfig, CheckpointConfig\n",
    "\n",
    "def plot_cv_indices(cv, X, y, ax, n_splits, lw=10, cmap_data=\"tab10\"):\n",
    "    \"\"\"Create a sample plot for indices of a cross-validation object.\"\"\"\n",
    "    # Generate the training/testing visualizations for each CV split\n",
    "    for ii, (tr, tt) in enumerate(cv.split(X=X, y=y)):\n",
    "        # Fill in indices with the training/test groups\n",
    "        indices = np.array([np.nan] * len(X))\n",
    "        indices[tt] = 1  # Mark the test samples\n",
    "        indices[tr] = 0  # Mark the train samples\n",
    "\n",
    "        # Visualize the results for the current split\n",
    "        # Train samples in light blue, validation samples in redder orange\n",
    "        ax.scatter(\n",
    "            range(len(indices)),\n",
    "            [ii + 0.5] * len(indices),\n",
    "            c=np.where(indices == 0, '#add8e6', '#ff4500'),  # Set light blue and redder orange\n",
    "            marker=\"_\",\n",
    "            lw=lw,\n",
    "        )\n",
    "\n",
    "    # Plot the unique_id at the end (instead of class labels)\n",
    "    ax.scatter(\n",
    "        range(len(X)), [ii + 1.5] * len(X), c=y, marker=\"_\", lw=lw, cmap=cmap_data\n",
    "    )\n",
    "\n",
    "    # Add a legend for train and validation splits\n",
    "    from matplotlib.lines import Line2D\n",
    "    legend_elements = [\n",
    "        Line2D([0], [0], color='#add8e6', lw=4, label='Train'),\n",
    "        Line2D([0], [0], color='#ff4500', lw=4, label='Validation'),\n",
    "    ]\n",
    "    ax.legend(handles=legend_elements, loc='upper right', fontsize=12)\n",
    "\n",
    "    # Formatting\n",
    "    yticklabels = list(range(n_splits)) + [\"unique_id\"]\n",
    "    ax.set(\n",
    "        yticks=np.arange(n_splits + 1) + 0.5,\n",
    "        yticklabels=yticklabels,\n",
    "        xlabel=\"Sample index\",\n",
    "        ylabel=\"CV iteration\",\n",
    "        ylim=[n_splits + 1.2, -0.2],\n",
    "        xlim=[0, len(X)],\n",
    "    )\n",
    "    ax.set_title(f\"{type(cv).__name__} Cross-Validation\", fontsize=15)\n",
    "    return ax\n",
    "\n",
    "# Visualize splits\n",
    "def visualize_cv_splits(metadata_df, n_splits=9):\n",
    "    # Extract unique IDs and their corresponding target (unique_id)\n",
    "    unique_ids = metadata_df[\"unique_id\"].values\n",
    "\n",
    "    # Initialize StratifiedKFold with n_splits\n",
    "    skf = StratifiedKFold(n_splits=n_splits)\n",
    "\n",
    "    # Create the plot\n",
    "    fig, ax = plt.subplots(figsize=(10, 6))\n",
    "\n",
    "    # Plot the cross-validation splits\n",
    "    plot_cv_indices(\n",
    "        skf, X=metadata_df, y=unique_ids, ax=ax, n_splits=n_splits\n",
    "    )\n",
    "\n",
    "    plt.show()\n",
    "\n",
    "# Custom function to shorten trial directory names\n",
    "def trial_dirname_creator(trial):\n",
    "    # Shorten the trial name to only include key parameters\n",
    "    return f\"trial_{trial.trial_id}_lr={trial.config['lr']:.1e}_opt={trial.config['optimizer']}_bs={trial.config['batch_size']}\"\n",
    "\n",
    "def main(num_samples, gpus_per_trial, epochs, smoke_test, folds):\n",
    "    if smoke_test:\n",
    "        root_dir = r\"D:\\OneDrive - Aarhus Universitet\\9. Semester\\Deep Learning\\data_terumo_smoke_test\"\n",
    "        with open(os.path.join(root_dir, \"metadata.csv\"), \"r\") as f:\n",
    "            metadata_df = pd.read_csv(f)\n",
    "            skf = StratifiedKFold(n_splits=folds)\n",
    "            visualize_cv_splits(metadata_df, n_splits=folds)\n",
    "\n",
    "    else:\n",
    "        print(\"Using full dataset\")\n",
    "    \n",
    "    config = {\n",
    "        \"root_dir\": root_dir,\n",
    "        \"lr\": 1e-4,\n",
    "        \"epochs\": epochs,\n",
    "        \"smoke_test\": smoke_test,\n",
    "        \"batch_size\": tune.choice([4]),\n",
    "        \"optimizer\": tune.grid_search([\"AdamW\", \"SGD\", \"RMSprop\"]),\n",
    "        \"folds\": folds,\n",
    "        \"fold\": tune.grid_search(list(range(folds))),\n",
    "        \"patience\": 10,\n",
    "        \"loss_function\": tune.grid_search([\"DiceLoss\", \"BCELoss\", \"DiceBCELoss\"])\n",
    "    }\n",
    "\n",
    "    scheduler = ASHAScheduler(\n",
    "        max_t=config[\"epochs\"],\n",
    "        grace_period=2,\n",
    "        reduction_factor=2\n",
    "    )\n",
    "\n",
    "    # Define your checkpoint configuration\n",
    "    checkpoint_config = CheckpointConfig(\n",
    "        num_to_keep=1,  # Only keep the best checkpoint\n",
    "        checkpoint_score_attribute=\"loss\",  # The metric used to determine the best checkpoint\n",
    "        checkpoint_score_order=\"min\",  # Keep the checkpoint with the lowest loss\n",
    "    )\n",
    "\n",
    "    # Define the run config with the checkpoint config\n",
    "    run_config = RunConfig(checkpoint_config=checkpoint_config)\n",
    "\n",
    "    tuner = tune.Tuner(\n",
    "        tune.with_resources(\n",
    "            tune.with_parameters(train_model_cv),\n",
    "            resources={\"cpu\": 2, \"gpu\": gpus_per_trial}\n",
    "        ),\n",
    "        tune_config=tune.TuneConfig(\n",
    "            metric=\"loss\",\n",
    "            mode=\"min\",\n",
    "            scheduler=scheduler,\n",
    "            num_samples=num_samples,\n",
    "            trial_dirname_creator=trial_dirname_creator,\n",
    "        ),\n",
    "        param_space=config,\n",
    "        run_config=run_config,\n",
    "    )\n",
    "    results = tuner.fit()\n",
    "    \n",
    "    best_result = results.get_best_result(\"dice_loss\", \"min\")\n",
    "\n",
    "    print(\"Best trial config: {}\".format(best_result.config))\n",
    "    print(\"Best trial final validation loss: {}\".format(\n",
    "        best_result.metrics[\"loss\"]))\n",
    "    print(\"Best trial final validation accuracy: {}\".format(\n",
    "        best_result.metrics[\"accuracy\"]))\n",
    "\n",
    "    test_best_model(best_result)\n",
    "\n",
    "main(num_samples=1, gpus_per_trial=1, epochs=5, smoke_test=True, folds=5)"
   ]
  },
  {
   "cell_type": "code",
   "execution_count": 5,
   "metadata": {},
   "outputs": [
    {
     "name": "stdout",
     "output_type": "stream",
     "text": [
      "Loading results from C:\\Users\\johan\\ray_results\\train_model_cv_2024-11-26_18-30-35...\n",
      "One of the trials failed!\n"
     ]
    },
    {
     "ename": "OSError",
     "evalue": "[WinError 112] Failed copying 'C:/Users/johan/ray_results/train_model_cv_2024-11-26_18-30-35/trial_2b60a_00035_lr=1.0e-04_opt=RMSprop_bs=4/checkpoint_000004/checkpoint.pt' to 'C:/Users/johan/AppData/Local/Temp/checkpoint_tmp_eb1ac5460b9145e2847271a019179487/checkpoint.pt'. Detail: [Windows error 112] Der er ikke tilstrækkelig plads på disken.\r\n",
     "output_type": "error",
     "traceback": [
      "\u001b[1;31m---------------------------------------------------------------------------\u001b[0m",
      "\u001b[1;31mOSError\u001b[0m                                   Traceback (most recent call last)",
      "Cell \u001b[1;32mIn[5], line 24\u001b[0m\n\u001b[0;32m     22\u001b[0m \u001b[38;5;66;03m# Load the best checkpoint if it exists\u001b[39;00m\n\u001b[0;32m     23\u001b[0m \u001b[38;5;28;01mif\u001b[39;00m best_result\u001b[38;5;241m.\u001b[39mcheckpoint:\n\u001b[1;32m---> 24\u001b[0m     checkpoint_path \u001b[38;5;241m=\u001b[39m os\u001b[38;5;241m.\u001b[39mpath\u001b[38;5;241m.\u001b[39mjoin(best_result\u001b[38;5;241m.\u001b[39mcheckpoint\u001b[38;5;241m.\u001b[39mto_directory(), \u001b[38;5;124m\"\u001b[39m\u001b[38;5;124mcheckpoint.pt\u001b[39m\u001b[38;5;124m\"\u001b[39m)\n\u001b[0;32m     25\u001b[0m \u001b[38;5;28;01melse\u001b[39;00m:\n\u001b[0;32m     26\u001b[0m     \u001b[38;5;28;01mraise\u001b[39;00m \u001b[38;5;167;01mValueError\u001b[39;00m(\u001b[38;5;124m\"\u001b[39m\u001b[38;5;124mNo checkpoint found for the best result.\u001b[39m\u001b[38;5;124m\"\u001b[39m)\n",
      "File \u001b[1;32mc:\\Users\\johan\\anaconda3\\envs\\dl\\Lib\\site-packages\\ray\\train\\_checkpoint.py:216\u001b[0m, in \u001b[0;36mCheckpoint.to_directory\u001b[1;34m(self, path)\u001b[0m\n\u001b[0;32m    212\u001b[0m \u001b[38;5;28;01mtry\u001b[39;00m:\n\u001b[0;32m    213\u001b[0m     \u001b[38;5;66;03m# Timeout 0 means there will be only one attempt to acquire\u001b[39;00m\n\u001b[0;32m    214\u001b[0m     \u001b[38;5;66;03m# the file lock. If it cannot be acquired, throw a TimeoutError\u001b[39;00m\n\u001b[0;32m    215\u001b[0m     \u001b[38;5;28;01mwith\u001b[39;00m TempFileLock(local_path, timeout\u001b[38;5;241m=\u001b[39m\u001b[38;5;241m0\u001b[39m):\n\u001b[1;32m--> 216\u001b[0m         _download_from_fs_path(\n\u001b[0;32m    217\u001b[0m             fs\u001b[38;5;241m=\u001b[39m\u001b[38;5;28mself\u001b[39m\u001b[38;5;241m.\u001b[39mfilesystem, fs_path\u001b[38;5;241m=\u001b[39m\u001b[38;5;28mself\u001b[39m\u001b[38;5;241m.\u001b[39mpath, local_path\u001b[38;5;241m=\u001b[39mlocal_path\n\u001b[0;32m    218\u001b[0m         )\n\u001b[0;32m    219\u001b[0m \u001b[38;5;28;01mexcept\u001b[39;00m \u001b[38;5;167;01mTimeoutError\u001b[39;00m:\n\u001b[0;32m    220\u001b[0m     \u001b[38;5;66;03m# if the directory is already locked, then wait but do not do anything.\u001b[39;00m\n\u001b[0;32m    221\u001b[0m     \u001b[38;5;28;01mwith\u001b[39;00m TempFileLock(local_path, timeout\u001b[38;5;241m=\u001b[39m\u001b[38;5;241m-\u001b[39m\u001b[38;5;241m1\u001b[39m):\n",
      "File \u001b[1;32mc:\\Users\\johan\\anaconda3\\envs\\dl\\Lib\\site-packages\\ray\\train\\_internal\\storage.py:184\u001b[0m, in \u001b[0;36m_download_from_fs_path\u001b[1;34m(fs, fs_path, local_path, filelock)\u001b[0m\n\u001b[0;32m    182\u001b[0m \u001b[38;5;28;01mif\u001b[39;00m \u001b[38;5;129;01mnot\u001b[39;00m exists_before:\n\u001b[0;32m    183\u001b[0m     shutil\u001b[38;5;241m.\u001b[39mrmtree(local_path, ignore_errors\u001b[38;5;241m=\u001b[39m\u001b[38;5;28;01mTrue\u001b[39;00m)\n\u001b[1;32m--> 184\u001b[0m \u001b[38;5;28;01mraise\u001b[39;00m e\n",
      "File \u001b[1;32mc:\\Users\\johan\\anaconda3\\envs\\dl\\Lib\\site-packages\\ray\\train\\_internal\\storage.py:177\u001b[0m, in \u001b[0;36m_download_from_fs_path\u001b[1;34m(fs, fs_path, local_path, filelock)\u001b[0m\n\u001b[0;32m    175\u001b[0m \u001b[38;5;28;01mif\u001b[39;00m filelock:\n\u001b[0;32m    176\u001b[0m     \u001b[38;5;28;01mwith\u001b[39;00m TempFileLock(\u001b[38;5;124mf\u001b[39m\u001b[38;5;124m\"\u001b[39m\u001b[38;5;132;01m{\u001b[39;00mos\u001b[38;5;241m.\u001b[39mpath\u001b[38;5;241m.\u001b[39mnormpath(local_path)\u001b[38;5;132;01m}\u001b[39;00m\u001b[38;5;124m.lock\u001b[39m\u001b[38;5;124m\"\u001b[39m):\n\u001b[1;32m--> 177\u001b[0m         _pyarrow_fs_copy_files(fs_path, local_path, source_filesystem\u001b[38;5;241m=\u001b[39mfs)\n\u001b[0;32m    178\u001b[0m \u001b[38;5;28;01melse\u001b[39;00m:\n\u001b[0;32m    179\u001b[0m     _pyarrow_fs_copy_files(fs_path, local_path, source_filesystem\u001b[38;5;241m=\u001b[39mfs)\n",
      "File \u001b[1;32mc:\\Users\\johan\\anaconda3\\envs\\dl\\Lib\\site-packages\\ray\\train\\_internal\\storage.py:110\u001b[0m, in \u001b[0;36m_pyarrow_fs_copy_files\u001b[1;34m(source, destination, source_filesystem, destination_filesystem, **kwargs)\u001b[0m\n\u001b[0;32m    107\u001b[0m \u001b[38;5;66;03m# Use a large chunk size to speed up large checkpoint transfers.\u001b[39;00m\n\u001b[0;32m    108\u001b[0m kwargs\u001b[38;5;241m.\u001b[39msetdefault(\u001b[38;5;124m\"\u001b[39m\u001b[38;5;124mchunk_size\u001b[39m\u001b[38;5;124m\"\u001b[39m, \u001b[38;5;241m64\u001b[39m \u001b[38;5;241m*\u001b[39m \u001b[38;5;241m1024\u001b[39m \u001b[38;5;241m*\u001b[39m \u001b[38;5;241m1024\u001b[39m)\n\u001b[1;32m--> 110\u001b[0m \u001b[38;5;28;01mreturn\u001b[39;00m pyarrow\u001b[38;5;241m.\u001b[39mfs\u001b[38;5;241m.\u001b[39mcopy_files(\n\u001b[0;32m    111\u001b[0m     source,\n\u001b[0;32m    112\u001b[0m     destination,\n\u001b[0;32m    113\u001b[0m     source_filesystem\u001b[38;5;241m=\u001b[39msource_filesystem,\n\u001b[0;32m    114\u001b[0m     destination_filesystem\u001b[38;5;241m=\u001b[39mdestination_filesystem,\n\u001b[0;32m    115\u001b[0m     \u001b[38;5;241m*\u001b[39m\u001b[38;5;241m*\u001b[39mkwargs,\n\u001b[0;32m    116\u001b[0m )\n",
      "File \u001b[1;32mc:\\Users\\johan\\anaconda3\\envs\\dl\\Lib\\site-packages\\pyarrow\\fs.py:259\u001b[0m, in \u001b[0;36mcopy_files\u001b[1;34m(source, destination, source_filesystem, destination_filesystem, chunk_size, use_threads)\u001b[0m\n\u001b[0;32m    257\u001b[0m \u001b[38;5;28;01mif\u001b[39;00m file_info\u001b[38;5;241m.\u001b[39mtype \u001b[38;5;241m==\u001b[39m FileType\u001b[38;5;241m.\u001b[39mDirectory:\n\u001b[0;32m    258\u001b[0m     source_sel \u001b[38;5;241m=\u001b[39m FileSelector(source_path, recursive\u001b[38;5;241m=\u001b[39m\u001b[38;5;28;01mTrue\u001b[39;00m)\n\u001b[1;32m--> 259\u001b[0m     _copy_files_selector(source_fs, source_sel,\n\u001b[0;32m    260\u001b[0m                          destination_fs, destination_path,\n\u001b[0;32m    261\u001b[0m                          chunk_size, use_threads)\n\u001b[0;32m    262\u001b[0m \u001b[38;5;28;01melse\u001b[39;00m:\n\u001b[0;32m    263\u001b[0m     _copy_files(source_fs, source_path,\n\u001b[0;32m    264\u001b[0m                 destination_fs, destination_path,\n\u001b[0;32m    265\u001b[0m                 chunk_size, use_threads)\n",
      "File \u001b[1;32mc:\\Users\\johan\\anaconda3\\envs\\dl\\Lib\\site-packages\\pyarrow\\_fs.pyx:1630\u001b[0m, in \u001b[0;36mpyarrow._fs._copy_files_selector\u001b[1;34m()\u001b[0m\n",
      "File \u001b[1;32mc:\\Users\\johan\\anaconda3\\envs\\dl\\Lib\\site-packages\\pyarrow\\error.pxi:91\u001b[0m, in \u001b[0;36mpyarrow.lib.check_status\u001b[1;34m()\u001b[0m\n",
      "\u001b[1;31mOSError\u001b[0m: [WinError 112] Failed copying 'C:/Users/johan/ray_results/train_model_cv_2024-11-26_18-30-35/trial_2b60a_00035_lr=1.0e-04_opt=RMSprop_bs=4/checkpoint_000004/checkpoint.pt' to 'C:/Users/johan/AppData/Local/Temp/checkpoint_tmp_eb1ac5460b9145e2847271a019179487/checkpoint.pt'. Detail: [Windows error 112] Der er ikke tilstrækkelig plads på disken.\r\n"
     ]
    }
   ],
   "source": [
    "import os\n",
    "from ray import tune\n",
    "from ray.train import Result\n",
    "\n",
    "storage_path = r\"C:\\Users\\johan\\ray_results\"\n",
    "exp_name = \"train_model_cv_2024-11-26_18-30-35\"\n",
    "experiment_path = os.path.join(storage_path, exp_name)\n",
    "print(f\"Loading results from {experiment_path}...\")\n",
    "\n",
    "restored_tuner = tune.Tuner.restore(experiment_path, trainable=train_model_cv)\n",
    "result_grid = restored_tuner.get_results()\n",
    "\n",
    "# Check if there have been errors\n",
    "if result_grid.errors:\n",
    "    print(\"One of the trials failed!\")\n",
    "else:\n",
    "    print(\"No errors!\")\n",
    "    \n",
    "# Get the result with the maximum test set `mean_accuracy`\n",
    "best_result: Result = result_grid.get_best_result()\n",
    "\n",
    "# Load the best checkpoint if it exists\n",
    "if best_result.checkpoint:\n",
    "    checkpoint_path = os.path.join(best_result.checkpoint.to_directory(), \"checkpoint.pt\")\n",
    "else:\n",
    "    raise ValueError(\"No checkpoint found for the best result.\")"
   ]
  },
  {
   "cell_type": "code",
   "execution_count": null,
   "metadata": {},
   "outputs": [
    {
     "name": "stderr",
     "output_type": "stream",
     "text": [
      "2024-11-26 16:39:38,781\tWARNING experiment_analysis.py:180 -- Failed to fetch metrics for 40 trial(s):\n",
      "- train_model_cv_83259_00005: FileNotFoundError('Could not fetch metrics for train_model_cv_83259_00005: both result.json and progress.csv were not found at C:/Users/johan/ray_results/train_model_cv_2024-11-26_16-31-22/trial_83259_00005_lr=1.0e-04_opt=Adam_bs=4')\n",
      "- train_model_cv_83259_00022: FileNotFoundError('Could not fetch metrics for train_model_cv_83259_00022: both result.json and progress.csv were not found at C:/Users/johan/ray_results/train_model_cv_2024-11-26_16-31-22/trial_83259_00022_lr=1.0e-04_opt=SGD_bs=4')\n",
      "- train_model_cv_83259_00017: FileNotFoundError('Could not fetch metrics for train_model_cv_83259_00017: both result.json and progress.csv were not found at C:/Users/johan/ray_results/train_model_cv_2024-11-26_16-31-22/trial_83259_00017_lr=1.0e-04_opt=SGD_bs=4')\n",
      "- train_model_cv_83259_00033: FileNotFoundError('Could not fetch metrics for train_model_cv_83259_00033: both result.json and progress.csv were not found at C:/Users/johan/ray_results/train_model_cv_2024-11-26_16-31-22/trial_83259_00033_lr=1.0e-04_opt=RMSprop_bs=4')\n",
      "- train_model_cv_83259_00015: FileNotFoundError('Could not fetch metrics for train_model_cv_83259_00015: both result.json and progress.csv were not found at C:/Users/johan/ray_results/train_model_cv_2024-11-26_16-31-22/trial_83259_00015_lr=1.0e-04_opt=SGD_bs=4')\n",
      "- train_model_cv_83259_00010: FileNotFoundError('Could not fetch metrics for train_model_cv_83259_00010: both result.json and progress.csv were not found at C:/Users/johan/ray_results/train_model_cv_2024-11-26_16-31-22/trial_83259_00010_lr=1.0e-04_opt=Adam_bs=4')\n",
      "- train_model_cv_83259_00009: FileNotFoundError('Could not fetch metrics for train_model_cv_83259_00009: both result.json and progress.csv were not found at C:/Users/johan/ray_results/train_model_cv_2024-11-26_16-31-22/trial_83259_00009_lr=1.0e-04_opt=Adam_bs=4')\n",
      "- train_model_cv_83259_00013: FileNotFoundError('Could not fetch metrics for train_model_cv_83259_00013: both result.json and progress.csv were not found at C:/Users/johan/ray_results/train_model_cv_2024-11-26_16-31-22/trial_83259_00013_lr=1.0e-04_opt=Adam_bs=4')\n",
      "- train_model_cv_83259_00023: FileNotFoundError('Could not fetch metrics for train_model_cv_83259_00023: both result.json and progress.csv were not found at C:/Users/johan/ray_results/train_model_cv_2024-11-26_16-31-22/trial_83259_00023_lr=1.0e-04_opt=SGD_bs=4')\n",
      "- train_model_cv_83259_00029: FileNotFoundError('Could not fetch metrics for train_model_cv_83259_00029: both result.json and progress.csv were not found at C:/Users/johan/ray_results/train_model_cv_2024-11-26_16-31-22/trial_83259_00029_lr=1.0e-04_opt=SGD_bs=4')\n",
      "- train_model_cv_83259_00030: FileNotFoundError('Could not fetch metrics for train_model_cv_83259_00030: both result.json and progress.csv were not found at C:/Users/johan/ray_results/train_model_cv_2024-11-26_16-31-22/trial_83259_00030_lr=1.0e-04_opt=RMSprop_bs=4')\n",
      "- train_model_cv_83259_00040: FileNotFoundError('Could not fetch metrics for train_model_cv_83259_00040: both result.json and progress.csv were not found at C:/Users/johan/ray_results/train_model_cv_2024-11-26_16-31-22/trial_83259_00040_lr=1.0e-04_opt=RMSprop_bs=4')\n",
      "- train_model_cv_83259_00044: FileNotFoundError('Could not fetch metrics for train_model_cv_83259_00044: both result.json and progress.csv were not found at C:/Users/johan/ray_results/train_model_cv_2024-11-26_16-31-22/trial_83259_00044_lr=1.0e-04_opt=RMSprop_bs=4')\n",
      "- train_model_cv_83259_00034: FileNotFoundError('Could not fetch metrics for train_model_cv_83259_00034: both result.json and progress.csv were not found at C:/Users/johan/ray_results/train_model_cv_2024-11-26_16-31-22/trial_83259_00034_lr=1.0e-04_opt=RMSprop_bs=4')\n",
      "- train_model_cv_83259_00020: FileNotFoundError('Could not fetch metrics for train_model_cv_83259_00020: both result.json and progress.csv were not found at C:/Users/johan/ray_results/train_model_cv_2024-11-26_16-31-22/trial_83259_00020_lr=1.0e-04_opt=SGD_bs=4')\n",
      "- train_model_cv_83259_00025: FileNotFoundError('Could not fetch metrics for train_model_cv_83259_00025: both result.json and progress.csv were not found at C:/Users/johan/ray_results/train_model_cv_2024-11-26_16-31-22/trial_83259_00025_lr=1.0e-04_opt=SGD_bs=4')\n",
      "- train_model_cv_83259_00028: FileNotFoundError('Could not fetch metrics for train_model_cv_83259_00028: both result.json and progress.csv were not found at C:/Users/johan/ray_results/train_model_cv_2024-11-26_16-31-22/trial_83259_00028_lr=1.0e-04_opt=SGD_bs=4')\n",
      "- train_model_cv_83259_00032: FileNotFoundError('Could not fetch metrics for train_model_cv_83259_00032: both result.json and progress.csv were not found at C:/Users/johan/ray_results/train_model_cv_2024-11-26_16-31-22/trial_83259_00032_lr=1.0e-04_opt=RMSprop_bs=4')\n",
      "- train_model_cv_83259_00039: FileNotFoundError('Could not fetch metrics for train_model_cv_83259_00039: both result.json and progress.csv were not found at C:/Users/johan/ray_results/train_model_cv_2024-11-26_16-31-22/trial_83259_00039_lr=1.0e-04_opt=RMSprop_bs=4')\n",
      "- train_model_cv_83259_00031: FileNotFoundError('Could not fetch metrics for train_model_cv_83259_00031: both result.json and progress.csv were not found at C:/Users/johan/ray_results/train_model_cv_2024-11-26_16-31-22/trial_83259_00031_lr=1.0e-04_opt=RMSprop_bs=4')\n",
      "- train_model_cv_83259_00035: FileNotFoundError('Could not fetch metrics for train_model_cv_83259_00035: both result.json and progress.csv were not found at C:/Users/johan/ray_results/train_model_cv_2024-11-26_16-31-22/trial_83259_00035_lr=1.0e-04_opt=RMSprop_bs=4')\n",
      "- train_model_cv_83259_00036: FileNotFoundError('Could not fetch metrics for train_model_cv_83259_00036: both result.json and progress.csv were not found at C:/Users/johan/ray_results/train_model_cv_2024-11-26_16-31-22/trial_83259_00036_lr=1.0e-04_opt=RMSprop_bs=4')\n",
      "- train_model_cv_83259_00012: FileNotFoundError('Could not fetch metrics for train_model_cv_83259_00012: both result.json and progress.csv were not found at C:/Users/johan/ray_results/train_model_cv_2024-11-26_16-31-22/trial_83259_00012_lr=1.0e-04_opt=Adam_bs=4')\n",
      "- train_model_cv_83259_00016: FileNotFoundError('Could not fetch metrics for train_model_cv_83259_00016: both result.json and progress.csv were not found at C:/Users/johan/ray_results/train_model_cv_2024-11-26_16-31-22/trial_83259_00016_lr=1.0e-04_opt=SGD_bs=4')\n",
      "- train_model_cv_83259_00019: FileNotFoundError('Could not fetch metrics for train_model_cv_83259_00019: both result.json and progress.csv were not found at C:/Users/johan/ray_results/train_model_cv_2024-11-26_16-31-22/trial_83259_00019_lr=1.0e-04_opt=SGD_bs=4')\n",
      "- train_model_cv_83259_00024: FileNotFoundError('Could not fetch metrics for train_model_cv_83259_00024: both result.json and progress.csv were not found at C:/Users/johan/ray_results/train_model_cv_2024-11-26_16-31-22/trial_83259_00024_lr=1.0e-04_opt=SGD_bs=4')\n",
      "- train_model_cv_83259_00042: FileNotFoundError('Could not fetch metrics for train_model_cv_83259_00042: both result.json and progress.csv were not found at C:/Users/johan/ray_results/train_model_cv_2024-11-26_16-31-22/trial_83259_00042_lr=1.0e-04_opt=RMSprop_bs=4')\n",
      "- train_model_cv_83259_00018: FileNotFoundError('Could not fetch metrics for train_model_cv_83259_00018: both result.json and progress.csv were not found at C:/Users/johan/ray_results/train_model_cv_2024-11-26_16-31-22/trial_83259_00018_lr=1.0e-04_opt=SGD_bs=4')\n",
      "- train_model_cv_83259_00011: FileNotFoundError('Could not fetch metrics for train_model_cv_83259_00011: both result.json and progress.csv were not found at C:/Users/johan/ray_results/train_model_cv_2024-11-26_16-31-22/trial_83259_00011_lr=1.0e-04_opt=Adam_bs=4')\n",
      "- train_model_cv_83259_00021: FileNotFoundError('Could not fetch metrics for train_model_cv_83259_00021: both result.json and progress.csv were not found at C:/Users/johan/ray_results/train_model_cv_2024-11-26_16-31-22/trial_83259_00021_lr=1.0e-04_opt=SGD_bs=4')\n",
      "- train_model_cv_83259_00038: FileNotFoundError('Could not fetch metrics for train_model_cv_83259_00038: both result.json and progress.csv were not found at C:/Users/johan/ray_results/train_model_cv_2024-11-26_16-31-22/trial_83259_00038_lr=1.0e-04_opt=RMSprop_bs=4')\n",
      "- train_model_cv_83259_00006: FileNotFoundError('Could not fetch metrics for train_model_cv_83259_00006: both result.json and progress.csv were not found at C:/Users/johan/ray_results/train_model_cv_2024-11-26_16-31-22/trial_83259_00006_lr=1.0e-04_opt=Adam_bs=4')\n",
      "- train_model_cv_83259_00014: FileNotFoundError('Could not fetch metrics for train_model_cv_83259_00014: both result.json and progress.csv were not found at C:/Users/johan/ray_results/train_model_cv_2024-11-26_16-31-22/trial_83259_00014_lr=1.0e-04_opt=Adam_bs=4')\n",
      "- train_model_cv_83259_00027: FileNotFoundError('Could not fetch metrics for train_model_cv_83259_00027: both result.json and progress.csv were not found at C:/Users/johan/ray_results/train_model_cv_2024-11-26_16-31-22/trial_83259_00027_lr=1.0e-04_opt=SGD_bs=4')\n",
      "- train_model_cv_83259_00041: FileNotFoundError('Could not fetch metrics for train_model_cv_83259_00041: both result.json and progress.csv were not found at C:/Users/johan/ray_results/train_model_cv_2024-11-26_16-31-22/trial_83259_00041_lr=1.0e-04_opt=RMSprop_bs=4')\n",
      "- train_model_cv_83259_00043: FileNotFoundError('Could not fetch metrics for train_model_cv_83259_00043: both result.json and progress.csv were not found at C:/Users/johan/ray_results/train_model_cv_2024-11-26_16-31-22/trial_83259_00043_lr=1.0e-04_opt=RMSprop_bs=4')\n",
      "- train_model_cv_83259_00007: FileNotFoundError('Could not fetch metrics for train_model_cv_83259_00007: both result.json and progress.csv were not found at C:/Users/johan/ray_results/train_model_cv_2024-11-26_16-31-22/trial_83259_00007_lr=1.0e-04_opt=Adam_bs=4')\n",
      "- train_model_cv_83259_00026: FileNotFoundError('Could not fetch metrics for train_model_cv_83259_00026: both result.json and progress.csv were not found at C:/Users/johan/ray_results/train_model_cv_2024-11-26_16-31-22/trial_83259_00026_lr=1.0e-04_opt=SGD_bs=4')\n",
      "- train_model_cv_83259_00037: FileNotFoundError('Could not fetch metrics for train_model_cv_83259_00037: both result.json and progress.csv were not found at C:/Users/johan/ray_results/train_model_cv_2024-11-26_16-31-22/trial_83259_00037_lr=1.0e-04_opt=RMSprop_bs=4')\n",
      "- train_model_cv_83259_00008: FileNotFoundError('Could not fetch metrics for train_model_cv_83259_00008: both result.json and progress.csv were not found at C:/Users/johan/ray_results/train_model_cv_2024-11-26_16-31-22/trial_83259_00008_lr=1.0e-04_opt=Adam_bs=4')\n"
     ]
    },
    {
     "name": "stdout",
     "output_type": "stream",
     "text": [
      "Loading results from C:\\Users\\johan\\ray_results\\train_model_cv_2024-11-26_16-31-22...\n",
      "One of the trials failed!\n",
      "Number of results: 45\n"
     ]
    },
    {
     "ename": "KeyError",
     "evalue": "'loss'",
     "output_type": "error",
     "traceback": [
      "\u001b[1;31m---------------------------------------------------------------------------\u001b[0m",
      "\u001b[1;31mKeyError\u001b[0m                                  Traceback (most recent call last)",
      "Cell \u001b[1;32mIn[5], line 27\u001b[0m\n\u001b[0;32m     24\u001b[0m         \u001b[38;5;28mprint\u001b[39m(\u001b[38;5;124mf\u001b[39m\u001b[38;5;124m\"\u001b[39m\u001b[38;5;124mTrial #\u001b[39m\u001b[38;5;132;01m{\u001b[39;00mi\u001b[38;5;132;01m}\u001b[39;00m\u001b[38;5;124m had an error:\u001b[39m\u001b[38;5;124m\"\u001b[39m, result\u001b[38;5;241m.\u001b[39merror)\n\u001b[0;32m     25\u001b[0m         \u001b[38;5;28;01mcontinue\u001b[39;00m\n\u001b[1;32m---> 27\u001b[0m     \u001b[38;5;28mprint\u001b[39m(\u001b[38;5;124mf\u001b[39m\u001b[38;5;124m\"\u001b[39m\u001b[38;5;124mTrial #\u001b[39m\u001b[38;5;132;01m{\u001b[39;00mi\u001b[38;5;132;01m}\u001b[39;00m\u001b[38;5;124m finished successfully with a loss of: \u001b[39m\u001b[38;5;132;01m{\u001b[39;00mresult\u001b[38;5;241m.\u001b[39mmetrics[\u001b[38;5;124m'\u001b[39m\u001b[38;5;124mloss\u001b[39m\u001b[38;5;124m'\u001b[39m]\u001b[38;5;132;01m}\u001b[39;00m\u001b[38;5;124m\"\u001b[39m)\n\u001b[0;32m     29\u001b[0m results_df \u001b[38;5;241m=\u001b[39m result_grid\u001b[38;5;241m.\u001b[39mget_dataframe()\n\u001b[0;32m     30\u001b[0m results_df[[\u001b[38;5;124m\"\u001b[39m\u001b[38;5;124mtraining_iteration\u001b[39m\u001b[38;5;124m\"\u001b[39m, \u001b[38;5;124m\"\u001b[39m\u001b[38;5;124mloss\u001b[39m\u001b[38;5;124m\"\u001b[39m]]\n",
      "\u001b[1;31mKeyError\u001b[0m: 'loss'"
     ]
    }
   ],
   "source": [
    "import os\n",
    "from ray import tune\n",
    "from ray.train import Result\n",
    "\n",
    "storage_path = r\"C:\\Users\\johan\\ray_results\"\n",
    "exp_name = \"train_model_cv_2024-11-26_16-31-22\"\n",
    "experiment_path = os.path.join(storage_path, exp_name)\n",
    "print(f\"Loading results from {experiment_path}...\")\n",
    "\n",
    "restored_tuner = tune.Tuner.restore(experiment_path, trainable=train_model_cv)\n",
    "result_grid = restored_tuner.get_results()\n",
    "\n",
    "# Check if there have been errors\n",
    "if result_grid.errors:\n",
    "    print(\"One of the trials failed!\")\n",
    "else:\n",
    "    print(\"No errors!\")\n",
    "\n",
    "num_results = len(result_grid)\n",
    "print(\"Number of results:\", num_results)\n",
    "\n",
    "# Iterate over results\n",
    "for i, result in enumerate(result_grid):\n",
    "    if result.error:\n",
    "        print(f\"Trial #{i} had an error:\", result.error)\n",
    "        continue\n",
    "\n",
    "    print(f\"Trial #{i} finished successfully with a loss of: {result.metrics['loss']}\")\n",
    "\n",
    "results_df = result_grid.get_dataframe()\n",
    "results_df[[\"training_iteration\", \"loss\"]]\n",
    "\n",
    "print(\"Shortest training time:\", results_df[\"time_total_s\"].min())\n",
    "print(\"Longest training time:\", results_df[\"time_total_s\"].max())\n",
    "\n",
    "ax = None\n",
    "for result in result_grid:\n",
    "    label = f\"lr={result.config['lr']:.4f}, batch_size={result.config['batch_size']}, optimizer={result.config['optimizer']}, fold={result.config['fold']}\"\n",
    "    if ax is None:\n",
    "        ax = result.metrics_dataframe.plot(\"training_iteration\", \"loss\", label=label)\n",
    "    else:\n",
    "        result.metrics_dataframe.plot(\"training_iteration\", \"loss\", ax=ax, label=label)\n",
    "ax.set_title(\"Loss vs. Training Iteration for All Trials\")\n",
    "ax.set_ylabel(\"Loss\")\n",
    "\n",
    "# Get the result with the maximum test set `mean_accuracy`\n",
    "best_result: Result = result_grid.get_best_result()\n",
    "\n",
    "print(\"Best trial config: {}\".format(best_result.config))\n",
    "\n",
    "# Get the best trial's final loss and accuracy\n",
    "best_loss = best_result.metrics[\"loss\"]\n",
    "print(\"Best trial final test set loss: {}\".format(best_loss))\n",
    "best_accuracy = best_result.metrics[\"accuracy\"]\n",
    "print(\"Best trial final test set accuracy: {}\".format(best_accuracy))\n",
    "\n",
    "# Load the best model\n",
    "if torch.cuda.is_available():\n",
    "    device = torch.device(\"cuda:0\")\n",
    "else:\n",
    "    device = torch.device(\"cpu\")\n",
    "\n",
    "best_trained_model = Net().to(device)\n",
    "\n",
    "# Load the best checkpoint\n",
    "checkpoint_path = os.path.join(best_result.checkpoint.to_directory(), \"checkpoint.pt\")\n",
    "\n",
    "model_state, optimizer_state = torch.load(checkpoint_path, weights_only=True)\n",
    "best_trained_model.load_state_dict(model_state)\n",
    "\n",
    "# Set the model to evaluation mode\n",
    "best_trained_model.eval()\n",
    "\n",
    "# Load a sample image from the test dataset\n",
    "root_dir = r\"D:\\OneDrive - Aarhus Universitet\\9. Semester\\Deep Learning\\data_gentuity\"\n",
    "transform = transforms.Compose([\n",
    "    transforms.Resize((256, 256), interpolation=Image.NEAREST),\n",
    "    transforms.ToTensor(),\n",
    "])\n",
    "test_dataset = OCTDataset(root_dir, transform=transform, train=False, is_gentuity=True)\n",
    "random_indices = np.random.choice(len(test_dataset), 1, replace=False)\n",
    "sample_image, sample_mask, _, _ = test_dataset[random_indices[0]]  # Change the index to load a different sample\n",
    "\n",
    "# Move the sample image to the appropriate device\n",
    "sample_image = sample_image.to(device).unsqueeze(0)  # Add batch dimension\n",
    "\n",
    "# Make a prediction\n",
    "with torch.no_grad():\n",
    "    prediction = best_trained_model(sample_image)\n",
    "\n",
    "# Convert the prediction to a binary mask\n",
    "predicted_mask = (prediction > 0.5).float()\n",
    "\n",
    "# Plot the sample image, ground truth mask, and predicted mask\n",
    "fig, ax = plt.subplots(1, 3, figsize=(18, 6))\n",
    "\n",
    "ax[0].imshow(sample_image.squeeze().permute(1, 2, 0).cpu().numpy())\n",
    "ax[0].set_title(\"Sample Image\")\n",
    "ax[0].axis('off')\n",
    "\n",
    "ax[1].imshow(sample_mask.squeeze().cpu().numpy(), cmap='gray')\n",
    "ax[1].set_title(\"Ground Truth Mask\")\n",
    "ax[1].axis('off')\n",
    "\n",
    "ax[2].imshow(predicted_mask.squeeze().cpu().numpy(), cmap='gray')\n",
    "ax[2].set_title(\"Predicted Mask\")\n",
    "ax[2].axis('off')\n",
    "\n",
    "plt.show()"
   ]
  }
 ],
 "metadata": {
  "kernelspec": {
   "display_name": "dl",
   "language": "python",
   "name": "python3"
  },
  "language_info": {
   "codemirror_mode": {
    "name": "ipython",
    "version": 3
   },
   "file_extension": ".py",
   "mimetype": "text/x-python",
   "name": "python",
   "nbconvert_exporter": "python",
   "pygments_lexer": "ipython3",
   "version": "3.11.9"
  }
 },
 "nbformat": 4,
 "nbformat_minor": 2
}

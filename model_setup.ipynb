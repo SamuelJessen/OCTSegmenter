{
 "cells": [
  {
   "cell_type": "code",
   "execution_count": null,
   "metadata": {},
   "outputs": [],
   "source": [
    "import torch\n",
    "import torch.nn as nn\n",
    "from torchvision import models\n",
    "\n",
    "class UNetWithResNet(nn.Module):\n",
    "    def __init__(self, pretrained=True, out_channels=1):\n",
    "        super(UNetWithResNet, self).__init__()\n",
    "        \n",
    "        # Load a pretrained ResNet model (e.g., ResNet34)\n",
    "        resnet = models.resnet34(pretrained=pretrained)\n",
    "        \n",
    "        # Encoder: Remove the classification head (fully connected layers)\n",
    "        self.encoder = nn.Sequential(\n",
    "            resnet.conv1,   # Initial convolution layer\n",
    "            resnet.bn1,     # BatchNorm\n",
    "            resnet.relu,    # ReLU activation\n",
    "            resnet.maxpool, # Max pooling\n",
    "            resnet.layer1,  # First residual block\n",
    "            resnet.layer2,  # Second residual block\n",
    "            resnet.layer3,  # Third residual block\n",
    "            resnet.layer4   # Fourth residual block\n",
    "        )\n",
    "        \n",
    "        # Decoder: Transposed convolutions (Upsampling layers) with skip connections\n",
    "        self.upconv4 = self.decoder_block(512, 256)\n",
    "        self.upconv3 = self.decoder_block(256, 128)\n",
    "        self.upconv2 = self.decoder_block(128, 64)\n",
    "        self.upconv1 = self.decoder_block(64, 64)\n",
    "        \n",
    "        # Final output layer (1 output channel for binary mask)\n",
    "        self.final_conv = nn.Conv2d(64, out_channels, kernel_size=1)\n",
    "    \n",
    "    def decoder_block(self, in_channels, out_channels):\n",
    "        \"\"\" Helper function to create decoder blocks for upsampling \"\"\"\n",
    "        return nn.Sequential(\n",
    "            nn.ConvTranspose2d(in_channels, out_channels, kernel_size=2, stride=2),\n",
    "            nn.ReLU(inplace=True),\n",
    "            nn.Conv2d(out_channels, out_channels, kernel_size=3, padding=1),\n",
    "            nn.ReLU(inplace=True),\n",
    "        )\n",
    "    \n",
    "    def forward(self, x):\n",
    "        # Encoder forward pass\n",
    "        enc1 = self.encoder[0](x)  # conv1\n",
    "        enc2 = self.encoder[4](enc1)  # layer1\n",
    "        enc3 = self.encoder[5](enc2)  # layer2\n",
    "        enc4 = self.encoder[6](enc3)  # layer3\n",
    "        bottleneck = self.encoder[7](enc4)  # layer4\n",
    "        \n",
    "        # Decoder forward pass with skip connections\n",
    "        dec4 = self.upconv4(bottleneck)\n",
    "        dec3 = self.upconv3(dec4 + enc4)\n",
    "        dec2 = self.upconv2(dec3 + enc3)\n",
    "        dec1 = self.upconv1(dec2 + enc2)\n",
    "        \n",
    "        return self.final_conv(dec1 + enc1)\n",
    "\n"
   ]
  },
  {
   "cell_type": "code",
   "execution_count": null,
   "metadata": {},
   "outputs": [],
   "source": []
  }
 ],
 "metadata": {
  "kernelspec": {
   "display_name": "bmsp",
   "language": "python",
   "name": "python3"
  },
  "language_info": {
   "name": "python",
   "version": "3.11.7"
  }
 },
 "nbformat": 4,
 "nbformat_minor": 2
}
